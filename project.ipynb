{
 "cells": [
  {
   "cell_type": "code",
   "execution_count": 1,
   "metadata": {
    "collapsed": true
   },
   "outputs": [],
   "source": [
    "import mysql.connector as mysql\n",
    "from mysql.connector import Error\n",
    "import pandas as pd\n",
    "import numpy as np"
   ]
  },
  {
   "cell_type": "code",
   "execution_count": 2,
   "outputs": [],
   "source": [
    "dataset = pd.read_csv(\"Airplane_Crashes_and_Fatalities_Since_1908.csv\")"
   ],
   "metadata": {
    "collapsed": false
   }
  },
  {
   "cell_type": "code",
   "execution_count": 3,
   "outputs": [
    {
     "name": "stdout",
     "output_type": "stream",
     "text": [
      "[('electronics',), ('example_database',), ('GoShare',), ('information_schema',), ('mid_practice',), ('movies',), ('mysql',), ('parents',), ('performance_schema',), ('sys',)]\n",
      "Database is created\n"
     ]
    }
   ],
   "source": [
    "db_name='airplane_crashes'\n",
    "try:\n",
    "    mydb = mysql.connect(host='localhost', user='root', password='franci22') # you can add the auth_plugin here too (ref line 26)\n",
    "    if mydb.is_connected():\n",
    "        mycursor = mydb.cursor()\n",
    "        mycursor.execute('SHOW DATABASES')\n",
    "        result = mycursor.fetchall()\n",
    "        print(result)\n",
    "        for x in result:\n",
    "            if db_name == x[0]:\n",
    "                mycursor.execute('DROP DATABASE ' + db_name) # delete old database\n",
    "                mydb.commit() # make the changes official\n",
    "                print(\"The database already exists! The old database has been deleted!)\")\n",
    "\n",
    "        mycursor.execute(\"CREATE DATABASE \"+ db_name)\n",
    "        print(\"Database is created\")\n",
    "except Error as e:\n",
    "    print(\"Error while connecting to MySQL\", e)"
   ],
   "metadata": {
    "collapsed": false
   }
  },
  {
   "cell_type": "code",
   "execution_count": 4,
   "outputs": [],
   "source": [
    "mycursor.execute('USE' + ' ' + db_name)"
   ],
   "metadata": {
    "collapsed": false
   }
  },
  {
   "cell_type": "code",
   "execution_count": 5,
   "outputs": [],
   "source": [
    "#create tables\n",
    "mycursor.execute(\n",
    "      '''\n",
    "        CREATE TABLE `Airplane` (\n",
    "          `registration` varchar(100),\n",
    "          `serial_number` varchar(100) NOT NULL,\n",
    "          `operator` varchar(100),\n",
    "          `type` varchar(100),\n",
    "          PRIMARY KEY (registration, serial_number)\n",
    "        );\n",
    "      '''\n",
    "      )"
   ],
   "metadata": {
    "collapsed": false
   }
  },
  {
   "cell_type": "code",
   "execution_count": 6,
   "outputs": [],
   "source": [
    "mycursor.execute(\n",
    "      '''\n",
    "        CREATE TABLE `Flight` (\n",
    "           `flight_number` varchar(100),\n",
    "           `aboard` int,\n",
    "           `route` varchar(100),\n",
    "           `serial_number` varchar(100),\n",
    "           `registration` varchar(100),\n",
    "           PRIMARY KEY (`flight_number`),\n",
    "           FOREIGN KEY (`registration`, `serial_number`) REFERENCES `Airplane` (`registration`,`serial_number`)\n",
    "        );\n",
    "      '''\n",
    "      )"
   ],
   "metadata": {
    "collapsed": false
   }
  },
  {
   "cell_type": "code",
   "execution_count": 7,
   "outputs": [],
   "source": [
    "mycursor.execute(\n",
    "    '''\n",
    "        CREATE TABLE `Crash` (\n",
    "          `index` int,\n",
    "          `location` varchar(100),\n",
    "          `time` time,\n",
    "          `date` date,\n",
    "          `summary` varchar(100),\n",
    "          `serial number` varchar(100),\n",
    "          `registration` varchar(100),\n",
    "          PRIMARY KEY (`index`),\n",
    "          FOREIGN KEY (`registration`, `serial number`) REFERENCES `Airplane`(`registration`, `serial_number`)\n",
    "        );\n",
    "    '''\n",
    ")"
   ],
   "metadata": {
    "collapsed": false
   }
  },
  {
   "cell_type": "code",
   "execution_count": 8,
   "outputs": [],
   "source": [
    "mycursor.execute(\n",
    "    '''\n",
    "    CREATE TABLE `Fatalities` (\n",
    "    `number of fatalities` int,\n",
    "    `ground` int,\n",
    "    `crash index` int,\n",
    "    PRIMARY KEY (`crash index`),\n",
    "    FOREIGN KEY (`crash index`) REFERENCES `Crash`(`index`)\n",
    ");\n",
    "    '''\n",
    ")"
   ],
   "metadata": {
    "collapsed": false
   }
  },
  {
   "cell_type": "code",
   "execution_count": 15,
   "outputs": [],
   "source": [
    "selection = dataset.iloc[3196:, 1:] #take values from 1980-90 and take all columns except from the first\n",
    "null_val = selection.isnull().sum()\n",
    "selection = selection.drop(labels='Flight #', axis=1)"
   ],
   "metadata": {
    "collapsed": false
   }
  },
  {
   "cell_type": "code",
   "execution_count": 16,
   "outputs": [],
   "source": [
    "import random\n",
    "flight_number = []\n",
    "\n",
    "while len(flight_number)!=2072:\n",
    "    n = random.randint(1000, 10000)\n",
    "    if n not in flight_number:\n",
    "        flight_number.append(n)\n",
    "\n",
    "\n",
    "\n",
    "dup = {x for x in flight_number if flight_number.count(x) >1}\n",
    "#print(dup)\n",
    "selection.insert(6,'Flight#', flight_number)\n",
    "serial_num = selection.loc[3196:, 'cn/In']\n",
    "\n",
    "#print(serial_num)\n",
    "\n",
    "\n",
    "n = random.randint(100, 8000)\n",
    "if n not in serial_num:\n",
    "    selection['cn/In'].fillna(n, inplace = True)\n",
    "\n",
    "serial_num = selection.loc[3196:, 'cn/In']\n",
    "serial_num_ = list(serial_num)\n",
    "dup2 = {i for i in serial_num_ if serial_num_.count(i) >1}"
   ],
   "metadata": {
    "collapsed": false
   }
  },
  {
   "cell_type": "code",
   "execution_count": 17,
   "outputs": [],
   "source": [
    "datairplane = selection[['cn/In', 'Registration', 'Operator', 'Type']]"
   ],
   "metadata": {
    "collapsed": false
   }
  },
  {
   "cell_type": "code",
   "execution_count": 18,
   "outputs": [
    {
     "data": {
      "text/plain": "          cn/In Registration                                     Operator  \\\n3196        474       HH-CNC                              Haïti Air Inter   \n3197          0       N442NC                              Private charter   \n3198  19817/537       EP-IRD                       Iran National Airlines   \n3199      45/3N       PK-PCX                           Pelita Air Service   \n3200        545         5003          Military - Union of Burma Air Force   \n...         ...          ...                                          ...   \n5191       2570       PP-MUM  BHS - Brazilian Helicopter Service Air Taxi   \n5192          0            0                       United Nations Mission   \n5193     UE-322       5N-JAH                    Trade Wings Aviation Ltd.   \n5194  1AJ007-17       PZ-TSO                           Blue Wing Airlines   \n5195     AC-600       VH-OZA                           Avtex Air Services   \n\n                                   Type  \n3196         Britten Norman BN Islander  \n3197                Cessna 441 Conquest  \n3198                    Boeing B-727-86  \n3199               CASA 212 Aviocar 100  \n3200                  Fairchild FH-227H  \n...                                 ...  \n5191     Eurocopter  AS332L2 Super Puma  \n5192                              Mi-17  \n5193                   Beechcraft 1900D  \n5194                      Antonov An-28  \n5195  Swearingen SA227AC Metroliner III  \n\n[2000 rows x 4 columns]",
      "text/html": "<div>\n<style scoped>\n    .dataframe tbody tr th:only-of-type {\n        vertical-align: middle;\n    }\n\n    .dataframe tbody tr th {\n        vertical-align: top;\n    }\n\n    .dataframe thead th {\n        text-align: right;\n    }\n</style>\n<table border=\"1\" class=\"dataframe\">\n  <thead>\n    <tr style=\"text-align: right;\">\n      <th></th>\n      <th>cn/In</th>\n      <th>Registration</th>\n      <th>Operator</th>\n      <th>Type</th>\n    </tr>\n  </thead>\n  <tbody>\n    <tr>\n      <th>3196</th>\n      <td>474</td>\n      <td>HH-CNC</td>\n      <td>Haïti Air Inter</td>\n      <td>Britten Norman BN Islander</td>\n    </tr>\n    <tr>\n      <th>3197</th>\n      <td>0</td>\n      <td>N442NC</td>\n      <td>Private charter</td>\n      <td>Cessna 441 Conquest</td>\n    </tr>\n    <tr>\n      <th>3198</th>\n      <td>19817/537</td>\n      <td>EP-IRD</td>\n      <td>Iran National Airlines</td>\n      <td>Boeing B-727-86</td>\n    </tr>\n    <tr>\n      <th>3199</th>\n      <td>45/3N</td>\n      <td>PK-PCX</td>\n      <td>Pelita Air Service</td>\n      <td>CASA 212 Aviocar 100</td>\n    </tr>\n    <tr>\n      <th>3200</th>\n      <td>545</td>\n      <td>5003</td>\n      <td>Military - Union of Burma Air Force</td>\n      <td>Fairchild FH-227H</td>\n    </tr>\n    <tr>\n      <th>...</th>\n      <td>...</td>\n      <td>...</td>\n      <td>...</td>\n      <td>...</td>\n    </tr>\n    <tr>\n      <th>5191</th>\n      <td>2570</td>\n      <td>PP-MUM</td>\n      <td>BHS - Brazilian Helicopter Service Air Taxi</td>\n      <td>Eurocopter  AS332L2 Super Puma</td>\n    </tr>\n    <tr>\n      <th>5192</th>\n      <td>0</td>\n      <td>0</td>\n      <td>United Nations Mission</td>\n      <td>Mi-17</td>\n    </tr>\n    <tr>\n      <th>5193</th>\n      <td>UE-322</td>\n      <td>5N-JAH</td>\n      <td>Trade Wings Aviation Ltd.</td>\n      <td>Beechcraft 1900D</td>\n    </tr>\n    <tr>\n      <th>5194</th>\n      <td>1AJ007-17</td>\n      <td>PZ-TSO</td>\n      <td>Blue Wing Airlines</td>\n      <td>Antonov An-28</td>\n    </tr>\n    <tr>\n      <th>5195</th>\n      <td>AC-600</td>\n      <td>VH-OZA</td>\n      <td>Avtex Air Services</td>\n      <td>Swearingen SA227AC Metroliner III</td>\n    </tr>\n  </tbody>\n</table>\n<p>2000 rows × 4 columns</p>\n</div>"
     },
     "execution_count": 18,
     "metadata": {},
     "output_type": "execute_result"
    }
   ],
   "source": [
    "datairplane.head(2000)"
   ],
   "metadata": {
    "collapsed": false
   }
  },
  {
   "cell_type": "code",
   "execution_count": 14,
   "outputs": [
    {
     "ename": "IntegrityError",
     "evalue": "1062 (23000): Duplicate entry '474-HH-CNC' for key 'airplane.PRIMARY'",
     "output_type": "error",
     "traceback": [
      "\u001B[0;31m---------------------------------------------------------------------------\u001B[0m",
      "\u001B[0;31mIntegrityError\u001B[0m                            Traceback (most recent call last)",
      "\u001B[0;32m/var/folders/xr/fxzmlkxj7hj_7ywm0m_3sf8w0000gn/T/ipykernel_19480/1577430709.py\u001B[0m in \u001B[0;36m<module>\u001B[0;34m\u001B[0m\n\u001B[1;32m      1\u001B[0m \u001B[0;32mfor\u001B[0m \u001B[0mi\u001B[0m\u001B[0;34m,\u001B[0m\u001B[0mrow\u001B[0m \u001B[0;32min\u001B[0m \u001B[0mdatairplane\u001B[0m\u001B[0;34m.\u001B[0m\u001B[0miterrows\u001B[0m\u001B[0;34m(\u001B[0m\u001B[0;34m)\u001B[0m\u001B[0;34m:\u001B[0m\u001B[0;34m\u001B[0m\u001B[0;34m\u001B[0m\u001B[0m\n\u001B[1;32m      2\u001B[0m     \u001B[0msql\u001B[0m \u001B[0;34m=\u001B[0m \u001B[0;34m\"INSERT INTO airplane_crashes.Airplane VALUES (%s,%s,%s,%s)\"\u001B[0m\u001B[0;34m\u001B[0m\u001B[0;34m\u001B[0m\u001B[0m\n\u001B[0;32m----> 3\u001B[0;31m     \u001B[0mmycursor\u001B[0m\u001B[0;34m.\u001B[0m\u001B[0mexecute\u001B[0m\u001B[0;34m(\u001B[0m\u001B[0msql\u001B[0m\u001B[0;34m,\u001B[0m \u001B[0mtuple\u001B[0m\u001B[0;34m(\u001B[0m\u001B[0;34m[\u001B[0m\u001B[0mrow\u001B[0m\u001B[0;34m[\u001B[0m\u001B[0;34m'cn/In'\u001B[0m\u001B[0;34m]\u001B[0m\u001B[0;34m,\u001B[0m \u001B[0mrow\u001B[0m\u001B[0;34m[\u001B[0m\u001B[0;34m'Registration'\u001B[0m\u001B[0;34m]\u001B[0m\u001B[0;34m,\u001B[0m \u001B[0mrow\u001B[0m\u001B[0;34m[\u001B[0m\u001B[0;34m'Operator'\u001B[0m\u001B[0;34m]\u001B[0m\u001B[0;34m,\u001B[0m \u001B[0mrow\u001B[0m\u001B[0;34m[\u001B[0m\u001B[0;34m'Type'\u001B[0m\u001B[0;34m]\u001B[0m\u001B[0;34m]\u001B[0m\u001B[0;34m)\u001B[0m\u001B[0;34m)\u001B[0m\u001B[0;34m\u001B[0m\u001B[0;34m\u001B[0m\u001B[0m\n\u001B[0m\u001B[1;32m      4\u001B[0m     \u001B[0mmydb\u001B[0m\u001B[0;34m.\u001B[0m\u001B[0mcommit\u001B[0m\u001B[0;34m(\u001B[0m\u001B[0;34m)\u001B[0m\u001B[0;34m\u001B[0m\u001B[0;34m\u001B[0m\u001B[0m\n",
      "\u001B[0;32m~/opt/anaconda3/lib/python3.9/site-packages/mysql/connector/cursor.py\u001B[0m in \u001B[0;36mexecute\u001B[0;34m(self, operation, params, multi)\u001B[0m\n\u001B[1;32m    559\u001B[0m \u001B[0;34m\u001B[0m\u001B[0m\n\u001B[1;32m    560\u001B[0m         \u001B[0;32mtry\u001B[0m\u001B[0;34m:\u001B[0m\u001B[0;34m\u001B[0m\u001B[0;34m\u001B[0m\u001B[0m\n\u001B[0;32m--> 561\u001B[0;31m             \u001B[0mself\u001B[0m\u001B[0;34m.\u001B[0m\u001B[0m_handle_result\u001B[0m\u001B[0;34m(\u001B[0m\u001B[0mself\u001B[0m\u001B[0;34m.\u001B[0m\u001B[0m_connection\u001B[0m\u001B[0;34m.\u001B[0m\u001B[0mcmd_query\u001B[0m\u001B[0;34m(\u001B[0m\u001B[0mstmt\u001B[0m\u001B[0;34m)\u001B[0m\u001B[0;34m)\u001B[0m\u001B[0;34m\u001B[0m\u001B[0;34m\u001B[0m\u001B[0m\n\u001B[0m\u001B[1;32m    562\u001B[0m         \u001B[0;32mexcept\u001B[0m \u001B[0mInterfaceError\u001B[0m \u001B[0;32mas\u001B[0m \u001B[0merr\u001B[0m\u001B[0;34m:\u001B[0m\u001B[0;34m\u001B[0m\u001B[0;34m\u001B[0m\u001B[0m\n\u001B[1;32m    563\u001B[0m             \u001B[0;32mif\u001B[0m \u001B[0mself\u001B[0m\u001B[0;34m.\u001B[0m\u001B[0m_connection\u001B[0m\u001B[0;34m.\u001B[0m\u001B[0mhave_next_result\u001B[0m\u001B[0;34m:\u001B[0m\u001B[0;34m\u001B[0m\u001B[0;34m\u001B[0m\u001B[0m\n",
      "\u001B[0;32m~/opt/anaconda3/lib/python3.9/site-packages/mysql/connector/connection.py\u001B[0m in \u001B[0;36mcmd_query\u001B[0;34m(self, query, raw, buffered, raw_as_string)\u001B[0m\n\u001B[1;32m    988\u001B[0m         \u001B[0mquery\u001B[0m \u001B[0;34m=\u001B[0m \u001B[0mbytes\u001B[0m\u001B[0;34m(\u001B[0m\u001B[0mpacket\u001B[0m\u001B[0;34m)\u001B[0m\u001B[0;34m\u001B[0m\u001B[0;34m\u001B[0m\u001B[0m\n\u001B[1;32m    989\u001B[0m         \u001B[0;32mtry\u001B[0m\u001B[0;34m:\u001B[0m\u001B[0;34m\u001B[0m\u001B[0;34m\u001B[0m\u001B[0m\n\u001B[0;32m--> 990\u001B[0;31m             \u001B[0mresult\u001B[0m \u001B[0;34m=\u001B[0m \u001B[0mself\u001B[0m\u001B[0;34m.\u001B[0m\u001B[0m_handle_result\u001B[0m\u001B[0;34m(\u001B[0m\u001B[0mself\u001B[0m\u001B[0;34m.\u001B[0m\u001B[0m_send_cmd\u001B[0m\u001B[0;34m(\u001B[0m\u001B[0mServerCmd\u001B[0m\u001B[0;34m.\u001B[0m\u001B[0mQUERY\u001B[0m\u001B[0;34m,\u001B[0m \u001B[0mquery\u001B[0m\u001B[0;34m)\u001B[0m\u001B[0;34m)\u001B[0m\u001B[0;34m\u001B[0m\u001B[0;34m\u001B[0m\u001B[0m\n\u001B[0m\u001B[1;32m    991\u001B[0m         \u001B[0;32mexcept\u001B[0m \u001B[0mProgrammingError\u001B[0m \u001B[0;32mas\u001B[0m \u001B[0merr\u001B[0m\u001B[0;34m:\u001B[0m\u001B[0;34m\u001B[0m\u001B[0;34m\u001B[0m\u001B[0m\n\u001B[1;32m    992\u001B[0m             \u001B[0;32mif\u001B[0m \u001B[0merr\u001B[0m\u001B[0;34m.\u001B[0m\u001B[0merrno\u001B[0m \u001B[0;34m==\u001B[0m \u001B[0;36m3948\u001B[0m \u001B[0;32mand\u001B[0m \u001B[0;34m\"Loading local data is disabled\"\u001B[0m \u001B[0;32min\u001B[0m \u001B[0merr\u001B[0m\u001B[0;34m.\u001B[0m\u001B[0mmsg\u001B[0m\u001B[0;34m:\u001B[0m\u001B[0;34m\u001B[0m\u001B[0;34m\u001B[0m\u001B[0m\n",
      "\u001B[0;32m~/opt/anaconda3/lib/python3.9/site-packages/mysql/connector/connection.py\u001B[0m in \u001B[0;36m_handle_result\u001B[0;34m(self, packet)\u001B[0m\n\u001B[1;32m    782\u001B[0m             \u001B[0;32mreturn\u001B[0m \u001B[0mself\u001B[0m\u001B[0;34m.\u001B[0m\u001B[0m_handle_eof\u001B[0m\u001B[0;34m(\u001B[0m\u001B[0mpacket\u001B[0m\u001B[0;34m)\u001B[0m\u001B[0;34m\u001B[0m\u001B[0;34m\u001B[0m\u001B[0m\n\u001B[1;32m    783\u001B[0m         \u001B[0;32mif\u001B[0m \u001B[0mpacket\u001B[0m\u001B[0;34m[\u001B[0m\u001B[0;36m4\u001B[0m\u001B[0;34m]\u001B[0m \u001B[0;34m==\u001B[0m \u001B[0;36m255\u001B[0m\u001B[0;34m:\u001B[0m\u001B[0;34m\u001B[0m\u001B[0;34m\u001B[0m\u001B[0m\n\u001B[0;32m--> 784\u001B[0;31m             \u001B[0;32mraise\u001B[0m \u001B[0mget_exception\u001B[0m\u001B[0;34m(\u001B[0m\u001B[0mpacket\u001B[0m\u001B[0;34m)\u001B[0m\u001B[0;34m\u001B[0m\u001B[0;34m\u001B[0m\u001B[0m\n\u001B[0m\u001B[1;32m    785\u001B[0m \u001B[0;34m\u001B[0m\u001B[0m\n\u001B[1;32m    786\u001B[0m         \u001B[0;31m# We have a text result set\u001B[0m\u001B[0;34m\u001B[0m\u001B[0;34m\u001B[0m\u001B[0m\n",
      "\u001B[0;31mIntegrityError\u001B[0m: 1062 (23000): Duplicate entry '474-HH-CNC' for key 'airplane.PRIMARY'"
     ]
    }
   ],
   "source": [
    "for i,row in datairplane.iterrows():\n",
    "    sql = \"INSERT INTO airplane_crashes.Airplane VALUES (%s,%s,%s,%s)\"\n",
    "    mycursor.execute(sql, tuple([row['cn/In'], row['Registration'], row['Operator'], row['Type']]))\n",
    "    mydb.commit()"
   ],
   "metadata": {
    "collapsed": false
   }
  },
  {
   "cell_type": "code",
   "execution_count": null,
   "outputs": [],
   "source": [
    "mycursor.execute(\"SELECT * FROM Airplane\")\n",
    "result = mycursor.fetchall()\n",
    "print(result)"
   ],
   "metadata": {
    "collapsed": false
   }
  },
  {
   "cell_type": "code",
   "execution_count": null,
   "outputs": [],
   "source": [
    "dataflight = selection[['Flight#', 'Aboard', 'Route', 'cn/In', 'Registration']]"
   ],
   "metadata": {
    "collapsed": false
   }
  },
  {
   "cell_type": "code",
   "execution_count": null,
   "outputs": [],
   "source": [
    "for i, row in dataflight.iterrows():\n",
    "    sql = \"INSERT INTO airplane_crashes.Flight VALUES (%s,%s,%s,%s,%s)\"\n",
    "    mycursor.execute(sql, tuple([row['Flight#'], row['Aboard'], row['Route'], row['cn/In'], row['Registration']]))\n",
    "\n",
    "    mydb.commit()"
   ],
   "metadata": {
    "collapsed": false
   }
  },
  {
   "cell_type": "code",
   "execution_count": null,
   "outputs": [],
   "source": [],
   "metadata": {
    "collapsed": false
   }
  }
 ],
 "metadata": {
  "kernelspec": {
   "display_name": "Python 3",
   "language": "python",
   "name": "python3"
  },
  "language_info": {
   "codemirror_mode": {
    "name": "ipython",
    "version": 2
   },
   "file_extension": ".py",
   "mimetype": "text/x-python",
   "name": "python",
   "nbconvert_exporter": "python",
   "pygments_lexer": "ipython2",
   "version": "2.7.6"
  }
 },
 "nbformat": 4,
 "nbformat_minor": 0
}
