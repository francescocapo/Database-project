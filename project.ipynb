{
 "cells": [
  {
   "cell_type": "code",
   "execution_count": 117,
   "metadata": {
    "collapsed": true
   },
   "outputs": [],
   "source": [
    "import mysql.connector as mysql\n",
    "from mysql.connector import Error\n",
    "import pandas as pd\n",
    "import numpy as np"
   ]
  },
  {
   "cell_type": "code",
   "execution_count": 118,
   "outputs": [],
   "source": [
    "dataset = pd.read_csv(\"Airplane_Crashes_and_Fatalities_Since_1908.csv\")"
   ],
   "metadata": {
    "collapsed": false
   }
  },
  {
   "cell_type": "code",
   "execution_count": 119,
   "outputs": [
    {
     "name": "stdout",
     "output_type": "stream",
     "text": [
      "[('airplane_crashes',), ('electronics',), ('example_database',), ('GoShare',), ('information_schema',), ('mid_practice',), ('movies',), ('mysql',), ('parents',), ('performance_schema',), ('sys',)]\n",
      "The database already exists! The old database has been deleted!)\n",
      "Database is created\n"
     ]
    }
   ],
   "source": [
    "db_name='airplane_crashes'\n",
    "try:\n",
    "    mydb = mysql.connect(host='localhost', user='root', password='franci22') # you can add the auth_plugin here too (ref line 26)\n",
    "    if mydb.is_connected():\n",
    "        mycursor = mydb.cursor()\n",
    "        mycursor.execute('SHOW DATABASES')\n",
    "        result = mycursor.fetchall()\n",
    "        print(result)\n",
    "        for x in result:\n",
    "            if db_name == x[0]:\n",
    "                mycursor.execute('DROP DATABASE ' + db_name) # delete old database\n",
    "                mydb.commit() # make the changes official\n",
    "                print(\"The database already exists! The old database has been deleted!)\")\n",
    "\n",
    "        mycursor.execute(\"CREATE DATABASE \"+ db_name)\n",
    "        print(\"Database is created\")\n",
    "except Error as e:\n",
    "    print(\"Error while connecting to MySQL\", e)"
   ],
   "metadata": {
    "collapsed": false
   }
  },
  {
   "cell_type": "code",
   "execution_count": 120,
   "outputs": [],
   "source": [
    "mycursor.execute('USE' + ' ' + db_name)"
   ],
   "metadata": {
    "collapsed": false
   }
  },
  {
   "cell_type": "code",
   "execution_count": 121,
   "outputs": [],
   "source": [
    "#create tables\n",
    "mycursor.execute(\n",
    "      '''\n",
    "        CREATE TABLE `Airplane` (\n",
    "          `serial_number` varchar(100),\n",
    "          `registration` varchar(100),\n",
    "          `operator` varchar(100),\n",
    "          `type` varchar(100),\n",
    "          PRIMARY KEY (serial_number, registration)\n",
    "        );\n",
    "      '''\n",
    "      )"
   ],
   "metadata": {
    "collapsed": false
   }
  },
  {
   "cell_type": "code",
   "execution_count": 122,
   "outputs": [],
   "source": [
    "mycursor.execute(\n",
    "      '''\n",
    "        CREATE TABLE Flight (\n",
    "           flight_number varchar(100),\n",
    "           aboard int,\n",
    "           route varchar(100),\n",
    "           serial_number varchar(100),\n",
    "           registration varchar(100),\n",
    "           PRIMARY KEY (flight_number),\n",
    "           FOREIGN KEY (`serial_number`, `registration`) REFERENCES `Airplane` (`serial_number`, `registration`)\n",
    "        );\n",
    "      '''\n",
    "      )"
   ],
   "metadata": {
    "collapsed": false
   }
  },
  {
   "cell_type": "code",
   "execution_count": 123,
   "outputs": [],
   "source": [
    "mycursor.execute(\n",
    "    '''\n",
    "        CREATE TABLE `Crash` (\n",
    "          `index` int,\n",
    "          `date` date,\n",
    "          `time` time,\n",
    "          `location` varchar(100),\n",
    "          `summary` varchar(2000),\n",
    "          `serial_number` varchar(100),\n",
    "          `registration` varchar(100),\n",
    "          PRIMARY KEY (`index`),\n",
    "          FOREIGN KEY (`serial_number`, `registration`) REFERENCES `Airplane`(`serial_number`, `registration`)\n",
    "        );\n",
    "    '''\n",
    ")"
   ],
   "metadata": {
    "collapsed": false
   }
  },
  {
   "cell_type": "code",
   "execution_count": 124,
   "outputs": [],
   "source": [
    "mycursor.execute(\n",
    "    '''\n",
    "    CREATE TABLE `Fatalities` (\n",
    "    `crash_index` int,\n",
    "    `number_of_fatalities` int,\n",
    "    `ground` int,\n",
    "    PRIMARY KEY (`crash_index`),\n",
    "    FOREIGN KEY (`crash_index`) REFERENCES `Crash`(`index`)\n",
    ");\n",
    "    '''\n",
    ")"
   ],
   "metadata": {
    "collapsed": false
   }
  },
  {
   "cell_type": "code",
   "execution_count": 125,
   "outputs": [
    {
     "data": {
      "text/plain": "      index        Date   Time                                    Location  \\\n3196   3196  01/02/1980    NaN                                       Haiti   \n3197   3197  01/11/1980  01:23                       Over the AtlantiOcean   \n3198   3198  01/21/1980  19:10  Elburz Mtns., near Laskarak, Markazi, Iran   \n3199   3199  01/23/1980    NaN                    Mt. Cemonyet,  Indonesia   \n3200   3200  01/24/1980  06:20                        Near Mandalay, Burma   \n\n                                 Operator                          Route  \\\n3196                      Haïti Air Inter  Port au Prince - Cape Haitien   \n3197                      Private charter       Shreveport - Baton Rouge   \n3198               Iran National Airlines             Babol Sar - Tehran   \n3199                   Pelita Air Service                            NaN   \n3200  Military - Union of Burma Air Force             Mandalay - Rangoon   \n\n                            Type Registration      cn/In  Aboard  Fatalities  \\\n3196  Britten Norman BN Islander       HH-CNC        474     9.0         9.0   \n3197         Cessna 441 Conquest       N442NC        NaN     2.0         2.0   \n3198             Boeing B-727-86       EP-IRD  19817/537   128.0       128.0   \n3199        CASA 212 Aviocar 100       PK-PCX      45/3N    13.0        13.0   \n3200           Fairchild FH-227H         5003        545    44.0        43.0   \n\n      Ground                                            Summary  \n3196     0.0  Struck high ground in poor visibility while en...  \n3197     0.0  The plane was on a 45 minute fight from Shreve...  \n3198     0.0  The aircraft crashed into a mountain during a ...  \n3199     0.0  Hit high ground at 2,700 ft. in poor weather w...  \n3200     0.0  Crashed into a building while attempting an em...  ",
      "text/html": "<div>\n<style scoped>\n    .dataframe tbody tr th:only-of-type {\n        vertical-align: middle;\n    }\n\n    .dataframe tbody tr th {\n        vertical-align: top;\n    }\n\n    .dataframe thead th {\n        text-align: right;\n    }\n</style>\n<table border=\"1\" class=\"dataframe\">\n  <thead>\n    <tr style=\"text-align: right;\">\n      <th></th>\n      <th>index</th>\n      <th>Date</th>\n      <th>Time</th>\n      <th>Location</th>\n      <th>Operator</th>\n      <th>Route</th>\n      <th>Type</th>\n      <th>Registration</th>\n      <th>cn/In</th>\n      <th>Aboard</th>\n      <th>Fatalities</th>\n      <th>Ground</th>\n      <th>Summary</th>\n    </tr>\n  </thead>\n  <tbody>\n    <tr>\n      <th>3196</th>\n      <td>3196</td>\n      <td>01/02/1980</td>\n      <td>NaN</td>\n      <td>Haiti</td>\n      <td>Haïti Air Inter</td>\n      <td>Port au Prince - Cape Haitien</td>\n      <td>Britten Norman BN Islander</td>\n      <td>HH-CNC</td>\n      <td>474</td>\n      <td>9.0</td>\n      <td>9.0</td>\n      <td>0.0</td>\n      <td>Struck high ground in poor visibility while en...</td>\n    </tr>\n    <tr>\n      <th>3197</th>\n      <td>3197</td>\n      <td>01/11/1980</td>\n      <td>01:23</td>\n      <td>Over the AtlantiOcean</td>\n      <td>Private charter</td>\n      <td>Shreveport - Baton Rouge</td>\n      <td>Cessna 441 Conquest</td>\n      <td>N442NC</td>\n      <td>NaN</td>\n      <td>2.0</td>\n      <td>2.0</td>\n      <td>0.0</td>\n      <td>The plane was on a 45 minute fight from Shreve...</td>\n    </tr>\n    <tr>\n      <th>3198</th>\n      <td>3198</td>\n      <td>01/21/1980</td>\n      <td>19:10</td>\n      <td>Elburz Mtns., near Laskarak, Markazi, Iran</td>\n      <td>Iran National Airlines</td>\n      <td>Babol Sar - Tehran</td>\n      <td>Boeing B-727-86</td>\n      <td>EP-IRD</td>\n      <td>19817/537</td>\n      <td>128.0</td>\n      <td>128.0</td>\n      <td>0.0</td>\n      <td>The aircraft crashed into a mountain during a ...</td>\n    </tr>\n    <tr>\n      <th>3199</th>\n      <td>3199</td>\n      <td>01/23/1980</td>\n      <td>NaN</td>\n      <td>Mt. Cemonyet,  Indonesia</td>\n      <td>Pelita Air Service</td>\n      <td>NaN</td>\n      <td>CASA 212 Aviocar 100</td>\n      <td>PK-PCX</td>\n      <td>45/3N</td>\n      <td>13.0</td>\n      <td>13.0</td>\n      <td>0.0</td>\n      <td>Hit high ground at 2,700 ft. in poor weather w...</td>\n    </tr>\n    <tr>\n      <th>3200</th>\n      <td>3200</td>\n      <td>01/24/1980</td>\n      <td>06:20</td>\n      <td>Near Mandalay, Burma</td>\n      <td>Military - Union of Burma Air Force</td>\n      <td>Mandalay - Rangoon</td>\n      <td>Fairchild FH-227H</td>\n      <td>5003</td>\n      <td>545</td>\n      <td>44.0</td>\n      <td>43.0</td>\n      <td>0.0</td>\n      <td>Crashed into a building while attempting an em...</td>\n    </tr>\n  </tbody>\n</table>\n</div>"
     },
     "execution_count": 125,
     "metadata": {},
     "output_type": "execute_result"
    }
   ],
   "source": [
    "selection = dataset.iloc[3196:] #take values from 1980-90 and take all columns except from the first\n",
    "null_val = selection.isnull().sum()\n",
    "selection = selection.drop(labels='Flight #', axis=1)\n",
    "selection.head()"
   ],
   "metadata": {
    "collapsed": false
   }
  },
  {
   "cell_type": "code",
   "execution_count": 126,
   "outputs": [
    {
     "ename": "TypeError",
     "evalue": "'list' object is not callable",
     "output_type": "error",
     "traceback": [
      "\u001B[0;31m---------------------------------------------------------------------------\u001B[0m",
      "\u001B[0;31mTypeError\u001B[0m                                 Traceback (most recent call last)",
      "\u001B[0;32m/var/folders/xr/fxzmlkxj7hj_7ywm0m_3sf8w0000gn/T/ipykernel_27505/4170733197.py\u001B[0m in \u001B[0;36m<module>\u001B[0;34m\u001B[0m\n\u001B[1;32m     14\u001B[0m \u001B[0mserial_num\u001B[0m \u001B[0;34m=\u001B[0m \u001B[0mselection\u001B[0m\u001B[0;34m.\u001B[0m\u001B[0mloc\u001B[0m\u001B[0;34m[\u001B[0m\u001B[0;36m3196\u001B[0m\u001B[0;34m:\u001B[0m\u001B[0;34m,\u001B[0m \u001B[0;34m'cn/In'\u001B[0m\u001B[0;34m]\u001B[0m\u001B[0;34m\u001B[0m\u001B[0;34m\u001B[0m\u001B[0m\n\u001B[1;32m     15\u001B[0m \u001B[0mserial_num_\u001B[0m \u001B[0;34m=\u001B[0m \u001B[0;34m[\u001B[0m\u001B[0;34m]\u001B[0m\u001B[0;34m\u001B[0m\u001B[0;34m\u001B[0m\u001B[0m\n\u001B[0;32m---> 16\u001B[0;31m \u001B[0mserial_num_\u001B[0m \u001B[0;34m=\u001B[0m \u001B[0mlist\u001B[0m\u001B[0;34m(\u001B[0m\u001B[0mserial_num\u001B[0m\u001B[0;34m)\u001B[0m\u001B[0;34m\u001B[0m\u001B[0;34m\u001B[0m\u001B[0m\n\u001B[0m\u001B[1;32m     17\u001B[0m \u001B[0mselection\u001B[0m \u001B[0;34m=\u001B[0m \u001B[0mselection\u001B[0m\u001B[0;34m.\u001B[0m\u001B[0mdrop\u001B[0m\u001B[0;34m(\u001B[0m\u001B[0mlabels\u001B[0m\u001B[0;34m=\u001B[0m\u001B[0;34m'cn/In'\u001B[0m\u001B[0;34m,\u001B[0m \u001B[0maxis\u001B[0m\u001B[0;34m=\u001B[0m\u001B[0;36m1\u001B[0m\u001B[0;34m)\u001B[0m\u001B[0;34m\u001B[0m\u001B[0;34m\u001B[0m\u001B[0m\n\u001B[1;32m     18\u001B[0m \u001B[0;34m\u001B[0m\u001B[0m\n",
      "\u001B[0;31mTypeError\u001B[0m: 'list' object is not callable"
     ]
    }
   ],
   "source": [
    "import random\n",
    "\n",
    "#FLIGHT NUMBER\n",
    "flight_number = []\n",
    "\n",
    "while len(flight_number) != 2072:\n",
    "    n = random.randint(1000, 10000)\n",
    "    if n not in flight_number:\n",
    "        flight_number.append(n)\n",
    "\n",
    "\n",
    "selection.insert(6, 'Flight#', flight_number)\n",
    "\n",
    "#SERIAL NUMBER\n",
    "serial_num = selection.loc[3196:, 'cn/In']\n",
    "serial_num_ = list(serial_num)\n",
    "selection = selection.drop(labels='cn/In', axis=1)\n",
    "\n",
    "for x in range(len(serial_num_)):\n",
    "    n = random.randint(100, 8000)\n",
    "    if serial_num_[x] is np.nan:\n",
    "        while n in serial_num:\n",
    "            n = random.randint(100, 8000)\n",
    "        serial_num_[x] = str(n)\n",
    "\n",
    "selection.insert(9, 'serial#', serial_num_)\n",
    "\n",
    "\n",
    "#REGISTRATION\n",
    "\n",
    "registration = selection.loc[3196:, 'Registration']\n",
    "registration_ = list(registration)\n",
    "selection = selection.drop(labels='Registration', axis=1)\n",
    "\n",
    "import string\n",
    "for r in range(len(registration_)):\n",
    "    reg1 = ''.join(random.choice(string.ascii_uppercase) for x in range(2))\n",
    "    reg2 = ''.join(random.choice(string.ascii_uppercase) for x in range(3))\n",
    "    reg = reg1+'-'+reg2\n",
    "    if reg not in registration_:\n",
    "        registration_[r] = reg\n",
    "\n",
    "selection.insert(8, 'Registration', registration_)\n",
    "\n",
    "'''\n",
    "null_val = selection.isnull().sum()\n",
    "#print(selection)\n",
    "#print('null values are:')\n",
    "print(null_val)\n",
    "'''\n",
    "\n",
    "#TIME\n",
    "import datetime\n",
    "from datetime import datetime\n",
    "\n",
    "times = selection['Time'].tolist()\n",
    "t2 = []\n",
    "for t in times:\n",
    "    if type(t) != str:\n",
    "            t2.append(0)\n",
    "    else:\n",
    "        allowed_characters = ['0','1','2','3','4','5','6','7','8','9',':']\n",
    "        for i in t:\n",
    "            if i not in allowed_characters or (i == ':' in (t[0] or t[-1])):\n",
    "                t = t.replace(i,'')\n",
    "        if ':' not in t:\n",
    "            t = t[:len(t)//2]+':'+t[len(t)//2:]\n",
    "        p = t.partition(':')\n",
    "        if len(p[0]) > 2:\n",
    "            t = t[1:]\n",
    "        if len(p[2]) > 2:\n",
    "            t = t[:-1]\n",
    "        try:\n",
    "            time = datetime.strptime(t, '%H:%M').time()\n",
    "            t2.append(time)\n",
    "        except:\n",
    "            t2.append(0)\n",
    "            continue\n",
    "selection = selection.drop(labels='Time', axis=1)\n",
    "selection.insert(2, 'Time', t2)\n",
    "\n",
    "\n",
    "#DATE\n",
    "\n",
    "date = selection.loc[3196:, 'Date']\n",
    "date_ = list(date)\n",
    "list = [datetime.strptime(x,'%m/%d/%Y').strftime('%Y/%m/%d') for x in date_]\n",
    "print(list)\n",
    "selection = selection.drop(labels='Date', axis=1)\n",
    "selection.insert(1, 'Date', list)"
   ],
   "metadata": {
    "collapsed": false
   }
  },
  {
   "cell_type": "code",
   "execution_count": null,
   "outputs": [],
   "source": [
    "datairplane = selection[['Serial#', 'Registration', 'Operator', 'Type']]"
   ],
   "metadata": {
    "collapsed": false
   }
  },
  {
   "cell_type": "code",
   "execution_count": null,
   "outputs": [],
   "source": [
    "selection.head(2000)"
   ],
   "metadata": {
    "collapsed": false
   }
  },
  {
   "cell_type": "code",
   "execution_count": null,
   "outputs": [],
   "source": [
    "for i,row in datairplane.iterrows():\n",
    "    sql = \"INSERT INTO airplane_crashes.Airplane VALUES (%s,%s,%s,%s)\"\n",
    "    mycursor.execute(sql, tuple([row['Serial#'], row['Registration'], row['Operator'], row['Type']]))\n",
    "    mydb.commit()"
   ],
   "metadata": {
    "collapsed": false
   }
  },
  {
   "cell_type": "code",
   "execution_count": null,
   "outputs": [],
   "source": [
    "#mycursor.execute(\"SELECT * FROM Airplane\")\n",
    "#result = mycursor.fetchall()\n",
    "#print(result)"
   ],
   "metadata": {
    "collapsed": false
   }
  },
  {
   "cell_type": "code",
   "execution_count": null,
   "outputs": [],
   "source": [
    "dataflight = selection[['Flight#', 'Aboard', 'Route', 'Serial#', 'Registration']]"
   ],
   "metadata": {
    "collapsed": false
   }
  },
  {
   "cell_type": "code",
   "execution_count": null,
   "outputs": [],
   "source": [
    "for i, row in dataflight.iterrows():\n",
    "    sql = \"INSERT INTO airplane_crashes.Flight VALUES (%s,%s,%s,%s,%s)\"\n",
    "    mycursor.execute(sql, tuple([row['Flight#'], row['Aboard'], row['Route'], row['Serial#'], row['Registration']]))\n",
    "\n",
    "    mydb.commit()"
   ],
   "metadata": {
    "collapsed": false
   }
  },
  {
   "cell_type": "code",
   "execution_count": null,
   "outputs": [],
   "source": [
    "datacrash = selection[['index', 'Date', 'Time', 'Location', 'Summary', 'Serial#', 'Registration']]"
   ],
   "metadata": {
    "collapsed": false
   }
  },
  {
   "cell_type": "code",
   "execution_count": null,
   "outputs": [],
   "source": [
    "for i, row in datacrash.iterrows():\n",
    "    sql = \"INSERT INTO airplane_crashes.Crash VALUES (%s,%s,%s,%s,%s,%s,%s)\"\n",
    "    mycursor.execute(sql, tuple([row['index'], row['Date'], row['Time'], row['Location'],  row['Summary'], row['Serial#'], row['Registration']]))\n",
    "\n",
    "    mydb.commit()"
   ],
   "metadata": {
    "collapsed": false
   }
  },
  {
   "cell_type": "code",
   "execution_count": null,
   "outputs": [],
   "source": [
    "datafatalities = selection[['index', 'Fatalities', 'Ground']]\n",
    "for i, row in datafatalities.iterrows():\n",
    "    sql = \"INSERT INTO airplane_crashes.Flight VALUES (%s,%s,%s)\"\n",
    "    mycursor.execute(sql, tuple([ row['index'], row['Fatalities'], row['Ground']]))\n",
    "\n",
    "    mydb.commit()"
   ],
   "metadata": {
    "collapsed": false
   }
  }
 ],
 "metadata": {
  "kernelspec": {
   "display_name": "Python 3",
   "language": "python",
   "name": "python3"
  },
  "language_info": {
   "codemirror_mode": {
    "name": "ipython",
    "version": 2
   },
   "file_extension": ".py",
   "mimetype": "text/x-python",
   "name": "python",
   "nbconvert_exporter": "python",
   "pygments_lexer": "ipython2",
   "version": "2.7.6"
  }
 },
 "nbformat": 4,
 "nbformat_minor": 0
}
