{
 "cells": [
  {
   "cell_type": "code",
   "execution_count": 2,
   "metadata": {
    "collapsed": true
   },
   "outputs": [],
   "source": [
    "import mysql.connector as mysql\n",
    "from mysql.connector import Error\n",
    "import pandas as pd"
   ]
  },
  {
   "cell_type": "code",
   "execution_count": 3,
   "outputs": [
    {
     "data": {
      "text/plain": "   index        Date   Time                            Location  \\\n0      0  09/17/1908  17:18                 Fort Myer, Virginia   \n1      1  07/12/1912  06:30             AtlantiCity, New Jersey   \n2      2  08/06/1913    NaN  Victoria, British Columbia, Canada   \n3      3  09/09/1913  18:30                  Over the North Sea   \n4      4  10/17/1913  10:30          Near Johannisthal, Germany   \n5      5  03/05/1915  01:00                     Tienen, Belgium   \n6      6  09/03/1915  15:20               Off Cuxhaven, Germany   \n7      7  07/28/1916    NaN               Near Jambol, Bulgeria   \n8      8  09/24/1916  01:00                 Billericay, England   \n9      9  10/01/1916  23:45                Potters Bar, England   \n\n                 Operator Flight #          Route  \\\n0    Military - U.S. Army      NaN  Demonstration   \n1    Military - U.S. Navy      NaN    Test flight   \n2                 Private        -            NaN   \n3  Military - German Navy      NaN            NaN   \n4  Military - German Navy      NaN            NaN   \n5  Military - German Navy      NaN            NaN   \n6  Military - German Navy      NaN            NaN   \n7  Military - German Army      NaN            NaN   \n8  Military - German Navy      NaN            NaN   \n9  Military - German Navy      NaN            NaN   \n\n                            Type Registration cn/In  Aboard  Fatalities  \\\n0               Wright Flyer III          NaN     1     2.0         1.0   \n1                      Dirigible          NaN   NaN     5.0         5.0   \n2               Curtiss seaplane          NaN   NaN     1.0         1.0   \n3         Zeppelin L-1 (airship)          NaN   NaN    20.0        14.0   \n4         Zeppelin L-2 (airship)          NaN   NaN    30.0        30.0   \n5         Zeppelin L-8 (airship)          NaN   NaN    41.0        21.0   \n6        Zeppelin L-10 (airship)          NaN   NaN    19.0        19.0   \n7  Schutte-Lanz S-L-10 (airship)          NaN   NaN    20.0        20.0   \n8        Zeppelin L-32 (airship)          NaN   NaN    22.0        22.0   \n9        Zeppelin L-31 (airship)          NaN   NaN    19.0        19.0   \n\n   Ground                                            Summary  \n0     0.0  During a demonstration flight, a U.S. Army fly...  \n1     0.0  First U.S. dirigible Akron exploded just offsh...  \n2     0.0  The first fatal airplane accident in Canada oc...  \n3     0.0  The airship flew into a thunderstorm and encou...  \n4     0.0  Hydrogen gas which was being vented was sucked...  \n5     0.0  Crashed into trees while attempting to land af...  \n6     0.0  Exploded and burned near Neuwerk Island,  when...  \n7     0.0         Crashed near the Black Sea, cause unknown.  \n8     0.0  Shot down by British aircraft crashing in flames.  \n9     0.0  Shot down in flames by the British 39th Home D...  ",
      "text/html": "<div>\n<style scoped>\n    .dataframe tbody tr th:only-of-type {\n        vertical-align: middle;\n    }\n\n    .dataframe tbody tr th {\n        vertical-align: top;\n    }\n\n    .dataframe thead th {\n        text-align: right;\n    }\n</style>\n<table border=\"1\" class=\"dataframe\">\n  <thead>\n    <tr style=\"text-align: right;\">\n      <th></th>\n      <th>index</th>\n      <th>Date</th>\n      <th>Time</th>\n      <th>Location</th>\n      <th>Operator</th>\n      <th>Flight #</th>\n      <th>Route</th>\n      <th>Type</th>\n      <th>Registration</th>\n      <th>cn/In</th>\n      <th>Aboard</th>\n      <th>Fatalities</th>\n      <th>Ground</th>\n      <th>Summary</th>\n    </tr>\n  </thead>\n  <tbody>\n    <tr>\n      <th>0</th>\n      <td>0</td>\n      <td>09/17/1908</td>\n      <td>17:18</td>\n      <td>Fort Myer, Virginia</td>\n      <td>Military - U.S. Army</td>\n      <td>NaN</td>\n      <td>Demonstration</td>\n      <td>Wright Flyer III</td>\n      <td>NaN</td>\n      <td>1</td>\n      <td>2.0</td>\n      <td>1.0</td>\n      <td>0.0</td>\n      <td>During a demonstration flight, a U.S. Army fly...</td>\n    </tr>\n    <tr>\n      <th>1</th>\n      <td>1</td>\n      <td>07/12/1912</td>\n      <td>06:30</td>\n      <td>AtlantiCity, New Jersey</td>\n      <td>Military - U.S. Navy</td>\n      <td>NaN</td>\n      <td>Test flight</td>\n      <td>Dirigible</td>\n      <td>NaN</td>\n      <td>NaN</td>\n      <td>5.0</td>\n      <td>5.0</td>\n      <td>0.0</td>\n      <td>First U.S. dirigible Akron exploded just offsh...</td>\n    </tr>\n    <tr>\n      <th>2</th>\n      <td>2</td>\n      <td>08/06/1913</td>\n      <td>NaN</td>\n      <td>Victoria, British Columbia, Canada</td>\n      <td>Private</td>\n      <td>-</td>\n      <td>NaN</td>\n      <td>Curtiss seaplane</td>\n      <td>NaN</td>\n      <td>NaN</td>\n      <td>1.0</td>\n      <td>1.0</td>\n      <td>0.0</td>\n      <td>The first fatal airplane accident in Canada oc...</td>\n    </tr>\n    <tr>\n      <th>3</th>\n      <td>3</td>\n      <td>09/09/1913</td>\n      <td>18:30</td>\n      <td>Over the North Sea</td>\n      <td>Military - German Navy</td>\n      <td>NaN</td>\n      <td>NaN</td>\n      <td>Zeppelin L-1 (airship)</td>\n      <td>NaN</td>\n      <td>NaN</td>\n      <td>20.0</td>\n      <td>14.0</td>\n      <td>0.0</td>\n      <td>The airship flew into a thunderstorm and encou...</td>\n    </tr>\n    <tr>\n      <th>4</th>\n      <td>4</td>\n      <td>10/17/1913</td>\n      <td>10:30</td>\n      <td>Near Johannisthal, Germany</td>\n      <td>Military - German Navy</td>\n      <td>NaN</td>\n      <td>NaN</td>\n      <td>Zeppelin L-2 (airship)</td>\n      <td>NaN</td>\n      <td>NaN</td>\n      <td>30.0</td>\n      <td>30.0</td>\n      <td>0.0</td>\n      <td>Hydrogen gas which was being vented was sucked...</td>\n    </tr>\n    <tr>\n      <th>5</th>\n      <td>5</td>\n      <td>03/05/1915</td>\n      <td>01:00</td>\n      <td>Tienen, Belgium</td>\n      <td>Military - German Navy</td>\n      <td>NaN</td>\n      <td>NaN</td>\n      <td>Zeppelin L-8 (airship)</td>\n      <td>NaN</td>\n      <td>NaN</td>\n      <td>41.0</td>\n      <td>21.0</td>\n      <td>0.0</td>\n      <td>Crashed into trees while attempting to land af...</td>\n    </tr>\n    <tr>\n      <th>6</th>\n      <td>6</td>\n      <td>09/03/1915</td>\n      <td>15:20</td>\n      <td>Off Cuxhaven, Germany</td>\n      <td>Military - German Navy</td>\n      <td>NaN</td>\n      <td>NaN</td>\n      <td>Zeppelin L-10 (airship)</td>\n      <td>NaN</td>\n      <td>NaN</td>\n      <td>19.0</td>\n      <td>19.0</td>\n      <td>0.0</td>\n      <td>Exploded and burned near Neuwerk Island,  when...</td>\n    </tr>\n    <tr>\n      <th>7</th>\n      <td>7</td>\n      <td>07/28/1916</td>\n      <td>NaN</td>\n      <td>Near Jambol, Bulgeria</td>\n      <td>Military - German Army</td>\n      <td>NaN</td>\n      <td>NaN</td>\n      <td>Schutte-Lanz S-L-10 (airship)</td>\n      <td>NaN</td>\n      <td>NaN</td>\n      <td>20.0</td>\n      <td>20.0</td>\n      <td>0.0</td>\n      <td>Crashed near the Black Sea, cause unknown.</td>\n    </tr>\n    <tr>\n      <th>8</th>\n      <td>8</td>\n      <td>09/24/1916</td>\n      <td>01:00</td>\n      <td>Billericay, England</td>\n      <td>Military - German Navy</td>\n      <td>NaN</td>\n      <td>NaN</td>\n      <td>Zeppelin L-32 (airship)</td>\n      <td>NaN</td>\n      <td>NaN</td>\n      <td>22.0</td>\n      <td>22.0</td>\n      <td>0.0</td>\n      <td>Shot down by British aircraft crashing in flames.</td>\n    </tr>\n    <tr>\n      <th>9</th>\n      <td>9</td>\n      <td>10/01/1916</td>\n      <td>23:45</td>\n      <td>Potters Bar, England</td>\n      <td>Military - German Navy</td>\n      <td>NaN</td>\n      <td>NaN</td>\n      <td>Zeppelin L-31 (airship)</td>\n      <td>NaN</td>\n      <td>NaN</td>\n      <td>19.0</td>\n      <td>19.0</td>\n      <td>0.0</td>\n      <td>Shot down in flames by the British 39th Home D...</td>\n    </tr>\n  </tbody>\n</table>\n</div>"
     },
     "execution_count": 3,
     "metadata": {},
     "output_type": "execute_result"
    }
   ],
   "source": [
    "dataset = pd.read_csv(\"Airplane_Crashes_and_Fatalities_Since_1908.csv\")\n",
    "dataset.head(10)"
   ],
   "metadata": {
    "collapsed": false
   }
  },
  {
   "cell_type": "code",
   "execution_count": 32,
   "outputs": [
    {
     "name": "stdout",
     "output_type": "stream",
     "text": [
      "[('airplane_crashes',), ('electronics',), ('GoShare',), ('information_schema',), ('mid_practice',), ('movies',), ('mysql',), ('parents',), ('performance_schema',), ('sys',)]\n",
      "The database already exists! The old database has been deleted!)\n",
      "Database is created\n"
     ]
    }
   ],
   "source": [
    "db_name='airplane_crashes'\n",
    "try:\n",
    "    mydb = mysql.connect(host='localhost', user='root', password='franci22') # you can add the auth_plugin here too (ref line 26)\n",
    "    if mydb.is_connected():\n",
    "        mycursor = mydb.cursor()\n",
    "        mycursor.execute('SHOW DATABASES')\n",
    "        result = mycursor.fetchall()\n",
    "        print(result)\n",
    "        for x in result:\n",
    "            if db_name == x[0]:\n",
    "                mycursor.execute('DROP DATABASE ' + db_name) # delete old database\n",
    "                mydb.commit() # make the changes official\n",
    "                print(\"The database already exists! The old database has been deleted!)\")\n",
    "\n",
    "        mycursor.execute(\"CREATE DATABASE \"+ db_name)\n",
    "        print(\"Database is created\")\n",
    "except Error as e:\n",
    "    print(\"Error while connecting to MySQL\", e)"
   ],
   "metadata": {
    "collapsed": false
   }
  },
  {
   "cell_type": "code",
   "execution_count": 33,
   "outputs": [],
   "source": [
    "mycursor.execute('USE' + ' ' + db_name)"
   ],
   "metadata": {
    "collapsed": false
   }
  },
  {
   "cell_type": "code",
   "execution_count": 34,
   "outputs": [],
   "source": [
    "#create tables\n",
    "mycursor.execute(\n",
    "      '''\n",
    "        CREATE TABLE `Airplane` (\n",
    "          `serial_number` varchar(100) UNIQUE ,\n",
    "          `registration` varchar(100) UNIQUE ,\n",
    "          `operator` varchar(100),\n",
    "          `type` varchar(100),\n",
    "          PRIMARY KEY (`serial_number`, `registration`)\n",
    "        );\n",
    "      '''\n",
    "      )"
   ],
   "metadata": {
    "collapsed": false
   }
  },
  {
   "cell_type": "code",
   "execution_count": 35,
   "outputs": [],
   "source": [
    "mycursor.execute(\n",
    "      '''\n",
    "        CREATE TABLE `Flight` (\n",
    "           `flight_number` varchar(100) UNIQUE ,\n",
    "           `aboard` int,\n",
    "           `route` varchar(100),\n",
    "           `serial_number` varchar(100),\n",
    "           `registration` varchar(100),\n",
    "           PRIMARY KEY (`flight_number`),\n",
    "           foreign key (`registration`, `serial_number`) REFERENCES `Airplane` (`registration`,`serial_number`)\n",
    "        );\n",
    "      '''\n",
    "      )"
   ],
   "metadata": {
    "collapsed": false
   }
  },
  {
   "cell_type": "code",
   "execution_count": 36,
   "outputs": [],
   "source": [
    "mycursor.execute(\n",
    "    '''\n",
    "    CREATE TABLE `Crash` (\n",
    "  `index` int,\n",
    "  `location` varchar(100),\n",
    "  `time` time,\n",
    "  `date` date,\n",
    "  `summary` varchar(100),\n",
    "  `serial number` varchar(100),\n",
    "  `registration` varchar(100),\n",
    "  PRIMARY KEY (`index`),\n",
    "  FOREIGN KEY (`serial number`) REFERENCES `Airplane`(`serial_number`),\n",
    "  FOREIGN KEY (`registration`) REFERENCES `Airplane`(`registration`)\n",
    ");\n",
    "    '''\n",
    ")"
   ],
   "metadata": {
    "collapsed": false
   }
  },
  {
   "cell_type": "code",
   "execution_count": 37,
   "outputs": [],
   "source": [
    "mycursor.execute(\n",
    "    '''\n",
    "    CREATE TABLE `Fatalities` (\n",
    "    `number of fatalities` int,\n",
    "    `ground` int,\n",
    "    `crash index` int,\n",
    "    PRIMARY KEY (`crash index`),\n",
    "    FOREIGN KEY (`crash index`) REFERENCES `Crash`(`index`)\n",
    ");\n",
    "    '''\n",
    ")"
   ],
   "metadata": {
    "collapsed": false
   }
  },
  {
   "cell_type": "code",
   "execution_count": null,
   "outputs": [],
   "source": [
    "d"
   ],
   "metadata": {
    "collapsed": false
   }
  }
 ],
 "metadata": {
  "kernelspec": {
   "display_name": "Python 3",
   "language": "python",
   "name": "python3"
  },
  "language_info": {
   "codemirror_mode": {
    "name": "ipython",
    "version": 2
   },
   "file_extension": ".py",
   "mimetype": "text/x-python",
   "name": "python",
   "nbconvert_exporter": "python",
   "pygments_lexer": "ipython2",
   "version": "2.7.6"
  }
 },
 "nbformat": 4,
 "nbformat_minor": 0
}
