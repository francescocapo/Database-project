{
 "cells": [
  {
   "cell_type": "code",
   "execution_count": 37,
   "metadata": {
    "collapsed": true
   },
   "outputs": [],
   "source": [
    "import mysql.connector as mysql\n",
    "from mysql.connector import Error\n",
    "import pandas as pd\n",
    "import numpy as np"
   ]
  },
  {
   "cell_type": "code",
   "execution_count": 38,
   "outputs": [],
   "source": [
    "dataset = pd.read_csv(\"Airplane_Crashes_and_Fatalities_Since_1908.csv\")"
   ],
   "metadata": {
    "collapsed": false
   }
  },
  {
   "cell_type": "code",
   "execution_count": 39,
   "outputs": [
    {
     "name": "stdout",
     "output_type": "stream",
     "text": [
      "[('airplane_crashes',), ('exercise',), ('flights',), ('goshare',), ('information_schema',), ('mysql',), ('performance_schema',), ('sakila',), ('sys',), ('world',)]\n",
      "The database already exists! The old database has been deleted!)\n",
      "Database is created\n"
     ]
    }
   ],
   "source": [
    "db_name='airplane_crashes'\n",
    "try:\n",
    "    mydb = mysql.connect(host='localhost', user='root', password='Giuliagiulia3') # you can add the auth_plugin here too (ref line 26)\n",
    "    if mydb.is_connected():\n",
    "        mycursor = mydb.cursor()\n",
    "        mycursor.execute('SHOW DATABASES')\n",
    "        result = mycursor.fetchall()\n",
    "        print(result)\n",
    "        for x in result:\n",
    "            if db_name == x[0]:\n",
    "                mycursor.execute('DROP DATABASE ' + db_name) # delete old database\n",
    "                mydb.commit() # make the changes official\n",
    "                print(\"The database already exists! The old database has been deleted!)\")\n",
    "\n",
    "        mycursor.execute(\"CREATE DATABASE \"+ db_name)\n",
    "        print(\"Database is created\")\n",
    "except Error as e:\n",
    "    print(\"Error while connecting to MySQL\", e)"
   ],
   "metadata": {
    "collapsed": false
   }
  },
  {
   "cell_type": "code",
   "execution_count": 40,
   "outputs": [],
   "source": [
    "mycursor.execute('USE' + ' ' + db_name)"
   ],
   "metadata": {
    "collapsed": false
   }
  },
  {
   "cell_type": "code",
   "execution_count": 41,
   "outputs": [],
   "source": [
    "#create tables\n",
    "mycursor.execute(\n",
    "      '''\n",
    "        CREATE TABLE `Airplane` (\n",
    "          `serial_number` varchar(100),\n",
    "          `registration` varchar(100),\n",
    "          `operator` varchar(100),\n",
    "          `type` varchar(100),\n",
    "          PRIMARY KEY (serial_number, registration)\n",
    "        );\n",
    "      '''\n",
    "      )"
   ],
   "metadata": {
    "collapsed": false
   }
  },
  {
   "cell_type": "code",
   "execution_count": 42,
   "outputs": [],
   "source": [
    "mycursor.execute(\n",
    "      '''\n",
    "        CREATE TABLE Flight (\n",
    "           flight_number varchar(100),\n",
    "           aboard int,\n",
    "           route varchar(100),\n",
    "           serial_number varchar(100),\n",
    "           registration varchar(100),\n",
    "           PRIMARY KEY (flight_number),\n",
    "           FOREIGN KEY (`serial_number`, `registration`) REFERENCES `Airplane` (`serial_number`, `registration`)\n",
    "        );\n",
    "      '''\n",
    "      )"
   ],
   "metadata": {
    "collapsed": false
   }
  },
  {
   "cell_type": "code",
   "execution_count": 43,
   "outputs": [],
   "source": [
    "mycursor.execute(\n",
    "    '''\n",
    "        CREATE TABLE `Crash` (\n",
    "          `index` int,\n",
    "          `location` varchar(100),\n",
    "          `time` time NULL ,\n",
    "          `date` date,\n",
    "          `summary` varchar(2000),\n",
    "          `serial number` varchar(100),\n",
    "          `registration` varchar(100),\n",
    "          PRIMARY KEY (`index`),\n",
    "          FOREIGN KEY (`serial number`, `registration`) REFERENCES `Airplane`(`serial_number`, `registration`)\n",
    "        );\n",
    "    '''\n",
    ")"
   ],
   "metadata": {
    "collapsed": false
   }
  },
  {
   "cell_type": "code",
   "execution_count": 44,
   "outputs": [],
   "source": [
    "mycursor.execute(\n",
    "    '''\n",
    "    CREATE TABLE `Fatalities` (\n",
    "    `number_of_fatalities` int,\n",
    "    `ground` int,\n",
    "    `crash_index` int,\n",
    "    PRIMARY KEY (`crash_index`),\n",
    "    FOREIGN KEY (`crash_index`) REFERENCES `Crash`(`index`)\n",
    ");\n",
    "    '''\n",
    ")"
   ],
   "metadata": {
    "collapsed": false
   }
  },
  {
   "cell_type": "code",
   "execution_count": 45,
   "outputs": [],
   "source": [
    "selection = dataset.iloc[3196:] #take values from 1980-90 and take all columns except from the first\n",
    "null_val = selection.isnull().sum()\n",
    "selection = selection.drop(labels='Flight #', axis=1)"
   ],
   "metadata": {
    "collapsed": false
   }
  },
  {
   "cell_type": "code",
   "execution_count": 46,
   "outputs": [],
   "source": [
    "import random\n",
    "\n",
    "flight_number = []\n",
    "\n",
    "while len(flight_number) != 2072:\n",
    "    n = random.randint(1000, 10000)\n",
    "    if n not in flight_number:\n",
    "        flight_number.append(n)\n",
    "\n",
    "\n",
    "selection.insert(6, 'Flight#', flight_number)\n",
    "\n",
    "\n",
    "\n",
    "serial_num = selection.loc[3196:, 'cn/In']\n",
    "serial_num_ = list(serial_num)\n",
    "selection = selection.drop(labels='cn/In', axis=1)\n",
    "\n",
    "for x in range(len(serial_num_)):\n",
    "    n = random.randint(100, 8000)\n",
    "    if serial_num_[x] is np.nan:\n",
    "        while n in serial_num:\n",
    "            n = random.randint(100, 8000)\n",
    "        serial_num_[x] = str(n)\n",
    "\n",
    "selection.insert(9, 'Serial#', serial_num_)\n",
    "\n",
    "\n",
    "registration = selection.loc[3196:, 'Registration']\n",
    "registration_ = list(registration)\n",
    "selection = selection.drop(labels='Registration', axis=1)\n",
    "\n",
    "import string\n",
    "for r in range(len(registration_)):\n",
    "    reg1 = ''.join(random.choice(string.ascii_uppercase) for x in range(2))\n",
    "    reg2 = ''.join(random.choice(string.ascii_uppercase) for x in range(3))\n",
    "    reg = reg1+'-'+reg2\n",
    "    if reg not in registration_:\n",
    "        registration_[r] = reg\n",
    "\n",
    "selection.insert(8, 'Registration', registration_)\n",
    "\n",
    "import datetime\n",
    "date = selection.loc[3196:, 'Date']\n",
    "date_list = list(date)\n",
    "for i in date_list:\n",
    "    dates = datetime.datetime.strptime(i, '%m/%d/%Y')\n",
    "    new = dates.strftime('%Y/%m/%d')\n",
    "selection = selection.drop(labels='Date', axis=1)\n",
    "selection.insert(1, 'Date', new)\n",
    "\n",
    "\n",
    "times = selection['Time'].tolist()\n",
    "t2 = []\n",
    "for t in times:\n",
    "    if type(t)!=str:\n",
    "            t2.append(0)\n",
    "    else:\n",
    "        allowed_characters = ['0','1','2','3','4','5','6','7','8','9',':']\n",
    "        for i in t:\n",
    "            if i not in allowed_characters or (i == ':' in (t[0] or t[-1])):\n",
    "                t = t.replace(i,'')\n",
    "        if ':' not in t:\n",
    "            t = t[:len(t)//2]+':'+t[len(t)//2:]\n",
    "        p = t.partition(':')\n",
    "        if len(p[0]) > 2:\n",
    "            t = t[1:]\n",
    "        if len(p[2]) > 2:\n",
    "            t = t[:-1]\n",
    "        try:\n",
    "            time = datetime.datetime.strptime(t, '%H:%M').time()\n",
    "            t2.append(time)\n",
    "        except:\n",
    "            t2.append(0)\n",
    "            continue\n",
    "selection = selection.drop(labels='Time', axis=1)\n",
    "selection.insert(1, 'Time', t2)"
   ],
   "metadata": {
    "collapsed": false
   }
  },
  {
   "cell_type": "code",
   "execution_count": 47,
   "outputs": [],
   "source": [
    "datairplane = selection[['Serial#', 'Registration', 'Operator', 'Type']]"
   ],
   "metadata": {
    "collapsed": false
   }
  },
  {
   "cell_type": "code",
   "execution_count": 48,
   "outputs": [
    {
     "data": {
      "text/plain": "      index      Time        Date                                    Location  \\\n3196   3196         0  2009/06/08                                       Haiti   \n3197   3197  01:23:00  2009/06/08                       Over the AtlantiOcean   \n3198   3198  19:10:00  2009/06/08  Elburz Mtns., near Laskarak, Markazi, Iran   \n3199   3199         0  2009/06/08                    Mt. Cemonyet,  Indonesia   \n3200   3200  06:20:00  2009/06/08                        Near Mandalay, Burma   \n...     ...       ...         ...                                         ...   \n5191   5191  16:16:00  2009/06/08         Off Macae , Rio de Janeiro , Brazil   \n5192   5192  16:00:00  2009/06/08                         Near Bethani, Nepal   \n5193   5193  08:15:00  2009/06/08                              Nbagu, Nigeria   \n5194   5194  11:00:00  2009/06/08                              Lawa, Suriname   \n5195   5195  23:27:00  2009/06/08                         Bundeena, Australia   \n\n                                         Operator  \\\n3196                              Haïti Air Inter   \n3197                              Private charter   \n3198                       Iran National Airlines   \n3199                           Pelita Air Service   \n3200          Military - Union of Burma Air Force   \n...                                           ...   \n5191  BHS - Brazilian Helicopter Service Air Taxi   \n5192                       United Nations Mission   \n5193                    Trade Wings Aviation Ltd.   \n5194                           Blue Wing Airlines   \n5195                           Avtex Air Services   \n\n                              Route  Flight#  \\\n3196  Port au Prince - Cape Haitien     9001   \n3197       Shreveport - Baton Rouge     9801   \n3198             Babol Sar - Tehran     6993   \n3199                            NaN     8687   \n3200             Mandalay - Rangoon     6894   \n...                             ...      ...   \n5191            Oil Rig P18 - Macae     7949   \n5192                            NaN     5811   \n5193         Lagos - Bebi Air Strip     9864   \n5194              Paramaribo - Lawa     1572   \n5195              Sydney - Brisbane     3104   \n\n                                   Type Registration    Serial#  Aboard  \\\n3196         Britten Norman BN Islander       KM-OJN        474     9.0   \n3197                Cessna 441 Conquest       SK-VBB       6695     2.0   \n3198                    Boeing B-727-86       WM-LGT  19817/537   128.0   \n3199               CASA 212 Aviocar 100       QQ-BWZ      45/3N    13.0   \n3200                  Fairchild FH-227H       VG-NRW        545    44.0   \n...                                 ...          ...        ...     ...   \n5191     Eurocopter  AS332L2 Super Puma       SG-RAV       2570    20.0   \n5192                              Mi-17       YW-VFX       5588    10.0   \n5193                   Beechcraft 1900D       IB-TGH     UE-322     3.0   \n5194                      Antonov An-28       XZ-BZK  1AJ007-17    19.0   \n5195  Swearingen SA227AC Metroliner III       DN-PRX     AC-600     1.0   \n\n      Fatalities  Ground                                            Summary  \n3196         9.0     0.0  Struck high ground in poor visibility while en...  \n3197         2.0     0.0  The plane was on a 45 minute fight from Shreve...  \n3198       128.0     0.0  The aircraft crashed into a mountain during a ...  \n3199        13.0     0.0  Hit high ground at 2,700 ft. in poor weather w...  \n3200        43.0     0.0  Crashed into a building while attempting an em...  \n...          ...     ...                                                ...  \n5191         5.0     0.0  Less than half minute after the taking-off fro...  \n5192        10.0     0.0  The helicopter, carrying United Nations person...  \n5193         3.0     0.0  The plane crashed while en route. Wreckage was...  \n5194        19.0     0.0  While attempting to land the crew aborted the ...  \n5195         1.0     0.0  The pilot of the mail plane reported some mino...  \n\n[2000 rows x 14 columns]",
      "text/html": "<div>\n<style scoped>\n    .dataframe tbody tr th:only-of-type {\n        vertical-align: middle;\n    }\n\n    .dataframe tbody tr th {\n        vertical-align: top;\n    }\n\n    .dataframe thead th {\n        text-align: right;\n    }\n</style>\n<table border=\"1\" class=\"dataframe\">\n  <thead>\n    <tr style=\"text-align: right;\">\n      <th></th>\n      <th>index</th>\n      <th>Time</th>\n      <th>Date</th>\n      <th>Location</th>\n      <th>Operator</th>\n      <th>Route</th>\n      <th>Flight#</th>\n      <th>Type</th>\n      <th>Registration</th>\n      <th>Serial#</th>\n      <th>Aboard</th>\n      <th>Fatalities</th>\n      <th>Ground</th>\n      <th>Summary</th>\n    </tr>\n  </thead>\n  <tbody>\n    <tr>\n      <th>3196</th>\n      <td>3196</td>\n      <td>0</td>\n      <td>2009/06/08</td>\n      <td>Haiti</td>\n      <td>Haïti Air Inter</td>\n      <td>Port au Prince - Cape Haitien</td>\n      <td>9001</td>\n      <td>Britten Norman BN Islander</td>\n      <td>KM-OJN</td>\n      <td>474</td>\n      <td>9.0</td>\n      <td>9.0</td>\n      <td>0.0</td>\n      <td>Struck high ground in poor visibility while en...</td>\n    </tr>\n    <tr>\n      <th>3197</th>\n      <td>3197</td>\n      <td>01:23:00</td>\n      <td>2009/06/08</td>\n      <td>Over the AtlantiOcean</td>\n      <td>Private charter</td>\n      <td>Shreveport - Baton Rouge</td>\n      <td>9801</td>\n      <td>Cessna 441 Conquest</td>\n      <td>SK-VBB</td>\n      <td>6695</td>\n      <td>2.0</td>\n      <td>2.0</td>\n      <td>0.0</td>\n      <td>The plane was on a 45 minute fight from Shreve...</td>\n    </tr>\n    <tr>\n      <th>3198</th>\n      <td>3198</td>\n      <td>19:10:00</td>\n      <td>2009/06/08</td>\n      <td>Elburz Mtns., near Laskarak, Markazi, Iran</td>\n      <td>Iran National Airlines</td>\n      <td>Babol Sar - Tehran</td>\n      <td>6993</td>\n      <td>Boeing B-727-86</td>\n      <td>WM-LGT</td>\n      <td>19817/537</td>\n      <td>128.0</td>\n      <td>128.0</td>\n      <td>0.0</td>\n      <td>The aircraft crashed into a mountain during a ...</td>\n    </tr>\n    <tr>\n      <th>3199</th>\n      <td>3199</td>\n      <td>0</td>\n      <td>2009/06/08</td>\n      <td>Mt. Cemonyet,  Indonesia</td>\n      <td>Pelita Air Service</td>\n      <td>NaN</td>\n      <td>8687</td>\n      <td>CASA 212 Aviocar 100</td>\n      <td>QQ-BWZ</td>\n      <td>45/3N</td>\n      <td>13.0</td>\n      <td>13.0</td>\n      <td>0.0</td>\n      <td>Hit high ground at 2,700 ft. in poor weather w...</td>\n    </tr>\n    <tr>\n      <th>3200</th>\n      <td>3200</td>\n      <td>06:20:00</td>\n      <td>2009/06/08</td>\n      <td>Near Mandalay, Burma</td>\n      <td>Military - Union of Burma Air Force</td>\n      <td>Mandalay - Rangoon</td>\n      <td>6894</td>\n      <td>Fairchild FH-227H</td>\n      <td>VG-NRW</td>\n      <td>545</td>\n      <td>44.0</td>\n      <td>43.0</td>\n      <td>0.0</td>\n      <td>Crashed into a building while attempting an em...</td>\n    </tr>\n    <tr>\n      <th>...</th>\n      <td>...</td>\n      <td>...</td>\n      <td>...</td>\n      <td>...</td>\n      <td>...</td>\n      <td>...</td>\n      <td>...</td>\n      <td>...</td>\n      <td>...</td>\n      <td>...</td>\n      <td>...</td>\n      <td>...</td>\n      <td>...</td>\n      <td>...</td>\n    </tr>\n    <tr>\n      <th>5191</th>\n      <td>5191</td>\n      <td>16:16:00</td>\n      <td>2009/06/08</td>\n      <td>Off Macae , Rio de Janeiro , Brazil</td>\n      <td>BHS - Brazilian Helicopter Service Air Taxi</td>\n      <td>Oil Rig P18 - Macae</td>\n      <td>7949</td>\n      <td>Eurocopter  AS332L2 Super Puma</td>\n      <td>SG-RAV</td>\n      <td>2570</td>\n      <td>20.0</td>\n      <td>5.0</td>\n      <td>0.0</td>\n      <td>Less than half minute after the taking-off fro...</td>\n    </tr>\n    <tr>\n      <th>5192</th>\n      <td>5192</td>\n      <td>16:00:00</td>\n      <td>2009/06/08</td>\n      <td>Near Bethani, Nepal</td>\n      <td>United Nations Mission</td>\n      <td>NaN</td>\n      <td>5811</td>\n      <td>Mi-17</td>\n      <td>YW-VFX</td>\n      <td>5588</td>\n      <td>10.0</td>\n      <td>10.0</td>\n      <td>0.0</td>\n      <td>The helicopter, carrying United Nations person...</td>\n    </tr>\n    <tr>\n      <th>5193</th>\n      <td>5193</td>\n      <td>08:15:00</td>\n      <td>2009/06/08</td>\n      <td>Nbagu, Nigeria</td>\n      <td>Trade Wings Aviation Ltd.</td>\n      <td>Lagos - Bebi Air Strip</td>\n      <td>9864</td>\n      <td>Beechcraft 1900D</td>\n      <td>IB-TGH</td>\n      <td>UE-322</td>\n      <td>3.0</td>\n      <td>3.0</td>\n      <td>0.0</td>\n      <td>The plane crashed while en route. Wreckage was...</td>\n    </tr>\n    <tr>\n      <th>5194</th>\n      <td>5194</td>\n      <td>11:00:00</td>\n      <td>2009/06/08</td>\n      <td>Lawa, Suriname</td>\n      <td>Blue Wing Airlines</td>\n      <td>Paramaribo - Lawa</td>\n      <td>1572</td>\n      <td>Antonov An-28</td>\n      <td>XZ-BZK</td>\n      <td>1AJ007-17</td>\n      <td>19.0</td>\n      <td>19.0</td>\n      <td>0.0</td>\n      <td>While attempting to land the crew aborted the ...</td>\n    </tr>\n    <tr>\n      <th>5195</th>\n      <td>5195</td>\n      <td>23:27:00</td>\n      <td>2009/06/08</td>\n      <td>Bundeena, Australia</td>\n      <td>Avtex Air Services</td>\n      <td>Sydney - Brisbane</td>\n      <td>3104</td>\n      <td>Swearingen SA227AC Metroliner III</td>\n      <td>DN-PRX</td>\n      <td>AC-600</td>\n      <td>1.0</td>\n      <td>1.0</td>\n      <td>0.0</td>\n      <td>The pilot of the mail plane reported some mino...</td>\n    </tr>\n  </tbody>\n</table>\n<p>2000 rows × 14 columns</p>\n</div>"
     },
     "execution_count": 48,
     "metadata": {},
     "output_type": "execute_result"
    }
   ],
   "source": [
    "selection.head(2000)"
   ],
   "metadata": {
    "collapsed": false
   }
  },
  {
   "cell_type": "code",
   "execution_count": 49,
   "outputs": [
    {
     "ename": "ProgrammingError",
     "evalue": "1054 (42S22): Unknown column 'nan' in 'field list'",
     "output_type": "error",
     "traceback": [
      "\u001B[1;31m---------------------------------------------------------------------------\u001B[0m",
      "\u001B[1;31mMySQLInterfaceError\u001B[0m                       Traceback (most recent call last)",
      "File \u001B[1;32m~\\Documents\\GitHub\\270341\\venv\\lib\\site-packages\\mysql\\connector\\connection_cext.py:565\u001B[0m, in \u001B[0;36mCMySQLConnection.cmd_query\u001B[1;34m(self, query, raw, buffered, raw_as_string)\u001B[0m\n\u001B[0;32m    564\u001B[0m         query \u001B[38;5;241m=\u001B[39m query\u001B[38;5;241m.\u001B[39mencode(\u001B[38;5;124m\"\u001B[39m\u001B[38;5;124mutf-8\u001B[39m\u001B[38;5;124m\"\u001B[39m)\n\u001B[1;32m--> 565\u001B[0m     \u001B[38;5;28;43mself\u001B[39;49m\u001B[38;5;241;43m.\u001B[39;49m\u001B[43m_cmysql\u001B[49m\u001B[38;5;241;43m.\u001B[39;49m\u001B[43mquery\u001B[49m\u001B[43m(\u001B[49m\n\u001B[0;32m    566\u001B[0m \u001B[43m        \u001B[49m\u001B[43mquery\u001B[49m\u001B[43m,\u001B[49m\n\u001B[0;32m    567\u001B[0m \u001B[43m        \u001B[49m\u001B[43mraw\u001B[49m\u001B[38;5;241;43m=\u001B[39;49m\u001B[43mraw\u001B[49m\u001B[43m,\u001B[49m\n\u001B[0;32m    568\u001B[0m \u001B[43m        \u001B[49m\u001B[43mbuffered\u001B[49m\u001B[38;5;241;43m=\u001B[39;49m\u001B[43mbuffered\u001B[49m\u001B[43m,\u001B[49m\n\u001B[0;32m    569\u001B[0m \u001B[43m        \u001B[49m\u001B[43mraw_as_string\u001B[49m\u001B[38;5;241;43m=\u001B[39;49m\u001B[43mraw_as_string\u001B[49m\u001B[43m,\u001B[49m\n\u001B[0;32m    570\u001B[0m \u001B[43m        \u001B[49m\u001B[43mquery_attrs\u001B[49m\u001B[38;5;241;43m=\u001B[39;49m\u001B[38;5;28;43mself\u001B[39;49m\u001B[38;5;241;43m.\u001B[39;49m\u001B[43m_query_attrs\u001B[49m\u001B[43m,\u001B[49m\n\u001B[0;32m    571\u001B[0m \u001B[43m    \u001B[49m\u001B[43m)\u001B[49m\n\u001B[0;32m    572\u001B[0m \u001B[38;5;28;01mexcept\u001B[39;00m MySQLInterfaceError \u001B[38;5;28;01mas\u001B[39;00m err:\n",
      "\u001B[1;31mMySQLInterfaceError\u001B[0m: Unknown column 'nan' in 'field list'",
      "\nThe above exception was the direct cause of the following exception:\n",
      "\u001B[1;31mProgrammingError\u001B[0m                          Traceback (most recent call last)",
      "Cell \u001B[1;32mIn [49], line 3\u001B[0m\n\u001B[0;32m      1\u001B[0m \u001B[38;5;28;01mfor\u001B[39;00m i,row \u001B[38;5;129;01min\u001B[39;00m datairplane\u001B[38;5;241m.\u001B[39miterrows():\n\u001B[0;32m      2\u001B[0m     sql \u001B[38;5;241m=\u001B[39m \u001B[38;5;124m\"\u001B[39m\u001B[38;5;124mINSERT INTO airplane_crashes.Airplane VALUES (\u001B[39m\u001B[38;5;132;01m%s\u001B[39;00m\u001B[38;5;124m,\u001B[39m\u001B[38;5;132;01m%s\u001B[39;00m\u001B[38;5;124m,\u001B[39m\u001B[38;5;132;01m%s\u001B[39;00m\u001B[38;5;124m,\u001B[39m\u001B[38;5;132;01m%s\u001B[39;00m\u001B[38;5;124m)\u001B[39m\u001B[38;5;124m\"\u001B[39m\n\u001B[1;32m----> 3\u001B[0m     \u001B[43mmycursor\u001B[49m\u001B[38;5;241;43m.\u001B[39;49m\u001B[43mexecute\u001B[49m\u001B[43m(\u001B[49m\u001B[43msql\u001B[49m\u001B[43m,\u001B[49m\u001B[43m \u001B[49m\u001B[38;5;28;43mtuple\u001B[39;49m\u001B[43m(\u001B[49m\u001B[43m[\u001B[49m\u001B[43mrow\u001B[49m\u001B[43m[\u001B[49m\u001B[38;5;124;43m'\u001B[39;49m\u001B[38;5;124;43mSerial#\u001B[39;49m\u001B[38;5;124;43m'\u001B[39;49m\u001B[43m]\u001B[49m\u001B[43m,\u001B[49m\u001B[43m \u001B[49m\u001B[43mrow\u001B[49m\u001B[43m[\u001B[49m\u001B[38;5;124;43m'\u001B[39;49m\u001B[38;5;124;43mRegistration\u001B[39;49m\u001B[38;5;124;43m'\u001B[39;49m\u001B[43m]\u001B[49m\u001B[43m,\u001B[49m\u001B[43m \u001B[49m\u001B[43mrow\u001B[49m\u001B[43m[\u001B[49m\u001B[38;5;124;43m'\u001B[39;49m\u001B[38;5;124;43mOperator\u001B[39;49m\u001B[38;5;124;43m'\u001B[39;49m\u001B[43m]\u001B[49m\u001B[43m,\u001B[49m\u001B[43m \u001B[49m\u001B[43mrow\u001B[49m\u001B[43m[\u001B[49m\u001B[38;5;124;43m'\u001B[39;49m\u001B[38;5;124;43mType\u001B[39;49m\u001B[38;5;124;43m'\u001B[39;49m\u001B[43m]\u001B[49m\u001B[43m]\u001B[49m\u001B[43m)\u001B[49m\u001B[43m)\u001B[49m\n\u001B[0;32m      4\u001B[0m     mydb\u001B[38;5;241m.\u001B[39mcommit()\n",
      "File \u001B[1;32m~\\Documents\\GitHub\\270341\\venv\\lib\\site-packages\\mysql\\connector\\cursor_cext.py:279\u001B[0m, in \u001B[0;36mCMySQLCursor.execute\u001B[1;34m(self, operation, params, multi)\u001B[0m\n\u001B[0;32m    274\u001B[0m             \u001B[38;5;28;01mraise\u001B[39;00m ProgrammingError(\n\u001B[0;32m    275\u001B[0m                 \u001B[38;5;124m\"\u001B[39m\u001B[38;5;124mNot all parameters were used in the SQL statement\u001B[39m\u001B[38;5;124m\"\u001B[39m\n\u001B[0;32m    276\u001B[0m             )\n\u001B[0;32m    278\u001B[0m \u001B[38;5;28;01mtry\u001B[39;00m:\n\u001B[1;32m--> 279\u001B[0m     result \u001B[38;5;241m=\u001B[39m \u001B[38;5;28;43mself\u001B[39;49m\u001B[38;5;241;43m.\u001B[39;49m\u001B[43m_cnx\u001B[49m\u001B[38;5;241;43m.\u001B[39;49m\u001B[43mcmd_query\u001B[49m\u001B[43m(\u001B[49m\n\u001B[0;32m    280\u001B[0m \u001B[43m        \u001B[49m\u001B[43mstmt\u001B[49m\u001B[43m,\u001B[49m\n\u001B[0;32m    281\u001B[0m \u001B[43m        \u001B[49m\u001B[43mraw\u001B[49m\u001B[38;5;241;43m=\u001B[39;49m\u001B[38;5;28;43mself\u001B[39;49m\u001B[38;5;241;43m.\u001B[39;49m\u001B[43m_raw\u001B[49m\u001B[43m,\u001B[49m\n\u001B[0;32m    282\u001B[0m \u001B[43m        \u001B[49m\u001B[43mbuffered\u001B[49m\u001B[38;5;241;43m=\u001B[39;49m\u001B[38;5;28;43mself\u001B[39;49m\u001B[38;5;241;43m.\u001B[39;49m\u001B[43m_buffered\u001B[49m\u001B[43m,\u001B[49m\n\u001B[0;32m    283\u001B[0m \u001B[43m        \u001B[49m\u001B[43mraw_as_string\u001B[49m\u001B[38;5;241;43m=\u001B[39;49m\u001B[38;5;28;43mself\u001B[39;49m\u001B[38;5;241;43m.\u001B[39;49m\u001B[43m_raw_as_string\u001B[49m\u001B[43m,\u001B[49m\n\u001B[0;32m    284\u001B[0m \u001B[43m    \u001B[49m\u001B[43m)\u001B[49m\n\u001B[0;32m    285\u001B[0m \u001B[38;5;28;01mexcept\u001B[39;00m MySQLInterfaceError \u001B[38;5;28;01mas\u001B[39;00m err:\n\u001B[0;32m    286\u001B[0m     \u001B[38;5;28;01mraise\u001B[39;00m get_mysql_exception(\n\u001B[0;32m    287\u001B[0m         msg\u001B[38;5;241m=\u001B[39merr\u001B[38;5;241m.\u001B[39mmsg, errno\u001B[38;5;241m=\u001B[39merr\u001B[38;5;241m.\u001B[39merrno, sqlstate\u001B[38;5;241m=\u001B[39merr\u001B[38;5;241m.\u001B[39msqlstate\n\u001B[0;32m    288\u001B[0m     ) \u001B[38;5;28;01mfrom\u001B[39;00m \u001B[38;5;21;01merr\u001B[39;00m\n",
      "File \u001B[1;32m~\\Documents\\GitHub\\270341\\venv\\lib\\site-packages\\mysql\\connector\\connection_cext.py:573\u001B[0m, in \u001B[0;36mCMySQLConnection.cmd_query\u001B[1;34m(self, query, raw, buffered, raw_as_string)\u001B[0m\n\u001B[0;32m    565\u001B[0m     \u001B[38;5;28mself\u001B[39m\u001B[38;5;241m.\u001B[39m_cmysql\u001B[38;5;241m.\u001B[39mquery(\n\u001B[0;32m    566\u001B[0m         query,\n\u001B[0;32m    567\u001B[0m         raw\u001B[38;5;241m=\u001B[39mraw,\n\u001B[1;32m   (...)\u001B[0m\n\u001B[0;32m    570\u001B[0m         query_attrs\u001B[38;5;241m=\u001B[39m\u001B[38;5;28mself\u001B[39m\u001B[38;5;241m.\u001B[39m_query_attrs,\n\u001B[0;32m    571\u001B[0m     )\n\u001B[0;32m    572\u001B[0m \u001B[38;5;28;01mexcept\u001B[39;00m MySQLInterfaceError \u001B[38;5;28;01mas\u001B[39;00m err:\n\u001B[1;32m--> 573\u001B[0m     \u001B[38;5;28;01mraise\u001B[39;00m get_mysql_exception(\n\u001B[0;32m    574\u001B[0m         err\u001B[38;5;241m.\u001B[39merrno, msg\u001B[38;5;241m=\u001B[39merr\u001B[38;5;241m.\u001B[39mmsg, sqlstate\u001B[38;5;241m=\u001B[39merr\u001B[38;5;241m.\u001B[39msqlstate\n\u001B[0;32m    575\u001B[0m     ) \u001B[38;5;28;01mfrom\u001B[39;00m \u001B[38;5;21;01merr\u001B[39;00m\n\u001B[0;32m    576\u001B[0m \u001B[38;5;28;01mexcept\u001B[39;00m \u001B[38;5;167;01mAttributeError\u001B[39;00m \u001B[38;5;28;01mas\u001B[39;00m err:\n\u001B[0;32m    577\u001B[0m     addr \u001B[38;5;241m=\u001B[39m (\n\u001B[0;32m    578\u001B[0m         \u001B[38;5;28mself\u001B[39m\u001B[38;5;241m.\u001B[39m_unix_socket \u001B[38;5;28;01mif\u001B[39;00m \u001B[38;5;28mself\u001B[39m\u001B[38;5;241m.\u001B[39m_unix_socket \u001B[38;5;28;01melse\u001B[39;00m \u001B[38;5;124mf\u001B[39m\u001B[38;5;124m\"\u001B[39m\u001B[38;5;132;01m{\u001B[39;00m\u001B[38;5;28mself\u001B[39m\u001B[38;5;241m.\u001B[39m_host\u001B[38;5;132;01m}\u001B[39;00m\u001B[38;5;124m:\u001B[39m\u001B[38;5;132;01m{\u001B[39;00m\u001B[38;5;28mself\u001B[39m\u001B[38;5;241m.\u001B[39m_port\u001B[38;5;132;01m}\u001B[39;00m\u001B[38;5;124m\"\u001B[39m\n\u001B[0;32m    579\u001B[0m     )\n",
      "\u001B[1;31mProgrammingError\u001B[0m: 1054 (42S22): Unknown column 'nan' in 'field list'"
     ]
    }
   ],
   "source": [
    "for i,row in datairplane.iterrows():\n",
    "    sql = \"INSERT INTO airplane_crashes.Airplane VALUES (%s,%s,%s,%s)\"\n",
    "    mycursor.execute(sql, tuple([row['Serial#'], row['Registration'], row['Operator'], row['Type']]))\n",
    "    mydb.commit()"
   ],
   "metadata": {
    "collapsed": false
   }
  },
  {
   "cell_type": "code",
   "execution_count": null,
   "outputs": [],
   "source": [
    "#mycursor.execute(\"SELECT * FROM Airplane\")\n",
    "#result = mycursor.fetchall()\n",
    "#print(result)"
   ],
   "metadata": {
    "collapsed": false
   }
  },
  {
   "cell_type": "code",
   "execution_count": null,
   "outputs": [],
   "source": [
    "dataflight = selection[['Flight#', 'Aboard', 'Route', 'Serial#', 'Registration']]"
   ],
   "metadata": {
    "collapsed": false
   }
  },
  {
   "cell_type": "code",
   "execution_count": null,
   "outputs": [],
   "source": [
    "for i, row in dataflight.iterrows():\n",
    "    sql = \"INSERT INTO airplane_crashes.Flight VALUES (%s,%s,%s,%s,%s)\"\n",
    "    mycursor.execute(sql, tuple([row['Flight#'], row['Aboard'], row['Route'], row['Serial#'], row['Registration']]))\n",
    "\n",
    "    mydb.commit()"
   ],
   "metadata": {
    "collapsed": false
   }
  },
  {
   "cell_type": "code",
   "execution_count": null,
   "outputs": [],
   "source": [
    "datacrash = selection[['index', 'Location', 'Time', 'Date', 'Summary', 'Serial#', 'Registration']]"
   ],
   "metadata": {
    "collapsed": false
   }
  },
  {
   "cell_type": "code",
   "execution_count": null,
   "outputs": [],
   "source": [
    "for i, row in datacrash.iterrows():\n",
    "    sql = \"INSERT INTO airplane_crashes.Crash VALUES (%s,%s,%s,%s,%s,%s,%s)\"\n",
    "    mycursor.execute(sql, tuple([row['index'], row['Location'], row['Time'], row['Date'], row['Summary'], row['Serial#'], row['Registration']]))\n",
    "\n",
    "    mydb.commit()"
   ],
   "metadata": {
    "collapsed": false
   }
  },
  {
   "cell_type": "code",
   "execution_count": null,
   "outputs": [],
   "source": [],
   "metadata": {
    "collapsed": false
   }
  }
 ],
 "metadata": {
  "kernelspec": {
   "display_name": "Python 3",
   "language": "python",
   "name": "python3"
  },
  "language_info": {
   "codemirror_mode": {
    "name": "ipython",
    "version": 2
   },
   "file_extension": ".py",
   "mimetype": "text/x-python",
   "name": "python",
   "nbconvert_exporter": "python",
   "pygments_lexer": "ipython2",
   "version": "2.7.6"
  }
 },
 "nbformat": 4,
 "nbformat_minor": 0
}