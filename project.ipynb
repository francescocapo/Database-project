{
 "cells": [
  {
   "cell_type": "code",
   "execution_count": 2,
   "metadata": {
    "collapsed": true
   },
   "outputs": [],
   "source": [
    "import mysql.connector as mysql\n",
    "from mysql.connector import Error\n",
    "import pandas as pd"
   ]
  },
  {
   "cell_type": "code",
   "execution_count": 16,
   "outputs": [
    {
     "data": {
      "text/plain": "   index        Date   Time                            Location  \\\n0      0  09/17/1908  17:18                 Fort Myer, Virginia   \n1      1  07/12/1912  06:30             AtlantiCity, New Jersey   \n2      2  08/06/1913    NaN  Victoria, British Columbia, Canada   \n3      3  09/09/1913  18:30                  Over the North Sea   \n4      4  10/17/1913  10:30          Near Johannisthal, Germany   \n5      5  03/05/1915  01:00                     Tienen, Belgium   \n6      6  09/03/1915  15:20               Off Cuxhaven, Germany   \n7      7  07/28/1916    NaN               Near Jambol, Bulgeria   \n8      8  09/24/1916  01:00                 Billericay, England   \n9      9  10/01/1916  23:45                Potters Bar, England   \n\n                 Operator Flight #          Route  \\\n0    Military - U.S. Army      NaN  Demonstration   \n1    Military - U.S. Navy      NaN    Test flight   \n2                 Private        -            NaN   \n3  Military - German Navy      NaN            NaN   \n4  Military - German Navy      NaN            NaN   \n5  Military - German Navy      NaN            NaN   \n6  Military - German Navy      NaN            NaN   \n7  Military - German Army      NaN            NaN   \n8  Military - German Navy      NaN            NaN   \n9  Military - German Navy      NaN            NaN   \n\n                            Type Registration cn/In  Aboard  Fatalities  \\\n0               Wright Flyer III          NaN     1     2.0         1.0   \n1                      Dirigible          NaN   NaN     5.0         5.0   \n2               Curtiss seaplane          NaN   NaN     1.0         1.0   \n3         Zeppelin L-1 (airship)          NaN   NaN    20.0        14.0   \n4         Zeppelin L-2 (airship)          NaN   NaN    30.0        30.0   \n5         Zeppelin L-8 (airship)          NaN   NaN    41.0        21.0   \n6        Zeppelin L-10 (airship)          NaN   NaN    19.0        19.0   \n7  Schutte-Lanz S-L-10 (airship)          NaN   NaN    20.0        20.0   \n8        Zeppelin L-32 (airship)          NaN   NaN    22.0        22.0   \n9        Zeppelin L-31 (airship)          NaN   NaN    19.0        19.0   \n\n   Ground                                            Summary  \n0     0.0  During a demonstration flight, a U.S. Army fly...  \n1     0.0  First U.S. dirigible Akron exploded just offsh...  \n2     0.0  The first fatal airplane accident in Canada oc...  \n3     0.0  The airship flew into a thunderstorm and encou...  \n4     0.0  Hydrogen gas which was being vented was sucked...  \n5     0.0  Crashed into trees while attempting to land af...  \n6     0.0  Exploded and burned near Neuwerk Island,  when...  \n7     0.0         Crashed near the Black Sea, cause unknown.  \n8     0.0  Shot down by British aircraft crashing in flames.  \n9     0.0  Shot down in flames by the British 39th Home D...  ",
      "text/html": "<div>\n<style scoped>\n    .dataframe tbody tr th:only-of-type {\n        vertical-align: middle;\n    }\n\n    .dataframe tbody tr th {\n        vertical-align: top;\n    }\n\n    .dataframe thead th {\n        text-align: right;\n    }\n</style>\n<table border=\"1\" class=\"dataframe\">\n  <thead>\n    <tr style=\"text-align: right;\">\n      <th></th>\n      <th>index</th>\n      <th>Date</th>\n      <th>Time</th>\n      <th>Location</th>\n      <th>Operator</th>\n      <th>Flight #</th>\n      <th>Route</th>\n      <th>Type</th>\n      <th>Registration</th>\n      <th>cn/In</th>\n      <th>Aboard</th>\n      <th>Fatalities</th>\n      <th>Ground</th>\n      <th>Summary</th>\n    </tr>\n  </thead>\n  <tbody>\n    <tr>\n      <th>0</th>\n      <td>0</td>\n      <td>09/17/1908</td>\n      <td>17:18</td>\n      <td>Fort Myer, Virginia</td>\n      <td>Military - U.S. Army</td>\n      <td>NaN</td>\n      <td>Demonstration</td>\n      <td>Wright Flyer III</td>\n      <td>NaN</td>\n      <td>1</td>\n      <td>2.0</td>\n      <td>1.0</td>\n      <td>0.0</td>\n      <td>During a demonstration flight, a U.S. Army fly...</td>\n    </tr>\n    <tr>\n      <th>1</th>\n      <td>1</td>\n      <td>07/12/1912</td>\n      <td>06:30</td>\n      <td>AtlantiCity, New Jersey</td>\n      <td>Military - U.S. Navy</td>\n      <td>NaN</td>\n      <td>Test flight</td>\n      <td>Dirigible</td>\n      <td>NaN</td>\n      <td>NaN</td>\n      <td>5.0</td>\n      <td>5.0</td>\n      <td>0.0</td>\n      <td>First U.S. dirigible Akron exploded just offsh...</td>\n    </tr>\n    <tr>\n      <th>2</th>\n      <td>2</td>\n      <td>08/06/1913</td>\n      <td>NaN</td>\n      <td>Victoria, British Columbia, Canada</td>\n      <td>Private</td>\n      <td>-</td>\n      <td>NaN</td>\n      <td>Curtiss seaplane</td>\n      <td>NaN</td>\n      <td>NaN</td>\n      <td>1.0</td>\n      <td>1.0</td>\n      <td>0.0</td>\n      <td>The first fatal airplane accident in Canada oc...</td>\n    </tr>\n    <tr>\n      <th>3</th>\n      <td>3</td>\n      <td>09/09/1913</td>\n      <td>18:30</td>\n      <td>Over the North Sea</td>\n      <td>Military - German Navy</td>\n      <td>NaN</td>\n      <td>NaN</td>\n      <td>Zeppelin L-1 (airship)</td>\n      <td>NaN</td>\n      <td>NaN</td>\n      <td>20.0</td>\n      <td>14.0</td>\n      <td>0.0</td>\n      <td>The airship flew into a thunderstorm and encou...</td>\n    </tr>\n    <tr>\n      <th>4</th>\n      <td>4</td>\n      <td>10/17/1913</td>\n      <td>10:30</td>\n      <td>Near Johannisthal, Germany</td>\n      <td>Military - German Navy</td>\n      <td>NaN</td>\n      <td>NaN</td>\n      <td>Zeppelin L-2 (airship)</td>\n      <td>NaN</td>\n      <td>NaN</td>\n      <td>30.0</td>\n      <td>30.0</td>\n      <td>0.0</td>\n      <td>Hydrogen gas which was being vented was sucked...</td>\n    </tr>\n    <tr>\n      <th>5</th>\n      <td>5</td>\n      <td>03/05/1915</td>\n      <td>01:00</td>\n      <td>Tienen, Belgium</td>\n      <td>Military - German Navy</td>\n      <td>NaN</td>\n      <td>NaN</td>\n      <td>Zeppelin L-8 (airship)</td>\n      <td>NaN</td>\n      <td>NaN</td>\n      <td>41.0</td>\n      <td>21.0</td>\n      <td>0.0</td>\n      <td>Crashed into trees while attempting to land af...</td>\n    </tr>\n    <tr>\n      <th>6</th>\n      <td>6</td>\n      <td>09/03/1915</td>\n      <td>15:20</td>\n      <td>Off Cuxhaven, Germany</td>\n      <td>Military - German Navy</td>\n      <td>NaN</td>\n      <td>NaN</td>\n      <td>Zeppelin L-10 (airship)</td>\n      <td>NaN</td>\n      <td>NaN</td>\n      <td>19.0</td>\n      <td>19.0</td>\n      <td>0.0</td>\n      <td>Exploded and burned near Neuwerk Island,  when...</td>\n    </tr>\n    <tr>\n      <th>7</th>\n      <td>7</td>\n      <td>07/28/1916</td>\n      <td>NaN</td>\n      <td>Near Jambol, Bulgeria</td>\n      <td>Military - German Army</td>\n      <td>NaN</td>\n      <td>NaN</td>\n      <td>Schutte-Lanz S-L-10 (airship)</td>\n      <td>NaN</td>\n      <td>NaN</td>\n      <td>20.0</td>\n      <td>20.0</td>\n      <td>0.0</td>\n      <td>Crashed near the Black Sea, cause unknown.</td>\n    </tr>\n    <tr>\n      <th>8</th>\n      <td>8</td>\n      <td>09/24/1916</td>\n      <td>01:00</td>\n      <td>Billericay, England</td>\n      <td>Military - German Navy</td>\n      <td>NaN</td>\n      <td>NaN</td>\n      <td>Zeppelin L-32 (airship)</td>\n      <td>NaN</td>\n      <td>NaN</td>\n      <td>22.0</td>\n      <td>22.0</td>\n      <td>0.0</td>\n      <td>Shot down by British aircraft crashing in flames.</td>\n    </tr>\n    <tr>\n      <th>9</th>\n      <td>9</td>\n      <td>10/01/1916</td>\n      <td>23:45</td>\n      <td>Potters Bar, England</td>\n      <td>Military - German Navy</td>\n      <td>NaN</td>\n      <td>NaN</td>\n      <td>Zeppelin L-31 (airship)</td>\n      <td>NaN</td>\n      <td>NaN</td>\n      <td>19.0</td>\n      <td>19.0</td>\n      <td>0.0</td>\n      <td>Shot down in flames by the British 39th Home D...</td>\n    </tr>\n  </tbody>\n</table>\n</div>"
     },
     "execution_count": 16,
     "metadata": {},
     "output_type": "execute_result"
    }
   ],
   "source": [
    "dataset = pd.read_csv(\"Airplane_Crashes_and_Fatalities_Since_1908.csv\")\n",
    "dataset.head(10)"
   ],
   "metadata": {
    "collapsed": false
   }
  },
  {
   "cell_type": "code",
   "execution_count": 18,
   "outputs": [],
   "source": [
    "# Selections using the loc method are based on the index of the data frame (if any). Where the index is set on a\n",
    "# DataFrame, using df.set_index(), the .loc method directly selects based on index values of any rows.\n",
    "air_name = dataset.set_index('Operator')\n",
    "\n",
    "military = air_name.loc['Military - U.S. Army']"
   ],
   "metadata": {
    "collapsed": false
   }
  },
  {
   "cell_type": "code",
   "execution_count": 19,
   "outputs": [
    {
     "data": {
      "text/plain": "                      index        Date   Time  \\\nOperator                                         \nMilitary - U.S. Army      0  09/17/1908  17:18   \nMilitary - U.S. Army    643  03/22/1944    NaN   \nMilitary - U.S. Army    746  11/11/1945    NaN   \nMilitary - U.S. Army    751  12/08/1945    NaN   \nMilitary - U.S. Army   1640  01/10/1960  15:38   \nMilitary - U.S. Army   2050  05/04/1966  08:00   \nMilitary - U.S. Army   2075  10/04/1966    NaN   \nMilitary - U.S. Army   2229  06/25/1968  07:30   \nMilitary - U.S. Army   2303  04/02/1969  12:40   \nMilitary - U.S. Army   2313  05/06/1969  13:20   \nMilitary - U.S. Army   2417  08/26/1970    NaN   \nMilitary - U.S. Army   2490  08/18/1971  09:40   \nMilitary - U.S. Army   2511  11/28/1971  13:30   \nMilitary - U.S. Army   2549  05/10/1972  10:25   \nMilitary - U.S. Army   2603  10/31/1972  18:00   \nMilitary - U.S. Army   3377  09/11/1982  12:50   \nMilitary - U.S. Army   3753  03/08/1988  21:45   \nMilitary - U.S. Army   3906  12/01/1989  09:30   \nMilitary - U.S. Army   4646  07/23/1999  03:30   \nMilitary - U.S. Army   4845  02/22/2002  02:30   \n\n                                            Location Flight #  \\\nOperator                                                        \nMilitary - U.S. Army             Fort Myer, Virginia      NaN   \nMilitary - U.S. Army                      New Guinea      NaN   \nMilitary - U.S. Army                       Himalayas      NaN   \nMilitary - U.S. Army          Near Billings, Montana      NaN   \nMilitary - U.S. Army                   Gulf of Sirte      NaN   \nMilitary - U.S. Army     Near Di Linh, South Vietnam      NaN   \nMilitary - U.S. Army                 An Khe, Vietnam      NaN   \nMilitary - U.S. Army     Near Bearcat, South Vietnam      NaN   \nMilitary - U.S. Army   Near Quang Tri, South Vietnam      NaN   \nMilitary - U.S. Army  Near Chon Thanh, South Vietnam      NaN   \nMilitary - U.S. Army      Near Tam Ky, South Vietnam      NaN   \nMilitary - U.S. Army      Near Pegnitz, West Germany      NaN   \nMilitary - U.S. Army         Near Hue, South Vietnam      NaN   \nMilitary - U.S. Army    Near Gia Dinh, South Vietnam      NaN   \nMilitary - U.S. Army      Near My Tho, South Vietnam      NaN   \nMilitary - U.S. Army     Near Mannheim, West Germany      NaN   \nMilitary - U.S. Army     Near Clarksville, Tennessee      NaN   \nMilitary - U.S. Army              Patuxent, Maryland      NaN   \nMilitary - U.S. Army            Near Orito, Colombia      NaN   \nMilitary - U.S. Army      Off Dumaguete, Philippines        -   \n\n                                                  Route  \\\nOperator                                                  \nMilitary - U.S. Army                      Demonstration   \nMilitary - U.S. Army              Port Moreaby - Nadzab   \nMilitary - U.S. Army  Chabau, India - Karachi, Pakistan   \nMilitary - U.S. Army         Newark, N.J. - Seattle, WA   \nMilitary - U.S. Army                Misurata - Benghazi   \nMilitary - U.S. Army                                NaN   \nMilitary - U.S. Army                                NaN   \nMilitary - U.S. Army                                NaN   \nMilitary - U.S. Army                                NaN   \nMilitary - U.S. Army                                NaN   \nMilitary - U.S. Army                                NaN   \nMilitary - U.S. Army           Ludwigsburg - Grafenwohr   \nMilitary - U.S. Army               Da Nang - Camp Eagle   \nMilitary - U.S. Army                Bien Hoa - Vung Tau   \nMilitary - U.S. Army                                NaN   \nMilitary - U.S. Army                                NaN   \nMilitary - U.S. Army                                NaN   \nMilitary - U.S. Army  Fort Belvoir - Patuxent River NAS   \nMilitary - U.S. Army                                NaN   \nMilitary - U.S. Army            Basilan - Mactan Island   \n\n                                                      Type     Registration  \\\nOperator                                                                      \nMilitary - U.S. Army                      Wright Flyer III              NaN   \nMilitary - U.S. Army           Consolidated B-24 Liberator              NaN   \nMilitary - U.S. Army                          Douglas C-54              NaN   \nMilitary - U.S. Army                          Douglas C-47              NaN   \nMilitary - U.S. Army        de Havilland Canada U-1A Otter          55-2974   \nMilitary - U.S. Army             Boeing CH47A (helicopter)         64-13138   \nMilitary - U.S. Army     de Havilland Canada CV-2B Caribou          63-9751   \nMilitary - U.S. Army  Bell UH-1H / Bell UH-1H / Bell UH-1H              NaN   \nMilitary - U.S. Army      Boeing Vertol CH47C (helicopter)         67-18523   \nMilitary - U.S. Army      Boeing Vertol CH47A (helicopter)         66-19029   \nMilitary - U.S. Army      Boeing Vertol CH47B (helicopter)         67-18445   \nMilitary - U.S. Army     Boeing Vertol CH-47A (helicopter)         66-19023   \nMilitary - U.S. Army                  Boeing Vertol CH-47C         68-15866   \nMilitary - U.S. Army      Boeing Vertol CH47A (helicopter)              NaN   \nMilitary - U.S. Army      Boeing Vertol CH-47 (helicopter)              NaN   \nMilitary - U.S. Army     Boeing Vertol CH-47C (helicopter)         74-22292   \nMilitary - U.S. Army     Sikorsky UH-60A / Sikorsky UH-60A  8524462/8724605   \nMilitary - U.S. Army                  CASA 212 Aviocar 200           N296CA   \nMilitary - U.S. Army         de Havilland Canada DHC-7-102           N5382W   \nMilitary - U.S. Army              MH-47 Chinook helicopter          92-0471   \n\n                       cn/In  Aboard  Fatalities  Ground  \\\nOperator                                                   \nMilitary - U.S. Army       1     2.0         1.0     0.0   \nMilitary - U.S. Army     NaN    21.0        21.0     NaN   \nMilitary - U.S. Army     NaN    44.0        44.0     0.0   \nMilitary - U.S. Army     NaN    21.0        17.0     0.0   \nMilitary - U.S. Army      47    10.0        10.0     0.0   \nMilitary - U.S. Army     NaN    20.0        20.0     0.0   \nMilitary - U.S. Army     209    32.0        14.0     0.0   \nMilitary - U.S. Army     NaN    29.0        29.0     0.0   \nMilitary - U.S. Army     NaN    78.0        24.0     0.0   \nMilitary - U.S. Army     NaN    74.0        30.0     0.0   \nMilitary - U.S. Army     NaN    32.0        30.0     0.0   \nMilitary - U.S. Army     NaN    37.0        37.0     0.0   \nMilitary - U.S. Army     NaN    34.0        34.0     0.0   \nMilitary - U.S. Army     NaN    34.0        34.0     0.0   \nMilitary - U.S. Army     NaN    22.0        22.0     0.0   \nMilitary - U.S. Army     NaN    46.0        46.0     0.0   \nMilitary - U.S. Army     NaN    17.0        17.0     0.0   \nMilitary - U.S. Army     296     5.0         5.0     0.0   \nMilitary - U.S. Army      95     7.0         7.0     0.0   \nMilitary - U.S. Army  M-3719    10.0        10.0     0.0   \n\n                                                                Summary  \nOperator                                                                 \nMilitary - U.S. Army  During a demonstration flight, a U.S. Army fly...  \nMilitary - U.S. Army  Disappeared while en route on a non-combat mis...  \nMilitary - U.S. Army  Crashed into a mountain ridge 200 ft. short of...  \nMilitary - U.S. Army  Crashed into a field after hitting trees while...  \nMilitary - U.S. Army                              Missing, never found.  \nMilitary - U.S. Army  Engine failure caused the helicopter to crash ...  \nMilitary - U.S. Army  While attempting a go-around the plane hit Hon...  \nMilitary - U.S. Army  A mid-air collision between three helicopters ...  \nMilitary - U.S. Army  As the helicopter was taking off in a vertical...  \nMilitary - U.S. Army  As the helicopter was taking off, the landing ...  \nMilitary - U.S. Army                     Shot down by a rocket grenade.  \nMilitary - U.S. Army  The helicopter, carrying American troops to an...  \nMilitary - U.S. Army  Crashed into a mountain after attempting to fl...  \nMilitary - U.S. Army  Metal fatigue of the spar in a blade led to se...  \nMilitary - U.S. Army  Shot down by enemy fire over the Mekong Delta ...  \nMilitary - U.S. Army  Crashed after experiencing catastrophimechanic...  \nMilitary - U.S. Army  The two helicopters collided in mid-air in the...  \nMilitary - U.S. Army  The crew inadvertently selected 'Beta Range' o...  \nMilitary - U.S. Army  The plane crashed into Patascoy mountain at 7,...  \nMilitary - U.S. Army  A helicopter ferrying U.S. troops in a counter...  ",
      "text/html": "<div>\n<style scoped>\n    .dataframe tbody tr th:only-of-type {\n        vertical-align: middle;\n    }\n\n    .dataframe tbody tr th {\n        vertical-align: top;\n    }\n\n    .dataframe thead th {\n        text-align: right;\n    }\n</style>\n<table border=\"1\" class=\"dataframe\">\n  <thead>\n    <tr style=\"text-align: right;\">\n      <th></th>\n      <th>index</th>\n      <th>Date</th>\n      <th>Time</th>\n      <th>Location</th>\n      <th>Flight #</th>\n      <th>Route</th>\n      <th>Type</th>\n      <th>Registration</th>\n      <th>cn/In</th>\n      <th>Aboard</th>\n      <th>Fatalities</th>\n      <th>Ground</th>\n      <th>Summary</th>\n    </tr>\n    <tr>\n      <th>Operator</th>\n      <th></th>\n      <th></th>\n      <th></th>\n      <th></th>\n      <th></th>\n      <th></th>\n      <th></th>\n      <th></th>\n      <th></th>\n      <th></th>\n      <th></th>\n      <th></th>\n      <th></th>\n    </tr>\n  </thead>\n  <tbody>\n    <tr>\n      <th>Military - U.S. Army</th>\n      <td>0</td>\n      <td>09/17/1908</td>\n      <td>17:18</td>\n      <td>Fort Myer, Virginia</td>\n      <td>NaN</td>\n      <td>Demonstration</td>\n      <td>Wright Flyer III</td>\n      <td>NaN</td>\n      <td>1</td>\n      <td>2.0</td>\n      <td>1.0</td>\n      <td>0.0</td>\n      <td>During a demonstration flight, a U.S. Army fly...</td>\n    </tr>\n    <tr>\n      <th>Military - U.S. Army</th>\n      <td>643</td>\n      <td>03/22/1944</td>\n      <td>NaN</td>\n      <td>New Guinea</td>\n      <td>NaN</td>\n      <td>Port Moreaby - Nadzab</td>\n      <td>Consolidated B-24 Liberator</td>\n      <td>NaN</td>\n      <td>NaN</td>\n      <td>21.0</td>\n      <td>21.0</td>\n      <td>NaN</td>\n      <td>Disappeared while en route on a non-combat mis...</td>\n    </tr>\n    <tr>\n      <th>Military - U.S. Army</th>\n      <td>746</td>\n      <td>11/11/1945</td>\n      <td>NaN</td>\n      <td>Himalayas</td>\n      <td>NaN</td>\n      <td>Chabau, India - Karachi, Pakistan</td>\n      <td>Douglas C-54</td>\n      <td>NaN</td>\n      <td>NaN</td>\n      <td>44.0</td>\n      <td>44.0</td>\n      <td>0.0</td>\n      <td>Crashed into a mountain ridge 200 ft. short of...</td>\n    </tr>\n    <tr>\n      <th>Military - U.S. Army</th>\n      <td>751</td>\n      <td>12/08/1945</td>\n      <td>NaN</td>\n      <td>Near Billings, Montana</td>\n      <td>NaN</td>\n      <td>Newark, N.J. - Seattle, WA</td>\n      <td>Douglas C-47</td>\n      <td>NaN</td>\n      <td>NaN</td>\n      <td>21.0</td>\n      <td>17.0</td>\n      <td>0.0</td>\n      <td>Crashed into a field after hitting trees while...</td>\n    </tr>\n    <tr>\n      <th>Military - U.S. Army</th>\n      <td>1640</td>\n      <td>01/10/1960</td>\n      <td>15:38</td>\n      <td>Gulf of Sirte</td>\n      <td>NaN</td>\n      <td>Misurata - Benghazi</td>\n      <td>de Havilland Canada U-1A Otter</td>\n      <td>55-2974</td>\n      <td>47</td>\n      <td>10.0</td>\n      <td>10.0</td>\n      <td>0.0</td>\n      <td>Missing, never found.</td>\n    </tr>\n    <tr>\n      <th>Military - U.S. Army</th>\n      <td>2050</td>\n      <td>05/04/1966</td>\n      <td>08:00</td>\n      <td>Near Di Linh, South Vietnam</td>\n      <td>NaN</td>\n      <td>NaN</td>\n      <td>Boeing CH47A (helicopter)</td>\n      <td>64-13138</td>\n      <td>NaN</td>\n      <td>20.0</td>\n      <td>20.0</td>\n      <td>0.0</td>\n      <td>Engine failure caused the helicopter to crash ...</td>\n    </tr>\n    <tr>\n      <th>Military - U.S. Army</th>\n      <td>2075</td>\n      <td>10/04/1966</td>\n      <td>NaN</td>\n      <td>An Khe, Vietnam</td>\n      <td>NaN</td>\n      <td>NaN</td>\n      <td>de Havilland Canada CV-2B Caribou</td>\n      <td>63-9751</td>\n      <td>209</td>\n      <td>32.0</td>\n      <td>14.0</td>\n      <td>0.0</td>\n      <td>While attempting a go-around the plane hit Hon...</td>\n    </tr>\n    <tr>\n      <th>Military - U.S. Army</th>\n      <td>2229</td>\n      <td>06/25/1968</td>\n      <td>07:30</td>\n      <td>Near Bearcat, South Vietnam</td>\n      <td>NaN</td>\n      <td>NaN</td>\n      <td>Bell UH-1H / Bell UH-1H / Bell UH-1H</td>\n      <td>NaN</td>\n      <td>NaN</td>\n      <td>29.0</td>\n      <td>29.0</td>\n      <td>0.0</td>\n      <td>A mid-air collision between three helicopters ...</td>\n    </tr>\n    <tr>\n      <th>Military - U.S. Army</th>\n      <td>2303</td>\n      <td>04/02/1969</td>\n      <td>12:40</td>\n      <td>Near Quang Tri, South Vietnam</td>\n      <td>NaN</td>\n      <td>NaN</td>\n      <td>Boeing Vertol CH47C (helicopter)</td>\n      <td>67-18523</td>\n      <td>NaN</td>\n      <td>78.0</td>\n      <td>24.0</td>\n      <td>0.0</td>\n      <td>As the helicopter was taking off in a vertical...</td>\n    </tr>\n    <tr>\n      <th>Military - U.S. Army</th>\n      <td>2313</td>\n      <td>05/06/1969</td>\n      <td>13:20</td>\n      <td>Near Chon Thanh, South Vietnam</td>\n      <td>NaN</td>\n      <td>NaN</td>\n      <td>Boeing Vertol CH47A (helicopter)</td>\n      <td>66-19029</td>\n      <td>NaN</td>\n      <td>74.0</td>\n      <td>30.0</td>\n      <td>0.0</td>\n      <td>As the helicopter was taking off, the landing ...</td>\n    </tr>\n    <tr>\n      <th>Military - U.S. Army</th>\n      <td>2417</td>\n      <td>08/26/1970</td>\n      <td>NaN</td>\n      <td>Near Tam Ky, South Vietnam</td>\n      <td>NaN</td>\n      <td>NaN</td>\n      <td>Boeing Vertol CH47B (helicopter)</td>\n      <td>67-18445</td>\n      <td>NaN</td>\n      <td>32.0</td>\n      <td>30.0</td>\n      <td>0.0</td>\n      <td>Shot down by a rocket grenade.</td>\n    </tr>\n    <tr>\n      <th>Military - U.S. Army</th>\n      <td>2490</td>\n      <td>08/18/1971</td>\n      <td>09:40</td>\n      <td>Near Pegnitz, West Germany</td>\n      <td>NaN</td>\n      <td>Ludwigsburg - Grafenwohr</td>\n      <td>Boeing Vertol CH-47A (helicopter)</td>\n      <td>66-19023</td>\n      <td>NaN</td>\n      <td>37.0</td>\n      <td>37.0</td>\n      <td>0.0</td>\n      <td>The helicopter, carrying American troops to an...</td>\n    </tr>\n    <tr>\n      <th>Military - U.S. Army</th>\n      <td>2511</td>\n      <td>11/28/1971</td>\n      <td>13:30</td>\n      <td>Near Hue, South Vietnam</td>\n      <td>NaN</td>\n      <td>Da Nang - Camp Eagle</td>\n      <td>Boeing Vertol CH-47C</td>\n      <td>68-15866</td>\n      <td>NaN</td>\n      <td>34.0</td>\n      <td>34.0</td>\n      <td>0.0</td>\n      <td>Crashed into a mountain after attempting to fl...</td>\n    </tr>\n    <tr>\n      <th>Military - U.S. Army</th>\n      <td>2549</td>\n      <td>05/10/1972</td>\n      <td>10:25</td>\n      <td>Near Gia Dinh, South Vietnam</td>\n      <td>NaN</td>\n      <td>Bien Hoa - Vung Tau</td>\n      <td>Boeing Vertol CH47A (helicopter)</td>\n      <td>NaN</td>\n      <td>NaN</td>\n      <td>34.0</td>\n      <td>34.0</td>\n      <td>0.0</td>\n      <td>Metal fatigue of the spar in a blade led to se...</td>\n    </tr>\n    <tr>\n      <th>Military - U.S. Army</th>\n      <td>2603</td>\n      <td>10/31/1972</td>\n      <td>18:00</td>\n      <td>Near My Tho, South Vietnam</td>\n      <td>NaN</td>\n      <td>NaN</td>\n      <td>Boeing Vertol CH-47 (helicopter)</td>\n      <td>NaN</td>\n      <td>NaN</td>\n      <td>22.0</td>\n      <td>22.0</td>\n      <td>0.0</td>\n      <td>Shot down by enemy fire over the Mekong Delta ...</td>\n    </tr>\n    <tr>\n      <th>Military - U.S. Army</th>\n      <td>3377</td>\n      <td>09/11/1982</td>\n      <td>12:50</td>\n      <td>Near Mannheim, West Germany</td>\n      <td>NaN</td>\n      <td>NaN</td>\n      <td>Boeing Vertol CH-47C (helicopter)</td>\n      <td>74-22292</td>\n      <td>NaN</td>\n      <td>46.0</td>\n      <td>46.0</td>\n      <td>0.0</td>\n      <td>Crashed after experiencing catastrophimechanic...</td>\n    </tr>\n    <tr>\n      <th>Military - U.S. Army</th>\n      <td>3753</td>\n      <td>03/08/1988</td>\n      <td>21:45</td>\n      <td>Near Clarksville, Tennessee</td>\n      <td>NaN</td>\n      <td>NaN</td>\n      <td>Sikorsky UH-60A / Sikorsky UH-60A</td>\n      <td>8524462/8724605</td>\n      <td>NaN</td>\n      <td>17.0</td>\n      <td>17.0</td>\n      <td>0.0</td>\n      <td>The two helicopters collided in mid-air in the...</td>\n    </tr>\n    <tr>\n      <th>Military - U.S. Army</th>\n      <td>3906</td>\n      <td>12/01/1989</td>\n      <td>09:30</td>\n      <td>Patuxent, Maryland</td>\n      <td>NaN</td>\n      <td>Fort Belvoir - Patuxent River NAS</td>\n      <td>CASA 212 Aviocar 200</td>\n      <td>N296CA</td>\n      <td>296</td>\n      <td>5.0</td>\n      <td>5.0</td>\n      <td>0.0</td>\n      <td>The crew inadvertently selected 'Beta Range' o...</td>\n    </tr>\n    <tr>\n      <th>Military - U.S. Army</th>\n      <td>4646</td>\n      <td>07/23/1999</td>\n      <td>03:30</td>\n      <td>Near Orito, Colombia</td>\n      <td>NaN</td>\n      <td>NaN</td>\n      <td>de Havilland Canada DHC-7-102</td>\n      <td>N5382W</td>\n      <td>95</td>\n      <td>7.0</td>\n      <td>7.0</td>\n      <td>0.0</td>\n      <td>The plane crashed into Patascoy mountain at 7,...</td>\n    </tr>\n    <tr>\n      <th>Military - U.S. Army</th>\n      <td>4845</td>\n      <td>02/22/2002</td>\n      <td>02:30</td>\n      <td>Off Dumaguete, Philippines</td>\n      <td>-</td>\n      <td>Basilan - Mactan Island</td>\n      <td>MH-47 Chinook helicopter</td>\n      <td>92-0471</td>\n      <td>M-3719</td>\n      <td>10.0</td>\n      <td>10.0</td>\n      <td>0.0</td>\n      <td>A helicopter ferrying U.S. troops in a counter...</td>\n    </tr>\n  </tbody>\n</table>\n</div>"
     },
     "execution_count": 19,
     "metadata": {},
     "output_type": "execute_result"
    }
   ],
   "source": [
    "military.head(20)"
   ],
   "metadata": {
    "collapsed": false
   }
  },
  {
   "cell_type": "code",
   "execution_count": 17,
   "outputs": [
    {
     "name": "stdout",
     "output_type": "stream",
     "text": [
      "[('electronics',), ('GoShare',), ('information_schema',), ('mid_practice',), ('movie',), ('movies',), ('mysql',), ('parents',), ('performance_schema',), ('sys',)]\n",
      "Database is created\n"
     ]
    }
   ],
   "source": [
    "db_name='airplane_crashes'\n",
    "try:\n",
    "    mydb = mysql.connect(host='localhost', user='root', password='franci22') # you can add the auth_plugin here too (ref line 26)\n",
    "    if mydb.is_connected():\n",
    "        mycursor = mydb.cursor()\n",
    "        mycursor.execute('SHOW DATABASES')\n",
    "        result = mycursor.fetchall()\n",
    "        print(result)\n",
    "        for x in result:\n",
    "            if db_name == x[0]:\n",
    "                mycursor.execute('DROP DATABASE ' + db_name) # delete old database\n",
    "                mydb.commit() # make the changes official\n",
    "                print(\"The database already exists! The old database has been deleted!)\")\n",
    "\n",
    "        mycursor.execute(\"CREATE DATABASE \"+ db_name)\n",
    "        print(\"Database is created\")\n",
    "except Error as e:\n",
    "    print(\"Error while connecting to MySQL\", e)"
   ],
   "metadata": {
    "collapsed": false
   }
  },
  {
   "cell_type": "code",
   "execution_count": null,
   "outputs": [],
   "source": [],
   "metadata": {
    "collapsed": false,
    "pycharm": {
     "is_executing": true
    }
   }
  },
  {
   "cell_type": "code",
   "execution_count": null,
   "outputs": [],
   "source": [
    "mycursor.execute(\"USE\" + db_name)"
   ],
   "metadata": {
    "collapsed": false,
    "pycharm": {
     "is_executing": true
    }
   }
  },
  {
   "cell_type": "code",
   "execution_count": null,
   "outputs": [],
   "source": [],
   "metadata": {
    "collapsed": false
   }
  }
 ],
 "metadata": {
  "kernelspec": {
   "display_name": "Python 3",
   "language": "python",
   "name": "python3"
  },
  "language_info": {
   "codemirror_mode": {
    "name": "ipython",
    "version": 2
   },
   "file_extension": ".py",
   "mimetype": "text/x-python",
   "name": "python",
   "nbconvert_exporter": "python",
   "pygments_lexer": "ipython2",
   "version": "2.7.6"
  }
 },
 "nbformat": 4,
 "nbformat_minor": 0
}
