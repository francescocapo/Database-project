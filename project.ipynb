{
 "cells": [
  {
   "cell_type": "code",
   "execution_count": 19,
   "metadata": {
    "collapsed": true
   },
   "outputs": [],
   "source": [
    "import mysql.connector as mysql\n",
    "from mysql.connector import Error\n",
    "import pandas as pd\n",
    "import numpy as np"
   ]
  },
  {
   "cell_type": "code",
   "execution_count": 20,
   "outputs": [
    {
     "ename": "ParserError",
     "evalue": "Error tokenizing data. C error: Expected 6 fields in line 98, saw 9\n",
     "output_type": "error",
     "traceback": [
      "\u001B[0;31m---------------------------------------------------------------------------\u001B[0m",
      "\u001B[0;31mParserError\u001B[0m                               Traceback (most recent call last)",
      "\u001B[0;32m/var/folders/r9/tk3nsgjj4_j4z3n_rxsd7s580000gn/T/ipykernel_27427/3256076490.py\u001B[0m in \u001B[0;36m<module>\u001B[0;34m\u001B[0m\n\u001B[0;32m----> 1\u001B[0;31m \u001B[0mdataset\u001B[0m \u001B[0;34m=\u001B[0m \u001B[0mpd\u001B[0m\u001B[0;34m.\u001B[0m\u001B[0mread_csv\u001B[0m\u001B[0;34m(\u001B[0m\u001B[0;34m\"Airplane_Crashes_and_Fatalities_Since_1908.csv\"\u001B[0m\u001B[0;34m)\u001B[0m\u001B[0;34m\u001B[0m\u001B[0;34m\u001B[0m\u001B[0m\n\u001B[0m",
      "\u001B[0;32m/opt/anaconda3/lib/python3.9/site-packages/pandas/util/_decorators.py\u001B[0m in \u001B[0;36mwrapper\u001B[0;34m(*args, **kwargs)\u001B[0m\n\u001B[1;32m    309\u001B[0m                     \u001B[0mstacklevel\u001B[0m\u001B[0;34m=\u001B[0m\u001B[0mstacklevel\u001B[0m\u001B[0;34m,\u001B[0m\u001B[0;34m\u001B[0m\u001B[0;34m\u001B[0m\u001B[0m\n\u001B[1;32m    310\u001B[0m                 )\n\u001B[0;32m--> 311\u001B[0;31m             \u001B[0;32mreturn\u001B[0m \u001B[0mfunc\u001B[0m\u001B[0;34m(\u001B[0m\u001B[0;34m*\u001B[0m\u001B[0margs\u001B[0m\u001B[0;34m,\u001B[0m \u001B[0;34m**\u001B[0m\u001B[0mkwargs\u001B[0m\u001B[0;34m)\u001B[0m\u001B[0;34m\u001B[0m\u001B[0;34m\u001B[0m\u001B[0m\n\u001B[0m\u001B[1;32m    312\u001B[0m \u001B[0;34m\u001B[0m\u001B[0m\n\u001B[1;32m    313\u001B[0m         \u001B[0;32mreturn\u001B[0m \u001B[0mwrapper\u001B[0m\u001B[0;34m\u001B[0m\u001B[0;34m\u001B[0m\u001B[0m\n",
      "\u001B[0;32m/opt/anaconda3/lib/python3.9/site-packages/pandas/io/parsers/readers.py\u001B[0m in \u001B[0;36mread_csv\u001B[0;34m(filepath_or_buffer, sep, delimiter, header, names, index_col, usecols, squeeze, prefix, mangle_dupe_cols, dtype, engine, converters, true_values, false_values, skipinitialspace, skiprows, skipfooter, nrows, na_values, keep_default_na, na_filter, verbose, skip_blank_lines, parse_dates, infer_datetime_format, keep_date_col, date_parser, dayfirst, cache_dates, iterator, chunksize, compression, thousands, decimal, lineterminator, quotechar, quoting, doublequote, escapechar, comment, encoding, encoding_errors, dialect, error_bad_lines, warn_bad_lines, on_bad_lines, delim_whitespace, low_memory, memory_map, float_precision, storage_options)\u001B[0m\n\u001B[1;32m    676\u001B[0m     \u001B[0mkwds\u001B[0m\u001B[0;34m.\u001B[0m\u001B[0mupdate\u001B[0m\u001B[0;34m(\u001B[0m\u001B[0mkwds_defaults\u001B[0m\u001B[0;34m)\u001B[0m\u001B[0;34m\u001B[0m\u001B[0;34m\u001B[0m\u001B[0m\n\u001B[1;32m    677\u001B[0m \u001B[0;34m\u001B[0m\u001B[0m\n\u001B[0;32m--> 678\u001B[0;31m     \u001B[0;32mreturn\u001B[0m \u001B[0m_read\u001B[0m\u001B[0;34m(\u001B[0m\u001B[0mfilepath_or_buffer\u001B[0m\u001B[0;34m,\u001B[0m \u001B[0mkwds\u001B[0m\u001B[0;34m)\u001B[0m\u001B[0;34m\u001B[0m\u001B[0;34m\u001B[0m\u001B[0m\n\u001B[0m\u001B[1;32m    679\u001B[0m \u001B[0;34m\u001B[0m\u001B[0m\n\u001B[1;32m    680\u001B[0m \u001B[0;34m\u001B[0m\u001B[0m\n",
      "\u001B[0;32m/opt/anaconda3/lib/python3.9/site-packages/pandas/io/parsers/readers.py\u001B[0m in \u001B[0;36m_read\u001B[0;34m(filepath_or_buffer, kwds)\u001B[0m\n\u001B[1;32m    579\u001B[0m \u001B[0;34m\u001B[0m\u001B[0m\n\u001B[1;32m    580\u001B[0m     \u001B[0;32mwith\u001B[0m \u001B[0mparser\u001B[0m\u001B[0;34m:\u001B[0m\u001B[0;34m\u001B[0m\u001B[0;34m\u001B[0m\u001B[0m\n\u001B[0;32m--> 581\u001B[0;31m         \u001B[0;32mreturn\u001B[0m \u001B[0mparser\u001B[0m\u001B[0;34m.\u001B[0m\u001B[0mread\u001B[0m\u001B[0;34m(\u001B[0m\u001B[0mnrows\u001B[0m\u001B[0;34m)\u001B[0m\u001B[0;34m\u001B[0m\u001B[0;34m\u001B[0m\u001B[0m\n\u001B[0m\u001B[1;32m    582\u001B[0m \u001B[0;34m\u001B[0m\u001B[0m\n\u001B[1;32m    583\u001B[0m \u001B[0;34m\u001B[0m\u001B[0m\n",
      "\u001B[0;32m/opt/anaconda3/lib/python3.9/site-packages/pandas/io/parsers/readers.py\u001B[0m in \u001B[0;36mread\u001B[0;34m(self, nrows)\u001B[0m\n\u001B[1;32m   1251\u001B[0m             \u001B[0mnrows\u001B[0m \u001B[0;34m=\u001B[0m \u001B[0mvalidate_integer\u001B[0m\u001B[0;34m(\u001B[0m\u001B[0;34m\"nrows\"\u001B[0m\u001B[0;34m,\u001B[0m \u001B[0mnrows\u001B[0m\u001B[0;34m)\u001B[0m\u001B[0;34m\u001B[0m\u001B[0;34m\u001B[0m\u001B[0m\n\u001B[1;32m   1252\u001B[0m             \u001B[0;32mtry\u001B[0m\u001B[0;34m:\u001B[0m\u001B[0;34m\u001B[0m\u001B[0;34m\u001B[0m\u001B[0m\n\u001B[0;32m-> 1253\u001B[0;31m                 \u001B[0mindex\u001B[0m\u001B[0;34m,\u001B[0m \u001B[0mcolumns\u001B[0m\u001B[0;34m,\u001B[0m \u001B[0mcol_dict\u001B[0m \u001B[0;34m=\u001B[0m \u001B[0mself\u001B[0m\u001B[0;34m.\u001B[0m\u001B[0m_engine\u001B[0m\u001B[0;34m.\u001B[0m\u001B[0mread\u001B[0m\u001B[0;34m(\u001B[0m\u001B[0mnrows\u001B[0m\u001B[0;34m)\u001B[0m\u001B[0;34m\u001B[0m\u001B[0;34m\u001B[0m\u001B[0m\n\u001B[0m\u001B[1;32m   1254\u001B[0m             \u001B[0;32mexcept\u001B[0m \u001B[0mException\u001B[0m\u001B[0;34m:\u001B[0m\u001B[0;34m\u001B[0m\u001B[0;34m\u001B[0m\u001B[0m\n\u001B[1;32m   1255\u001B[0m                 \u001B[0mself\u001B[0m\u001B[0;34m.\u001B[0m\u001B[0mclose\u001B[0m\u001B[0;34m(\u001B[0m\u001B[0;34m)\u001B[0m\u001B[0;34m\u001B[0m\u001B[0;34m\u001B[0m\u001B[0m\n",
      "\u001B[0;32m/opt/anaconda3/lib/python3.9/site-packages/pandas/io/parsers/c_parser_wrapper.py\u001B[0m in \u001B[0;36mread\u001B[0;34m(self, nrows)\u001B[0m\n\u001B[1;32m    223\u001B[0m         \u001B[0;32mtry\u001B[0m\u001B[0;34m:\u001B[0m\u001B[0;34m\u001B[0m\u001B[0;34m\u001B[0m\u001B[0m\n\u001B[1;32m    224\u001B[0m             \u001B[0;32mif\u001B[0m \u001B[0mself\u001B[0m\u001B[0;34m.\u001B[0m\u001B[0mlow_memory\u001B[0m\u001B[0;34m:\u001B[0m\u001B[0;34m\u001B[0m\u001B[0;34m\u001B[0m\u001B[0m\n\u001B[0;32m--> 225\u001B[0;31m                 \u001B[0mchunks\u001B[0m \u001B[0;34m=\u001B[0m \u001B[0mself\u001B[0m\u001B[0;34m.\u001B[0m\u001B[0m_reader\u001B[0m\u001B[0;34m.\u001B[0m\u001B[0mread_low_memory\u001B[0m\u001B[0;34m(\u001B[0m\u001B[0mnrows\u001B[0m\u001B[0;34m)\u001B[0m\u001B[0;34m\u001B[0m\u001B[0;34m\u001B[0m\u001B[0m\n\u001B[0m\u001B[1;32m    226\u001B[0m                 \u001B[0;31m# destructive to chunks\u001B[0m\u001B[0;34m\u001B[0m\u001B[0;34m\u001B[0m\u001B[0m\n\u001B[1;32m    227\u001B[0m                 \u001B[0mdata\u001B[0m \u001B[0;34m=\u001B[0m \u001B[0m_concatenate_chunks\u001B[0m\u001B[0;34m(\u001B[0m\u001B[0mchunks\u001B[0m\u001B[0;34m)\u001B[0m\u001B[0;34m\u001B[0m\u001B[0;34m\u001B[0m\u001B[0m\n",
      "\u001B[0;32m/opt/anaconda3/lib/python3.9/site-packages/pandas/_libs/parsers.pyx\u001B[0m in \u001B[0;36mpandas._libs.parsers.TextReader.read_low_memory\u001B[0;34m()\u001B[0m\n",
      "\u001B[0;32m/opt/anaconda3/lib/python3.9/site-packages/pandas/_libs/parsers.pyx\u001B[0m in \u001B[0;36mpandas._libs.parsers.TextReader._read_rows\u001B[0;34m()\u001B[0m\n",
      "\u001B[0;32m/opt/anaconda3/lib/python3.9/site-packages/pandas/_libs/parsers.pyx\u001B[0m in \u001B[0;36mpandas._libs.parsers.TextReader._tokenize_rows\u001B[0;34m()\u001B[0m\n",
      "\u001B[0;32m/opt/anaconda3/lib/python3.9/site-packages/pandas/_libs/parsers.pyx\u001B[0m in \u001B[0;36mpandas._libs.parsers.raise_parser_error\u001B[0;34m()\u001B[0m\n",
      "\u001B[0;31mParserError\u001B[0m: Error tokenizing data. C error: Expected 6 fields in line 98, saw 9\n"
     ]
    }
   ],
   "source": [
    "dataset = pd.read_csv(\"Airplane_Crashes_and_Fatalities_Since_1908.csv\")"
   ],
   "metadata": {
    "collapsed": false
   }
  },
  {
   "cell_type": "code",
   "execution_count": null,
   "outputs": [],
   "source": [
    "db_name='airplane_crashes'\n",
    "try:\n",
    "    mydb = mysql.connect(host='localhost', user='root', password='franci22') # you can add the auth_plugin here too (ref line 26)\n",
    "    if mydb.is_connected():\n",
    "        mycursor = mydb.cursor()\n",
    "        mycursor.execute('SHOW DATABASES')\n",
    "\n",
    "        result = mycursor.fetchall()\n",
    "        print(result)\n",
    "        for x in result:\n",
    "            if db_name == x[0]:\n",
    "                mycursor.execute('DROP DATABASE ' + db_name) # delete old database\n",
    "                mydb.commit() # make the changes official\n",
    "                print(\"The database already exists! The old database has been deleted!)\")\n",
    "\n",
    "        mycursor.execute(\"CREATE DATABASE \"+ db_name)\n",
    "        print(\"Database is created\")\n",
    "except Error as e:\n",
    "    print(\"Error while connecting to MySQL\", e)"
   ],
   "metadata": {
    "collapsed": false
   }
  },
  {
   "cell_type": "code",
   "execution_count": null,
   "outputs": [],
   "source": [
    "mycursor.execute('USE' + ' ' + db_name)"
   ],
   "metadata": {
    "collapsed": false
   }
  },
  {
   "cell_type": "code",
   "execution_count": null,
   "outputs": [],
   "source": [
    "#create tables\n",
    "mycursor.execute(\n",
    "      '''\n",
    "        CREATE TABLE `Airplane` (\n",
    "          `serial_number` varchar(100),\n",
    "          `registration` varchar(100),\n",
    "          `operator` varchar(100),\n",
    "          `type` varchar(100),\n",
    "          PRIMARY KEY (serial_number, registration)\n",
    "        );\n",
    "      '''\n",
    "      )"
   ],
   "metadata": {
    "collapsed": false
   }
  },
  {
   "cell_type": "code",
   "execution_count": null,
   "outputs": [],
   "source": [
    "mycursor.execute(\n",
    "      '''\n",
    "        CREATE TABLE Flight (\n",
    "           flight_number varchar(100),\n",
    "           aboard int,\n",
    "           route varchar(100),\n",
    "           serial_number varchar(100),\n",
    "           registration varchar(100),\n",
    "           PRIMARY KEY (flight_number),\n",
    "           FOREIGN KEY (`serial_number`, `registration`) REFERENCES `Airplane` (`serial_number`, `registration`)\n",
    "        );\n",
    "      '''\n",
    "      )"
   ],
   "metadata": {
    "collapsed": false
   }
  },
  {
   "cell_type": "code",
   "execution_count": null,
   "outputs": [],
   "source": [
    "mycursor.execute(\n",
    "    '''\n",
    "        CREATE TABLE `Crash` (\n",
    "          `index` int,\n",
    "          `date` date,\n",
    "          `time` time,\n",
    "          `location` varchar(100),\n",
    "          `serial_number` varchar(100),\n",
    "          `registration` varchar(100),\n",
    "          `number_of_fatalities` int,\n",
    "          `ground` int,\n",
    "          `summary` varchar(2000),\n",
    "          PRIMARY KEY (`index`),\n",
    "          FOREIGN KEY (`serial_number`, `registration`) REFERENCES `Airplane`(`serial_number`, `registration`)\n",
    "        );\n",
    "    '''\n",
    ")"
   ],
   "metadata": {
    "collapsed": false
   }
  },
  {
   "cell_type": "code",
   "execution_count": null,
   "outputs": [],
   "source": [
    "selection = dataset.iloc[3196:] #take values from 1980-90 and take all columns except from the first\n",
    "null_val = selection.isnull().sum()\n",
    "selection = selection.drop(labels='Flight #', axis=1)\n",
    "#selection.head()"
   ],
   "metadata": {
    "collapsed": false
   }
  },
  {
   "cell_type": "code",
   "execution_count": null,
   "outputs": [],
   "source": [
    "import random\n",
    "\n",
    "#FLIGHT NUMBER\n",
    "flight_number = []\n",
    "\n",
    "while len(flight_number) != 2072:\n",
    "    n = random.randint(1000, 10000)\n",
    "    if n not in flight_number:\n",
    "        flight_number.append(n)\n",
    "\n",
    "\n",
    "selection.insert(6, 'Flight#', flight_number)\n",
    "\n",
    "#SERIAL NUMBER\n",
    "serial_num = selection.loc[3196:, 'cn/In']\n",
    "serial_num_ = list(serial_num)\n",
    "selection = selection.drop(labels='cn/In', axis=1)\n",
    "\n",
    "for x in range(len(serial_num_)):\n",
    "    n = random.randint(100, 8000)\n",
    "    if serial_num_[x] is np.nan:\n",
    "        while n in serial_num:\n",
    "            n = random.randint(100, 8000)\n",
    "        serial_num_[x] = str(n)\n",
    "\n",
    "selection.insert(9, 'Serial#', serial_num_)\n",
    "\n",
    "\n",
    "#REGISTRATION\n",
    "\n",
    "registration = selection.loc[3196:, 'Registration']\n",
    "registration_ = list(registration)\n",
    "selection = selection.drop(labels='Registration', axis=1)\n",
    "\n",
    "import string\n",
    "for r in range(len(registration_)):\n",
    "    reg1 = ''.join(random.choice(string.ascii_uppercase) for x in range(2))\n",
    "    reg2 = ''.join(random.choice(string.ascii_uppercase) for x in range(3))\n",
    "    reg = reg1+'-'+reg2\n",
    "    if reg not in registration_:\n",
    "        registration_[r] = reg\n",
    "\n",
    "selection.insert(8, 'Registration', registration_)\n",
    "\n",
    "'''\n",
    "null_val = selection.isnull().sum()\n",
    "#print(selection)\n",
    "#print('null values are:')\n",
    "print(null_val)\n",
    "'''\n",
    "\n",
    "#TIME\n",
    "import datetime\n",
    "from datetime import datetime\n",
    "\n",
    "times = selection['Time'].tolist()\n",
    "t2 = []\n",
    "for t in times:\n",
    "    if type(t) != str:\n",
    "            t2.append(0)\n",
    "    else:\n",
    "        allowed_characters = ['0','1','2','3','4','5','6','7','8','9',':']\n",
    "        for i in t:\n",
    "            if i not in allowed_characters or (i == ':' in (t[0] or t[-1])):\n",
    "                t = t.replace(i,'')\n",
    "        if ':' not in t:\n",
    "            t = t[:len(t)//2]+':'+t[len(t)//2:]\n",
    "        p = t.partition(':')\n",
    "        if len(p[0]) > 2:\n",
    "            t = t[1:]\n",
    "        if len(p[2]) > 2:\n",
    "            t = t[:-1]\n",
    "        try:\n",
    "            time = datetime.strptime(t, '%H:%M').time()\n",
    "            t2.append(time)\n",
    "        except:\n",
    "            t2.append(0)\n",
    "            continue\n",
    "selection = selection.drop(labels='Time', axis=1)\n",
    "selection.insert(2, 'Time', t2)\n",
    "\n",
    "\n",
    "#DATE\n",
    "\n",
    "date = selection.loc[3196:, 'Date']\n",
    "date_ = list(date)\n",
    "list = [datetime.strptime(x,'%m/%d/%Y').strftime('%Y/%m/%d') for x in date_]\n",
    "selection = selection.drop(labels='Date', axis=1)\n",
    "selection.insert(1, 'Date', list)"
   ],
   "metadata": {
    "collapsed": false
   }
  },
  {
   "cell_type": "code",
   "execution_count": null,
   "outputs": [],
   "source": [
    "datairplane = selection[['Serial#', 'Registration', 'Operator', 'Type']]"
   ],
   "metadata": {
    "collapsed": false
   }
  },
  {
   "cell_type": "code",
   "execution_count": null,
   "outputs": [],
   "source": [
    "for i,row in datairplane.iterrows():\n",
    "    sql = \"INSERT INTO airplane_crashes.Airplane VALUES (%s,%s,%s,%s)\"\n",
    "    mycursor.execute(sql, tuple([row['Serial#'], row['Registration'], row['Operator'], row['Type']]))\n",
    "    mydb.commit()"
   ],
   "metadata": {
    "collapsed": false
   }
  },
  {
   "cell_type": "code",
   "execution_count": null,
   "outputs": [],
   "source": [
    "#mycursor.execute(\"SELECT * FROM Airplane\")\n",
    "#result = mycursor.fetchall()\n",
    "#print(result)"
   ],
   "metadata": {
    "collapsed": false
   }
  },
  {
   "cell_type": "code",
   "execution_count": null,
   "outputs": [],
   "source": [
    "dataflight = selection[['Flight#', 'Aboard', 'Route', 'Serial#', 'Registration']]"
   ],
   "metadata": {
    "collapsed": false
   }
  },
  {
   "cell_type": "code",
   "execution_count": null,
   "outputs": [],
   "source": [
    "for i, row in dataflight.iterrows():\n",
    "    sql = \"INSERT INTO airplane_crashes.Flight VALUES (%s,%s,%s,%s,%s)\"\n",
    "    mycursor.execute(sql, tuple([row['Flight#'], row['Aboard'], row['Route'], row['Serial#'], row['Registration']]))\n",
    "    mydb.commit()"
   ],
   "metadata": {
    "collapsed": false
   }
  },
  {
   "cell_type": "code",
   "execution_count": null,
   "outputs": [],
   "source": [
    "datacrash = selection[['index', 'Date', 'Time', 'Location', 'Serial#', 'Registration', 'Fatalities', 'Ground', 'Summary']]"
   ],
   "metadata": {
    "collapsed": false
   }
  },
  {
   "cell_type": "code",
   "execution_count": null,
   "outputs": [],
   "source": [
    "for i, row in datacrash.iterrows():\n",
    "    sql = \"INSERT INTO airplane_crashes.Crash VALUES (%s,%s,%s,%s,%s,%s,%s,%s,%s)\"\n",
    "    mycursor.execute(sql, tuple([row['index'], row['Date'], row['Time'], row['Location'],  row['Serial#'], row['Registration'],  row['Fatalities'], row['Ground'], row['Summary']]))\n",
    "    mydb.commit()"
   ],
   "metadata": {
    "collapsed": false
   }
  }
 ],
 "metadata": {
  "kernelspec": {
   "display_name": "Python 3",
   "language": "python",
   "name": "python3"
  },
  "language_info": {
   "codemirror_mode": {
    "name": "ipython",
    "version": 2
   },
   "file_extension": ".py",
   "mimetype": "text/x-python",
   "name": "python",
   "nbconvert_exporter": "python",
   "pygments_lexer": "ipython2",
   "version": "2.7.6"
  }
 },
 "nbformat": 4,
 "nbformat_minor": 0
}
