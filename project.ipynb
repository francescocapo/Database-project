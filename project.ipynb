{
 "cells": [
  {
   "cell_type": "code",
   "execution_count": null,
   "metadata": {
    "collapsed": true
   },
   "outputs": [],
   "source": [
    "import mysql.connector as mysql\n",
    "from mysql.connector import Error\n",
    "import pandas as pd\n",
    "import numpy as np"
   ]
  },
  {
   "cell_type": "code",
   "execution_count": null,
   "outputs": [],
   "source": [
    "dataset = pd.read_csv(\"Airplane_Crashes_and_Fatalities_Since_1908.csv\")"
   ],
   "metadata": {
    "collapsed": false
   }
  },
  {
   "cell_type": "code",
   "execution_count": null,
   "outputs": [
    {
     "name": "stdout",
     "output_type": "stream",
     "text": [
      "[('airplane_crashes',), ('electronics',), ('example_database',), ('GoShare',), ('information_schema',), ('mid_practice',), ('movies',), ('mysql',), ('parents',), ('performance_schema',), ('sys',)]\n",
      "The database already exists! The old database has been deleted!)\n",
      "Database is created\n"
     ]
    }
   ],
   "source": [
    "db_name='airplane_crashes'\n",
    "try:\n",
    "    mydb = mysql.connect(host='localhost', user='root', password='franci22') # you can add the auth_plugin here too (ref line 26)\n",
    "    if mydb.is_connected():\n",
    "        mycursor = mydb.cursor()\n",
    "        mycursor.execute('SHOW DATABASES')\n",
    "        result = mycursor.fetchall()\n",
    "        print(result)\n",
    "        for x in result:\n",
    "            if db_name == x[0]:\n",
    "                mycursor.execute('DROP DATABASE ' + db_name) # delete old database\n",
    "                mydb.commit() # make the changes official\n",
    "                print(\"The database already exists! The old database has been deleted!)\")\n",
    "\n",
    "        mycursor.execute(\"CREATE DATABASE \"+ db_name)\n",
    "        print(\"Database is created\")\n",
    "except Error as e:\n",
    "    print(\"Error while connecting to MySQL\", e)"
   ],
   "metadata": {
    "collapsed": false
   }
  },
  {
   "cell_type": "code",
   "execution_count": null,
   "outputs": [],
   "source": [
    "mycursor.execute('USE' + ' ' + db_name)"
   ],
   "metadata": {
    "collapsed": false
   }
  },
  {
   "cell_type": "code",
   "execution_count": null,
   "outputs": [],
   "source": [
    "#create tables\n",
    "mycursor.execute(\n",
    "      '''\n",
    "        CREATE TABLE `Airplane` (\n",
    "          `serial_number` varchar(100),\n",
    "          `registration` varchar(100),\n",
    "          `operator` varchar(100),\n",
    "          `type` varchar(100),\n",
    "          PRIMARY KEY (serial_number, registration)\n",
    "        );\n",
    "      '''\n",
    "      )"
   ],
   "metadata": {
    "collapsed": false
   }
  },
  {
   "cell_type": "code",
   "execution_count": null,
   "outputs": [],
   "source": [
    "mycursor.execute(\n",
    "      '''\n",
    "        CREATE TABLE Flight (\n",
    "           flight_number varchar(100),\n",
    "           aboard int,\n",
    "           route varchar(100),\n",
    "           serial_number varchar(100),\n",
    "           registration varchar(100),\n",
    "           PRIMARY KEY (flight_number),\n",
    "           FOREIGN KEY (`serial_number`, `registration`) REFERENCES `Airplane` (`serial_number`, `registration`)\n",
    "        );\n",
    "      '''\n",
    "      )"
   ],
   "metadata": {
    "collapsed": false
   }
  },
  {
   "cell_type": "code",
   "execution_count": null,
   "outputs": [],
   "source": [
    "mycursor.execute(\n",
    "    '''\n",
    "        CREATE TABLE `Crash` (\n",
    "          `index` int,\n",
    "          `date` date,\n",
    "          `time` time,\n",
    "          `location` varchar(100),\n",
    "          `summary` varchar(2000),\n",
    "          `serial_number` varchar(100),\n",
    "          `registration` varchar(100),\n",
    "          PRIMARY KEY (`index`),\n",
    "          FOREIGN KEY (`serial_number`, `registration`) REFERENCES `Airplane`(`serial_number`, `registration`)\n",
    "        );\n",
    "    '''\n",
    ")"
   ],
   "metadata": {
    "collapsed": false
   }
  },
  {
   "cell_type": "code",
   "execution_count": null,
   "outputs": [],
   "source": [
    "mycursor.execute(\n",
    "    '''\n",
    "    CREATE TABLE `Fatalities` (\n",
    "    `crash_index` int,\n",
    "    `number_of_fatalities` FLOAT,\n",
    "    `ground` FLOAT,\n",
    "    PRIMARY KEY (`crash_index`),\n",
    "    FOREIGN KEY (`crash_index`) REFERENCES `Crash`(`index`)\n",
    ");\n",
    "    '''\n",
    ")"
   ],
   "metadata": {
    "collapsed": false
   }
  },
  {
   "cell_type": "code",
   "execution_count": null,
   "outputs": [
    {
     "data": {
      "text/plain": "      index        Date   Time                                    Location  \\\n3196   3196  01/02/1980    NaN                                       Haiti   \n3197   3197  01/11/1980  01:23                       Over the AtlantiOcean   \n3198   3198  01/21/1980  19:10  Elburz Mtns., near Laskarak, Markazi, Iran   \n3199   3199  01/23/1980    NaN                    Mt. Cemonyet,  Indonesia   \n3200   3200  01/24/1980  06:20                        Near Mandalay, Burma   \n\n                                 Operator                          Route  \\\n3196                      Haïti Air Inter  Port au Prince - Cape Haitien   \n3197                      Private charter       Shreveport - Baton Rouge   \n3198               Iran National Airlines             Babol Sar - Tehran   \n3199                   Pelita Air Service                            NaN   \n3200  Military - Union of Burma Air Force             Mandalay - Rangoon   \n\n                            Type Registration      cn/In  Aboard  Fatalities  \\\n3196  Britten Norman BN Islander       HH-CNC        474     9.0         9.0   \n3197         Cessna 441 Conquest       N442NC        NaN     2.0         2.0   \n3198             Boeing B-727-86       EP-IRD  19817/537   128.0       128.0   \n3199        CASA 212 Aviocar 100       PK-PCX      45/3N    13.0        13.0   \n3200           Fairchild FH-227H         5003        545    44.0        43.0   \n\n      Ground                                            Summary  \n3196     0.0  Struck high ground in poor visibility while en...  \n3197     0.0  The plane was on a 45 minute fight from Shreve...  \n3198     0.0  The aircraft crashed into a mountain during a ...  \n3199     0.0  Hit high ground at 2,700 ft. in poor weather w...  \n3200     0.0  Crashed into a building while attempting an em...  ",
      "text/html": "<div>\n<style scoped>\n    .dataframe tbody tr th:only-of-type {\n        vertical-align: middle;\n    }\n\n    .dataframe tbody tr th {\n        vertical-align: top;\n    }\n\n    .dataframe thead th {\n        text-align: right;\n    }\n</style>\n<table border=\"1\" class=\"dataframe\">\n  <thead>\n    <tr style=\"text-align: right;\">\n      <th></th>\n      <th>index</th>\n      <th>Date</th>\n      <th>Time</th>\n      <th>Location</th>\n      <th>Operator</th>\n      <th>Route</th>\n      <th>Type</th>\n      <th>Registration</th>\n      <th>cn/In</th>\n      <th>Aboard</th>\n      <th>Fatalities</th>\n      <th>Ground</th>\n      <th>Summary</th>\n    </tr>\n  </thead>\n  <tbody>\n    <tr>\n      <th>3196</th>\n      <td>3196</td>\n      <td>01/02/1980</td>\n      <td>NaN</td>\n      <td>Haiti</td>\n      <td>Haïti Air Inter</td>\n      <td>Port au Prince - Cape Haitien</td>\n      <td>Britten Norman BN Islander</td>\n      <td>HH-CNC</td>\n      <td>474</td>\n      <td>9.0</td>\n      <td>9.0</td>\n      <td>0.0</td>\n      <td>Struck high ground in poor visibility while en...</td>\n    </tr>\n    <tr>\n      <th>3197</th>\n      <td>3197</td>\n      <td>01/11/1980</td>\n      <td>01:23</td>\n      <td>Over the AtlantiOcean</td>\n      <td>Private charter</td>\n      <td>Shreveport - Baton Rouge</td>\n      <td>Cessna 441 Conquest</td>\n      <td>N442NC</td>\n      <td>NaN</td>\n      <td>2.0</td>\n      <td>2.0</td>\n      <td>0.0</td>\n      <td>The plane was on a 45 minute fight from Shreve...</td>\n    </tr>\n    <tr>\n      <th>3198</th>\n      <td>3198</td>\n      <td>01/21/1980</td>\n      <td>19:10</td>\n      <td>Elburz Mtns., near Laskarak, Markazi, Iran</td>\n      <td>Iran National Airlines</td>\n      <td>Babol Sar - Tehran</td>\n      <td>Boeing B-727-86</td>\n      <td>EP-IRD</td>\n      <td>19817/537</td>\n      <td>128.0</td>\n      <td>128.0</td>\n      <td>0.0</td>\n      <td>The aircraft crashed into a mountain during a ...</td>\n    </tr>\n    <tr>\n      <th>3199</th>\n      <td>3199</td>\n      <td>01/23/1980</td>\n      <td>NaN</td>\n      <td>Mt. Cemonyet,  Indonesia</td>\n      <td>Pelita Air Service</td>\n      <td>NaN</td>\n      <td>CASA 212 Aviocar 100</td>\n      <td>PK-PCX</td>\n      <td>45/3N</td>\n      <td>13.0</td>\n      <td>13.0</td>\n      <td>0.0</td>\n      <td>Hit high ground at 2,700 ft. in poor weather w...</td>\n    </tr>\n    <tr>\n      <th>3200</th>\n      <td>3200</td>\n      <td>01/24/1980</td>\n      <td>06:20</td>\n      <td>Near Mandalay, Burma</td>\n      <td>Military - Union of Burma Air Force</td>\n      <td>Mandalay - Rangoon</td>\n      <td>Fairchild FH-227H</td>\n      <td>5003</td>\n      <td>545</td>\n      <td>44.0</td>\n      <td>43.0</td>\n      <td>0.0</td>\n      <td>Crashed into a building while attempting an em...</td>\n    </tr>\n  </tbody>\n</table>\n</div>"
     },
     "execution_count": 9,
     "metadata": {},
     "output_type": "execute_result"
    }
   ],
   "source": [
    "selection = dataset.iloc[3196:] #take values from 1980-90 and take all columns except from the first\n",
    "null_val = selection.isnull().sum()\n",
    "selection = selection.drop(labels='Flight #', axis=1)\n",
    "selection.head()"
   ],
   "metadata": {
    "collapsed": false
   }
  },
  {
   "cell_type": "code",
   "execution_count": null,
   "outputs": [],
   "source": [
    "import random\n",
    "\n",
    "#FLIGHT NUMBER\n",
    "flight_number = []\n",
    "\n",
    "while len(flight_number) != 2072:\n",
    "    n = random.randint(1000, 10000)\n",
    "    if n not in flight_number:\n",
    "        flight_number.append(n)\n",
    "\n",
    "\n",
    "selection.insert(6, 'Flight#', flight_number)\n",
    "\n",
    "#SERIAL NUMBER\n",
    "serial_num = selection.loc[3196:, 'cn/In']\n",
    "serial_num_ = list(serial_num)\n",
    "selection = selection.drop(labels='cn/In', axis=1)\n",
    "\n",
    "for x in range(len(serial_num_)):\n",
    "    n = random.randint(100, 8000)\n",
    "    if serial_num_[x] is np.nan:\n",
    "        while n in serial_num:\n",
    "            n = random.randint(100, 8000)\n",
    "        serial_num_[x] = str(n)\n",
    "\n",
    "selection.insert(9, 'Serial#', serial_num_)\n",
    "\n",
    "\n",
    "#REGISTRATION\n",
    "\n",
    "registration = selection.loc[3196:, 'Registration']\n",
    "registration_ = list(registration)\n",
    "selection = selection.drop(labels='Registration', axis=1)\n",
    "\n",
    "import string\n",
    "for r in range(len(registration_)):\n",
    "    reg1 = ''.join(random.choice(string.ascii_uppercase) for x in range(2))\n",
    "    reg2 = ''.join(random.choice(string.ascii_uppercase) for x in range(3))\n",
    "    reg = reg1+'-'+reg2\n",
    "    if reg not in registration_:\n",
    "        registration_[r] = reg\n",
    "\n",
    "selection.insert(8, 'Registration', registration_)\n",
    "\n",
    "'''\n",
    "null_val = selection.isnull().sum()\n",
    "#print(selection)\n",
    "#print('null values are:')\n",
    "print(null_val)\n",
    "'''\n",
    "\n",
    "#TIME\n",
    "import datetime\n",
    "from datetime import datetime\n",
    "\n",
    "times = selection['Time'].tolist()\n",
    "t2 = []\n",
    "for t in times:\n",
    "    if type(t) != str:\n",
    "            t2.append(0)\n",
    "    else:\n",
    "        allowed_characters = ['0','1','2','3','4','5','6','7','8','9',':']\n",
    "        for i in t:\n",
    "            if i not in allowed_characters or (i == ':' in (t[0] or t[-1])):\n",
    "                t = t.replace(i,'')\n",
    "        if ':' not in t:\n",
    "            t = t[:len(t)//2]+':'+t[len(t)//2:]\n",
    "        p = t.partition(':')\n",
    "        if len(p[0]) > 2:\n",
    "            t = t[1:]\n",
    "        if len(p[2]) > 2:\n",
    "            t = t[:-1]\n",
    "        try:\n",
    "            time = datetime.strptime(t, '%H:%M').time()\n",
    "            t2.append(time)\n",
    "        except:\n",
    "            t2.append(0)\n",
    "            continue\n",
    "selection = selection.drop(labels='Time', axis=1)\n",
    "selection.insert(2, 'Time', t2)\n",
    "\n",
    "\n",
    "#DATE\n",
    "\n",
    "date = selection.loc[3196:, 'Date']\n",
    "date_ = list(date)\n",
    "list = [datetime.strptime(x,'%m/%d/%Y').strftime('%Y/%m/%d') for x in date_]\n",
    "#print(list)\n",
    "selection = selection.drop(labels='Date', axis=1)\n",
    "selection.insert(1, 'Date', list)\n",
    "\n",
    "\n",
    "#Fatalities"
   ],
   "metadata": {
    "collapsed": false
   }
  },
  {
   "cell_type": "code",
   "execution_count": null,
   "outputs": [],
   "source": [
    "datairplane = selection[['Serial#', 'Registration', 'Operator', 'Type']]"
   ],
   "metadata": {
    "collapsed": false
   }
  },
  {
   "cell_type": "code",
   "execution_count": null,
   "outputs": [
    {
     "data": {
      "text/plain": "      index        Date      Time                                    Location  \\\n3196   3196  1980/01/02         0                                       Haiti   \n3197   3197  1980/01/11  01:23:00                       Over the AtlantiOcean   \n3198   3198  1980/01/21  19:10:00  Elburz Mtns., near Laskarak, Markazi, Iran   \n3199   3199  1980/01/23         0                    Mt. Cemonyet,  Indonesia   \n3200   3200  1980/01/24  06:20:00                        Near Mandalay, Burma   \n...     ...         ...       ...                                         ...   \n5191   5191  2008/02/26  16:16:00         Off Macae , Rio de Janeiro , Brazil   \n5192   5192  2008/03/03  16:00:00                         Near Bethani, Nepal   \n5193   5193  2008/03/15  08:15:00                              Nbagu, Nigeria   \n5194   5194  2008/04/03  11:00:00                              Lawa, Suriname   \n5195   5195  2008/04/09  23:27:00                         Bundeena, Australia   \n\n                                         Operator  \\\n3196                              Haïti Air Inter   \n3197                              Private charter   \n3198                       Iran National Airlines   \n3199                           Pelita Air Service   \n3200          Military - Union of Burma Air Force   \n...                                           ...   \n5191  BHS - Brazilian Helicopter Service Air Taxi   \n5192                       United Nations Mission   \n5193                    Trade Wings Aviation Ltd.   \n5194                           Blue Wing Airlines   \n5195                           Avtex Air Services   \n\n                              Route  Flight#  \\\n3196  Port au Prince - Cape Haitien     6218   \n3197       Shreveport - Baton Rouge     6083   \n3198             Babol Sar - Tehran     2898   \n3199                            NaN     2719   \n3200             Mandalay - Rangoon     5580   \n...                             ...      ...   \n5191            Oil Rig P18 - Macae     9017   \n5192                            NaN     2548   \n5193         Lagos - Bebi Air Strip     6274   \n5194              Paramaribo - Lawa     5981   \n5195              Sydney - Brisbane     2406   \n\n                                   Type Registration    Serial#  Aboard  \\\n3196         Britten Norman BN Islander       TV-YEY        474     9.0   \n3197                Cessna 441 Conquest       UP-XWZ       7167     2.0   \n3198                    Boeing B-727-86       RF-LTZ  19817/537   128.0   \n3199               CASA 212 Aviocar 100       DI-NXZ      45/3N    13.0   \n3200                  Fairchild FH-227H       RY-BCV        545    44.0   \n...                                 ...          ...        ...     ...   \n5191     Eurocopter  AS332L2 Super Puma       JC-SVX       2570    20.0   \n5192                              Mi-17       EZ-PYT       2144    10.0   \n5193                   Beechcraft 1900D       ZU-AUN     UE-322     3.0   \n5194                      Antonov An-28       CT-UWC  1AJ007-17    19.0   \n5195  Swearingen SA227AC Metroliner III       OF-CEZ     AC-600     1.0   \n\n      Fatalities  Ground                                            Summary  \n3196         9.0     0.0  Struck high ground in poor visibility while en...  \n3197         2.0     0.0  The plane was on a 45 minute fight from Shreve...  \n3198       128.0     0.0  The aircraft crashed into a mountain during a ...  \n3199        13.0     0.0  Hit high ground at 2,700 ft. in poor weather w...  \n3200        43.0     0.0  Crashed into a building while attempting an em...  \n...          ...     ...                                                ...  \n5191         5.0     0.0  Less than half minute after the taking-off fro...  \n5192        10.0     0.0  The helicopter, carrying United Nations person...  \n5193         3.0     0.0  The plane crashed while en route. Wreckage was...  \n5194        19.0     0.0  While attempting to land the crew aborted the ...  \n5195         1.0     0.0  The pilot of the mail plane reported some mino...  \n\n[2000 rows x 14 columns]",
      "text/html": "<div>\n<style scoped>\n    .dataframe tbody tr th:only-of-type {\n        vertical-align: middle;\n    }\n\n    .dataframe tbody tr th {\n        vertical-align: top;\n    }\n\n    .dataframe thead th {\n        text-align: right;\n    }\n</style>\n<table border=\"1\" class=\"dataframe\">\n  <thead>\n    <tr style=\"text-align: right;\">\n      <th></th>\n      <th>index</th>\n      <th>Date</th>\n      <th>Time</th>\n      <th>Location</th>\n      <th>Operator</th>\n      <th>Route</th>\n      <th>Flight#</th>\n      <th>Type</th>\n      <th>Registration</th>\n      <th>Serial#</th>\n      <th>Aboard</th>\n      <th>Fatalities</th>\n      <th>Ground</th>\n      <th>Summary</th>\n    </tr>\n  </thead>\n  <tbody>\n    <tr>\n      <th>3196</th>\n      <td>3196</td>\n      <td>1980/01/02</td>\n      <td>0</td>\n      <td>Haiti</td>\n      <td>Haïti Air Inter</td>\n      <td>Port au Prince - Cape Haitien</td>\n      <td>6218</td>\n      <td>Britten Norman BN Islander</td>\n      <td>TV-YEY</td>\n      <td>474</td>\n      <td>9.0</td>\n      <td>9.0</td>\n      <td>0.0</td>\n      <td>Struck high ground in poor visibility while en...</td>\n    </tr>\n    <tr>\n      <th>3197</th>\n      <td>3197</td>\n      <td>1980/01/11</td>\n      <td>01:23:00</td>\n      <td>Over the AtlantiOcean</td>\n      <td>Private charter</td>\n      <td>Shreveport - Baton Rouge</td>\n      <td>6083</td>\n      <td>Cessna 441 Conquest</td>\n      <td>UP-XWZ</td>\n      <td>7167</td>\n      <td>2.0</td>\n      <td>2.0</td>\n      <td>0.0</td>\n      <td>The plane was on a 45 minute fight from Shreve...</td>\n    </tr>\n    <tr>\n      <th>3198</th>\n      <td>3198</td>\n      <td>1980/01/21</td>\n      <td>19:10:00</td>\n      <td>Elburz Mtns., near Laskarak, Markazi, Iran</td>\n      <td>Iran National Airlines</td>\n      <td>Babol Sar - Tehran</td>\n      <td>2898</td>\n      <td>Boeing B-727-86</td>\n      <td>RF-LTZ</td>\n      <td>19817/537</td>\n      <td>128.0</td>\n      <td>128.0</td>\n      <td>0.0</td>\n      <td>The aircraft crashed into a mountain during a ...</td>\n    </tr>\n    <tr>\n      <th>3199</th>\n      <td>3199</td>\n      <td>1980/01/23</td>\n      <td>0</td>\n      <td>Mt. Cemonyet,  Indonesia</td>\n      <td>Pelita Air Service</td>\n      <td>NaN</td>\n      <td>2719</td>\n      <td>CASA 212 Aviocar 100</td>\n      <td>DI-NXZ</td>\n      <td>45/3N</td>\n      <td>13.0</td>\n      <td>13.0</td>\n      <td>0.0</td>\n      <td>Hit high ground at 2,700 ft. in poor weather w...</td>\n    </tr>\n    <tr>\n      <th>3200</th>\n      <td>3200</td>\n      <td>1980/01/24</td>\n      <td>06:20:00</td>\n      <td>Near Mandalay, Burma</td>\n      <td>Military - Union of Burma Air Force</td>\n      <td>Mandalay - Rangoon</td>\n      <td>5580</td>\n      <td>Fairchild FH-227H</td>\n      <td>RY-BCV</td>\n      <td>545</td>\n      <td>44.0</td>\n      <td>43.0</td>\n      <td>0.0</td>\n      <td>Crashed into a building while attempting an em...</td>\n    </tr>\n    <tr>\n      <th>...</th>\n      <td>...</td>\n      <td>...</td>\n      <td>...</td>\n      <td>...</td>\n      <td>...</td>\n      <td>...</td>\n      <td>...</td>\n      <td>...</td>\n      <td>...</td>\n      <td>...</td>\n      <td>...</td>\n      <td>...</td>\n      <td>...</td>\n      <td>...</td>\n    </tr>\n    <tr>\n      <th>5191</th>\n      <td>5191</td>\n      <td>2008/02/26</td>\n      <td>16:16:00</td>\n      <td>Off Macae , Rio de Janeiro , Brazil</td>\n      <td>BHS - Brazilian Helicopter Service Air Taxi</td>\n      <td>Oil Rig P18 - Macae</td>\n      <td>9017</td>\n      <td>Eurocopter  AS332L2 Super Puma</td>\n      <td>JC-SVX</td>\n      <td>2570</td>\n      <td>20.0</td>\n      <td>5.0</td>\n      <td>0.0</td>\n      <td>Less than half minute after the taking-off fro...</td>\n    </tr>\n    <tr>\n      <th>5192</th>\n      <td>5192</td>\n      <td>2008/03/03</td>\n      <td>16:00:00</td>\n      <td>Near Bethani, Nepal</td>\n      <td>United Nations Mission</td>\n      <td>NaN</td>\n      <td>2548</td>\n      <td>Mi-17</td>\n      <td>EZ-PYT</td>\n      <td>2144</td>\n      <td>10.0</td>\n      <td>10.0</td>\n      <td>0.0</td>\n      <td>The helicopter, carrying United Nations person...</td>\n    </tr>\n    <tr>\n      <th>5193</th>\n      <td>5193</td>\n      <td>2008/03/15</td>\n      <td>08:15:00</td>\n      <td>Nbagu, Nigeria</td>\n      <td>Trade Wings Aviation Ltd.</td>\n      <td>Lagos - Bebi Air Strip</td>\n      <td>6274</td>\n      <td>Beechcraft 1900D</td>\n      <td>ZU-AUN</td>\n      <td>UE-322</td>\n      <td>3.0</td>\n      <td>3.0</td>\n      <td>0.0</td>\n      <td>The plane crashed while en route. Wreckage was...</td>\n    </tr>\n    <tr>\n      <th>5194</th>\n      <td>5194</td>\n      <td>2008/04/03</td>\n      <td>11:00:00</td>\n      <td>Lawa, Suriname</td>\n      <td>Blue Wing Airlines</td>\n      <td>Paramaribo - Lawa</td>\n      <td>5981</td>\n      <td>Antonov An-28</td>\n      <td>CT-UWC</td>\n      <td>1AJ007-17</td>\n      <td>19.0</td>\n      <td>19.0</td>\n      <td>0.0</td>\n      <td>While attempting to land the crew aborted the ...</td>\n    </tr>\n    <tr>\n      <th>5195</th>\n      <td>5195</td>\n      <td>2008/04/09</td>\n      <td>23:27:00</td>\n      <td>Bundeena, Australia</td>\n      <td>Avtex Air Services</td>\n      <td>Sydney - Brisbane</td>\n      <td>2406</td>\n      <td>Swearingen SA227AC Metroliner III</td>\n      <td>OF-CEZ</td>\n      <td>AC-600</td>\n      <td>1.0</td>\n      <td>1.0</td>\n      <td>0.0</td>\n      <td>The pilot of the mail plane reported some mino...</td>\n    </tr>\n  </tbody>\n</table>\n<p>2000 rows × 14 columns</p>\n</div>"
     },
     "execution_count": 12,
     "metadata": {},
     "output_type": "execute_result"
    }
   ],
   "source": [
    "#selection.head(2000)"
   ],
   "metadata": {
    "collapsed": false
   }
  },
  {
   "cell_type": "code",
   "execution_count": null,
   "outputs": [],
   "source": [
    "for i,row in datairplane.iterrows():\n",
    "    sql = \"INSERT INTO airplane_crashes.Airplane VALUES (%s,%s,%s,%s)\"\n",
    "    mycursor.execute(sql, tuple([row['Serial#'], row['Registration'], row['Operator'], row['Type']]))\n",
    "    mydb.commit()"
   ],
   "metadata": {
    "collapsed": false
   }
  },
  {
   "cell_type": "code",
   "execution_count": null,
   "outputs": [],
   "source": [
    "#mycursor.execute(\"SELECT * FROM Airplane\")\n",
    "#result = mycursor.fetchall()\n",
    "#print(result)"
   ],
   "metadata": {
    "collapsed": false
   }
  },
  {
   "cell_type": "code",
   "execution_count": null,
   "outputs": [],
   "source": [
    "dataflight = selection[['Flight#', 'Aboard', 'Route', 'Serial#', 'Registration']]"
   ],
   "metadata": {
    "collapsed": false
   }
  },
  {
   "cell_type": "code",
   "execution_count": null,
   "outputs": [],
   "source": [
    "for i, row in dataflight.iterrows():\n",
    "    sql = \"INSERT INTO airplane_crashes.Flight VALUES (%s,%s,%s,%s,%s)\"\n",
    "    mycursor.execute(sql, tuple([row['Flight#'], row['Aboard'], row['Route'], row['Serial#'], row['Registration']]))\n",
    "\n",
    "    mydb.commit()"
   ],
   "metadata": {
    "collapsed": false
   }
  },
  {
   "cell_type": "code",
   "execution_count": null,
   "outputs": [],
   "source": [
    "datacrash = selection[['index', 'Date', 'Time', 'Location', 'Summary', 'Serial#', 'Registration']]"
   ],
   "metadata": {
    "collapsed": false
   }
  },
  {
   "cell_type": "code",
   "execution_count": null,
   "outputs": [],
   "source": [
    "for i, row in datacrash.iterrows():\n",
    "    sql = \"INSERT INTO airplane_crashes.Crash VALUES (%s,%s,%s,%s,%s,%s,%s)\"\n",
    "    mycursor.execute(sql, tuple([row['index'], row['Date'], row['Time'], row['Location'],  row['Summary'], row['Serial#'], row['Registration']]))\n",
    "\n",
    "    mydb.commit()"
   ],
   "metadata": {
    "collapsed": false
   }
  },
  {
   "cell_type": "code",
   "execution_count": null,
   "outputs": [
    {
     "ename": "ProgrammingError",
     "evalue": "Failed processing format-parameters; Python 'float64' cannot be converted to a MySQL type",
     "output_type": "error",
     "traceback": [
      "\u001B[0;31m---------------------------------------------------------------------------\u001B[0m",
      "\u001B[0;31mTypeError\u001B[0m                                 Traceback (most recent call last)",
      "\u001B[0;32m~/opt/anaconda3/lib/python3.9/site-packages/mysql/connector/cursor.py\u001B[0m in \u001B[0;36m_process_params\u001B[0;34m(self, params)\u001B[0m\n\u001B[1;32m    418\u001B[0m \u001B[0;34m\u001B[0m\u001B[0m\n\u001B[0;32m--> 419\u001B[0;31m             \u001B[0mres\u001B[0m \u001B[0;34m=\u001B[0m \u001B[0;34m[\u001B[0m\u001B[0mto_mysql\u001B[0m\u001B[0;34m(\u001B[0m\u001B[0mvalue\u001B[0m\u001B[0;34m)\u001B[0m \u001B[0;32mfor\u001B[0m \u001B[0mvalue\u001B[0m \u001B[0;32min\u001B[0m \u001B[0mres\u001B[0m\u001B[0;34m]\u001B[0m\u001B[0;34m\u001B[0m\u001B[0;34m\u001B[0m\u001B[0m\n\u001B[0m\u001B[1;32m    420\u001B[0m             \u001B[0mres\u001B[0m \u001B[0;34m=\u001B[0m \u001B[0;34m[\u001B[0m\u001B[0mescape\u001B[0m\u001B[0;34m(\u001B[0m\u001B[0mvalue\u001B[0m\u001B[0;34m)\u001B[0m \u001B[0;32mfor\u001B[0m \u001B[0mvalue\u001B[0m \u001B[0;32min\u001B[0m \u001B[0mres\u001B[0m\u001B[0;34m]\u001B[0m\u001B[0;34m\u001B[0m\u001B[0;34m\u001B[0m\u001B[0m\n",
      "\u001B[0;32m~/opt/anaconda3/lib/python3.9/site-packages/mysql/connector/cursor.py\u001B[0m in \u001B[0;36m<listcomp>\u001B[0;34m(.0)\u001B[0m\n\u001B[1;32m    418\u001B[0m \u001B[0;34m\u001B[0m\u001B[0m\n\u001B[0;32m--> 419\u001B[0;31m             \u001B[0mres\u001B[0m \u001B[0;34m=\u001B[0m \u001B[0;34m[\u001B[0m\u001B[0mto_mysql\u001B[0m\u001B[0;34m(\u001B[0m\u001B[0mvalue\u001B[0m\u001B[0;34m)\u001B[0m \u001B[0;32mfor\u001B[0m \u001B[0mvalue\u001B[0m \u001B[0;32min\u001B[0m \u001B[0mres\u001B[0m\u001B[0;34m]\u001B[0m\u001B[0;34m\u001B[0m\u001B[0;34m\u001B[0m\u001B[0m\n\u001B[0m\u001B[1;32m    420\u001B[0m             \u001B[0mres\u001B[0m \u001B[0;34m=\u001B[0m \u001B[0;34m[\u001B[0m\u001B[0mescape\u001B[0m\u001B[0;34m(\u001B[0m\u001B[0mvalue\u001B[0m\u001B[0;34m)\u001B[0m \u001B[0;32mfor\u001B[0m \u001B[0mvalue\u001B[0m \u001B[0;32min\u001B[0m \u001B[0mres\u001B[0m\u001B[0;34m]\u001B[0m\u001B[0;34m\u001B[0m\u001B[0;34m\u001B[0m\u001B[0m\n",
      "\u001B[0;32m~/opt/anaconda3/lib/python3.9/site-packages/mysql/connector/conversion.py\u001B[0m in \u001B[0;36mto_mysql\u001B[0;34m(self, value)\u001B[0m\n\u001B[1;32m    191\u001B[0m                 \u001B[0;32mreturn\u001B[0m \u001B[0mstr\u001B[0m\u001B[0;34m(\u001B[0m\u001B[0mvalue\u001B[0m\u001B[0;34m)\u001B[0m\u001B[0;34m.\u001B[0m\u001B[0mencode\u001B[0m\u001B[0;34m(\u001B[0m\u001B[0;34m)\u001B[0m\u001B[0;34m\u001B[0m\u001B[0;34m\u001B[0m\u001B[0m\n\u001B[0;32m--> 192\u001B[0;31m             raise TypeError(\n\u001B[0m\u001B[1;32m    193\u001B[0m                 \u001B[0;34mf\"Python '{type_name}' cannot be converted to a MySQL type\"\u001B[0m\u001B[0;34m\u001B[0m\u001B[0;34m\u001B[0m\u001B[0m\n",
      "\u001B[0;31mTypeError\u001B[0m: Python 'float64' cannot be converted to a MySQL type",
      "\nThe above exception was the direct cause of the following exception:\n",
      "\u001B[0;31mProgrammingError\u001B[0m                          Traceback (most recent call last)",
      "\u001B[0;32m/var/folders/xr/fxzmlkxj7hj_7ywm0m_3sf8w0000gn/T/ipykernel_35634/2229106454.py\u001B[0m in \u001B[0;36m<module>\u001B[0;34m\u001B[0m\n\u001B[1;32m      2\u001B[0m \u001B[0;32mfor\u001B[0m \u001B[0mi\u001B[0m\u001B[0;34m,\u001B[0m \u001B[0mrow\u001B[0m \u001B[0;32min\u001B[0m \u001B[0mdatafatalities\u001B[0m\u001B[0;34m.\u001B[0m\u001B[0miterrows\u001B[0m\u001B[0;34m(\u001B[0m\u001B[0;34m)\u001B[0m\u001B[0;34m:\u001B[0m\u001B[0;34m\u001B[0m\u001B[0;34m\u001B[0m\u001B[0m\n\u001B[1;32m      3\u001B[0m     \u001B[0msql\u001B[0m \u001B[0;34m=\u001B[0m \u001B[0;34m\"INSERT INTO airplane_crashes.Flight VALUES (%s,%s,%s)\"\u001B[0m\u001B[0;34m\u001B[0m\u001B[0;34m\u001B[0m\u001B[0m\n\u001B[0;32m----> 4\u001B[0;31m     \u001B[0mmycursor\u001B[0m\u001B[0;34m.\u001B[0m\u001B[0mexecute\u001B[0m\u001B[0;34m(\u001B[0m\u001B[0msql\u001B[0m\u001B[0;34m,\u001B[0m \u001B[0mtuple\u001B[0m\u001B[0;34m(\u001B[0m\u001B[0;34m[\u001B[0m \u001B[0mrow\u001B[0m\u001B[0;34m[\u001B[0m\u001B[0;34m'index'\u001B[0m\u001B[0;34m]\u001B[0m\u001B[0;34m,\u001B[0m \u001B[0mint\u001B[0m\u001B[0;34m(\u001B[0m\u001B[0mrow\u001B[0m\u001B[0;34m[\u001B[0m\u001B[0;34m'Fatalities'\u001B[0m\u001B[0;34m]\u001B[0m\u001B[0;34m)\u001B[0m\u001B[0;34m,\u001B[0m \u001B[0mint\u001B[0m\u001B[0;34m(\u001B[0m\u001B[0mrow\u001B[0m\u001B[0;34m[\u001B[0m\u001B[0;34m'Ground'\u001B[0m\u001B[0;34m]\u001B[0m\u001B[0;34m)\u001B[0m\u001B[0;34m]\u001B[0m\u001B[0;34m)\u001B[0m\u001B[0;34m)\u001B[0m\u001B[0;34m\u001B[0m\u001B[0;34m\u001B[0m\u001B[0m\n\u001B[0m\u001B[1;32m      5\u001B[0m \u001B[0;34m\u001B[0m\u001B[0m\n\u001B[1;32m      6\u001B[0m     \u001B[0mmydb\u001B[0m\u001B[0;34m.\u001B[0m\u001B[0mcommit\u001B[0m\u001B[0;34m(\u001B[0m\u001B[0;34m)\u001B[0m\u001B[0;34m\u001B[0m\u001B[0;34m\u001B[0m\u001B[0m\n",
      "\u001B[0;32m~/opt/anaconda3/lib/python3.9/site-packages/mysql/connector/cursor.py\u001B[0m in \u001B[0;36mexecute\u001B[0;34m(self, operation, params, multi)\u001B[0m\n\u001B[1;32m    541\u001B[0m                 \u001B[0mstmt\u001B[0m \u001B[0;34m=\u001B[0m \u001B[0m_bytestr_format_dict\u001B[0m\u001B[0;34m(\u001B[0m\u001B[0mstmt\u001B[0m\u001B[0;34m,\u001B[0m \u001B[0mself\u001B[0m\u001B[0;34m.\u001B[0m\u001B[0m_process_params_dict\u001B[0m\u001B[0;34m(\u001B[0m\u001B[0mparams\u001B[0m\u001B[0;34m)\u001B[0m\u001B[0;34m)\u001B[0m\u001B[0;34m\u001B[0m\u001B[0;34m\u001B[0m\u001B[0m\n\u001B[1;32m    542\u001B[0m             \u001B[0;32melif\u001B[0m \u001B[0misinstance\u001B[0m\u001B[0;34m(\u001B[0m\u001B[0mparams\u001B[0m\u001B[0;34m,\u001B[0m \u001B[0;34m(\u001B[0m\u001B[0mlist\u001B[0m\u001B[0;34m,\u001B[0m \u001B[0mtuple\u001B[0m\u001B[0;34m)\u001B[0m\u001B[0;34m)\u001B[0m\u001B[0;34m:\u001B[0m\u001B[0;34m\u001B[0m\u001B[0;34m\u001B[0m\u001B[0m\n\u001B[0;32m--> 543\u001B[0;31m                 \u001B[0mpsub\u001B[0m \u001B[0;34m=\u001B[0m \u001B[0m_ParamSubstitutor\u001B[0m\u001B[0;34m(\u001B[0m\u001B[0mself\u001B[0m\u001B[0;34m.\u001B[0m\u001B[0m_process_params\u001B[0m\u001B[0;34m(\u001B[0m\u001B[0mparams\u001B[0m\u001B[0;34m)\u001B[0m\u001B[0;34m)\u001B[0m\u001B[0;34m\u001B[0m\u001B[0;34m\u001B[0m\u001B[0m\n\u001B[0m\u001B[1;32m    544\u001B[0m                 \u001B[0mstmt\u001B[0m \u001B[0;34m=\u001B[0m \u001B[0mRE_PY_PARAM\u001B[0m\u001B[0;34m.\u001B[0m\u001B[0msub\u001B[0m\u001B[0;34m(\u001B[0m\u001B[0mpsub\u001B[0m\u001B[0;34m,\u001B[0m \u001B[0mstmt\u001B[0m\u001B[0;34m)\u001B[0m\u001B[0;34m\u001B[0m\u001B[0;34m\u001B[0m\u001B[0m\n\u001B[1;32m    545\u001B[0m                 \u001B[0;32mif\u001B[0m \u001B[0mpsub\u001B[0m\u001B[0;34m.\u001B[0m\u001B[0mremaining\u001B[0m \u001B[0;34m!=\u001B[0m \u001B[0;36m0\u001B[0m\u001B[0;34m:\u001B[0m\u001B[0;34m\u001B[0m\u001B[0;34m\u001B[0m\u001B[0m\n",
      "\u001B[0;32m~/opt/anaconda3/lib/python3.9/site-packages/mysql/connector/cursor.py\u001B[0m in \u001B[0;36m_process_params\u001B[0;34m(self, params)\u001B[0m\n\u001B[1;32m    424\u001B[0m             ]\n\u001B[1;32m    425\u001B[0m         \u001B[0;32mexcept\u001B[0m \u001B[0mException\u001B[0m \u001B[0;32mas\u001B[0m \u001B[0merr\u001B[0m\u001B[0;34m:\u001B[0m\u001B[0;34m\u001B[0m\u001B[0;34m\u001B[0m\u001B[0m\n\u001B[0;32m--> 426\u001B[0;31m             raise ProgrammingError(\n\u001B[0m\u001B[1;32m    427\u001B[0m                 \u001B[0;34mf\"Failed processing format-parameters; {err}\"\u001B[0m\u001B[0;34m\u001B[0m\u001B[0;34m\u001B[0m\u001B[0m\n\u001B[1;32m    428\u001B[0m             ) from err\n",
      "\u001B[0;31mProgrammingError\u001B[0m: Failed processing format-parameters; Python 'float64' cannot be converted to a MySQL type"
     ]
    }
   ],
   "source": [
    "datafatalities = selection[['index', 'Fatalities', 'Ground']]\n",
    "for i, row in datafatalities.iterrows():\n",
    "    sql = \"INSERT INTO airplane_crashes.Flight VALUES (%s,%s,%s)\"\n",
    "    mycursor.execute(sql, tuple([ row['index'], int(row['Fatalities']), int(row['Ground'])]))\n",
    "\n",
    "    mydb.commit()"
   ],
   "metadata": {
    "collapsed": false
   }
  }
 ],
 "metadata": {
  "kernelspec": {
   "display_name": "Python 3",
   "language": "python",
   "name": "python3"
  },
  "language_info": {
   "codemirror_mode": {
    "name": "ipython",
    "version": 2
   },
   "file_extension": ".py",
   "mimetype": "text/x-python",
   "name": "python",
   "nbconvert_exporter": "python",
   "pygments_lexer": "ipython2",
   "version": "2.7.6"
  }
 },
 "nbformat": 4,
 "nbformat_minor": 0
}
