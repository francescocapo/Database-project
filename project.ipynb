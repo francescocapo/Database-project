{
 "cells": [
  {
   "cell_type": "code",
   "execution_count": 83,
   "metadata": {
    "collapsed": true
   },
   "outputs": [],
   "source": [
    "import mysql.connector as mysql\n",
    "from mysql.connector import Error\n",
    "import pandas as pd\n",
    "import numpy as np"
   ]
  },
  {
   "cell_type": "code",
   "execution_count": 84,
   "outputs": [],
   "source": [
    "dataset = pd.read_csv(\"Airplane_Crashes_and_Fatalities_Since_1908.csv\")"
   ],
   "metadata": {
    "collapsed": false
   }
  },
  {
   "cell_type": "code",
   "execution_count": 85,
   "outputs": [
    {
     "name": "stdout",
     "output_type": "stream",
     "text": [
      "[('airplane_crashes',), ('electronics',), ('example_database',), ('GoShare',), ('information_schema',), ('mid_practice',), ('movies',), ('mysql',), ('parents',), ('performance_schema',), ('sys',)]\n",
      "The database already exists! The old database has been deleted!)\n",
      "Database is created\n"
     ]
    }
   ],
   "source": [
    "db_name='airplane_crashes'\n",
    "try:\n",
    "    mydb = mysql.connect(host='localhost', user='root', password='franci22') # you can add the auth_plugin here too (ref line 26)\n",
    "    if mydb.is_connected():\n",
    "        mycursor = mydb.cursor()\n",
    "        mycursor.execute('SHOW DATABASES')\n",
    "        result = mycursor.fetchall()\n",
    "        print(result)\n",
    "        for x in result:\n",
    "            if db_name == x[0]:\n",
    "                mycursor.execute('DROP DATABASE ' + db_name) # delete old database\n",
    "                mydb.commit() # make the changes official\n",
    "                print(\"The database already exists! The old database has been deleted!)\")\n",
    "\n",
    "        mycursor.execute(\"CREATE DATABASE \"+ db_name)\n",
    "        print(\"Database is created\")\n",
    "except Error as e:\n",
    "    print(\"Error while connecting to MySQL\", e)"
   ],
   "metadata": {
    "collapsed": false
   }
  },
  {
   "cell_type": "code",
   "execution_count": 86,
   "outputs": [],
   "source": [
    "mycursor.execute('USE' + ' ' + db_name)"
   ],
   "metadata": {
    "collapsed": false
   }
  },
  {
   "cell_type": "code",
   "execution_count": 87,
   "outputs": [],
   "source": [
    "#create tables\n",
    "mycursor.execute(\n",
    "      '''\n",
    "        CREATE TABLE `Airplane` (\n",
    "          `serial_number` varchar(100),\n",
    "          `registration` varchar(100),\n",
    "          `operator` varchar(100),\n",
    "          `type` varchar(100),\n",
    "          PRIMARY KEY (serial_number, registration)\n",
    "        );\n",
    "      '''\n",
    "      )"
   ],
   "metadata": {
    "collapsed": false
   }
  },
  {
   "cell_type": "code",
   "execution_count": 88,
   "outputs": [],
   "source": [
    "mycursor.execute(\n",
    "      '''\n",
    "        CREATE TABLE Flight (\n",
    "           flight_number varchar(100),\n",
    "           aboard int,\n",
    "           route varchar(100),\n",
    "           serial_number varchar(100),\n",
    "           registration varchar(100),\n",
    "           PRIMARY KEY (flight_number),\n",
    "           FOREIGN KEY (`serial_number`, `registration`) REFERENCES `Airplane` (`serial_number`, `registration`)\n",
    "        );\n",
    "      '''\n",
    "      )"
   ],
   "metadata": {
    "collapsed": false
   }
  },
  {
   "cell_type": "code",
   "execution_count": 89,
   "outputs": [],
   "source": [
    "mycursor.execute(\n",
    "    '''\n",
    "        CREATE TABLE `Crash` (\n",
    "          `index` int,\n",
    "          `date` date,\n",
    "          `time` time,\n",
    "          `location` varchar(100),\n",
    "          `summary` varchar(2000),\n",
    "          `serial_number` varchar(100),\n",
    "          `registration` varchar(100),\n",
    "          PRIMARY KEY (`index`),\n",
    "          FOREIGN KEY (`serial_number`, `registration`) REFERENCES `Airplane`(`serial_number`, `registration`)\n",
    "        );\n",
    "    '''\n",
    ")"
   ],
   "metadata": {
    "collapsed": false
   }
  },
  {
   "cell_type": "code",
   "execution_count": 90,
   "outputs": [],
   "source": [
    "mycursor.execute(\n",
    "    '''\n",
    "    CREATE TABLE `Fatalities` (\n",
    "    `crash_index` int,\n",
    "    `number_of_fatalities` int,\n",
    "    `ground` int,\n",
    "    PRIMARY KEY (`crash_index`),\n",
    "    FOREIGN KEY (`crash_index`) REFERENCES `Crash`(`index`)\n",
    ");\n",
    "    '''\n",
    ")"
   ],
   "metadata": {
    "collapsed": false
   }
  },
  {
   "cell_type": "code",
   "execution_count": 91,
   "outputs": [],
   "source": [
    "selection = dataset.iloc[3196:] #take values from 1980-90 and take all columns except from the first\n",
    "null_val = selection.isnull().sum()\n",
    "selection = selection.drop(labels='Flight #', axis=1)"
   ],
   "metadata": {
    "collapsed": false
   }
  },
  {
   "cell_type": "code",
   "execution_count": 92,
   "outputs": [
    {
     "ename": "TypeError",
     "evalue": "'list' object is not callable",
     "output_type": "error",
     "traceback": [
      "\u001B[0;31m---------------------------------------------------------------------------\u001B[0m",
      "\u001B[0;31mTypeError\u001B[0m                                 Traceback (most recent call last)",
      "\u001B[0;32m/var/folders/xr/fxzmlkxj7hj_7ywm0m_3sf8w0000gn/T/ipykernel_27505/1186193835.py\u001B[0m in \u001B[0;36m<module>\u001B[0;34m\u001B[0m\n\u001B[1;32m     14\u001B[0m \u001B[0;34m\u001B[0m\u001B[0m\n\u001B[1;32m     15\u001B[0m \u001B[0mserial_num\u001B[0m \u001B[0;34m=\u001B[0m \u001B[0mselection\u001B[0m\u001B[0;34m.\u001B[0m\u001B[0mloc\u001B[0m\u001B[0;34m[\u001B[0m\u001B[0;36m3196\u001B[0m\u001B[0;34m:\u001B[0m\u001B[0;34m,\u001B[0m \u001B[0;34m'cn/In'\u001B[0m\u001B[0;34m]\u001B[0m\u001B[0;34m\u001B[0m\u001B[0;34m\u001B[0m\u001B[0m\n\u001B[0;32m---> 16\u001B[0;31m \u001B[0mserial_num_\u001B[0m \u001B[0;34m=\u001B[0m \u001B[0mlist\u001B[0m\u001B[0;34m(\u001B[0m\u001B[0mserial_num\u001B[0m\u001B[0;34m)\u001B[0m\u001B[0;34m\u001B[0m\u001B[0;34m\u001B[0m\u001B[0m\n\u001B[0m\u001B[1;32m     17\u001B[0m \u001B[0mselection\u001B[0m \u001B[0;34m=\u001B[0m \u001B[0mselection\u001B[0m\u001B[0;34m.\u001B[0m\u001B[0mdrop\u001B[0m\u001B[0;34m(\u001B[0m\u001B[0mlabels\u001B[0m\u001B[0;34m=\u001B[0m\u001B[0;34m'cn/In'\u001B[0m\u001B[0;34m,\u001B[0m \u001B[0maxis\u001B[0m\u001B[0;34m=\u001B[0m\u001B[0;36m1\u001B[0m\u001B[0;34m)\u001B[0m\u001B[0;34m\u001B[0m\u001B[0;34m\u001B[0m\u001B[0m\n\u001B[1;32m     18\u001B[0m \u001B[0;34m\u001B[0m\u001B[0m\n",
      "\u001B[0;31mTypeError\u001B[0m: 'list' object is not callable"
     ]
    }
   ],
   "source": [
    "import random\n",
    "\n",
    "flight_number = []\n",
    "\n",
    "while len(flight_number) != 2072:\n",
    "    n = random.randint(1000, 10000)\n",
    "    if n not in flight_number:\n",
    "        flight_number.append(n)\n",
    "\n",
    "\n",
    "selection.insert(6, 'Flight#', flight_number)\n",
    "\n",
    "\n",
    "\n",
    "serial_num = selection.loc[3196:, 'cn/In']\n",
    "serial_num_ = list(serial_num)\n",
    "selection = selection.drop(labels='cn/In', axis=1)\n",
    "\n",
    "for x in range(len(serial_num_)):\n",
    "    n = random.randint(100, 8000)\n",
    "    if serial_num_[x] is np.nan:\n",
    "        while n in serial_num:\n",
    "            n = random.randint(100, 8000)\n",
    "        serial_num_[x] = str(n)\n",
    "\n",
    "selection.insert(9, 'Serial#', serial_num_)\n",
    "\n",
    "\n",
    "registration = selection.loc[3196:, 'Registration']\n",
    "registration_ = list(registration)\n",
    "selection = selection.drop(labels='Registration', axis=1)\n",
    "\n",
    "import string\n",
    "for r in range(len(registration_)):\n",
    "    reg1 = ''.join(random.choice(string.ascii_uppercase) for x in range(2))\n",
    "    reg2 = ''.join(random.choice(string.ascii_uppercase) for x in range(3))\n",
    "    reg = reg1+'-'+reg2\n",
    "    if reg not in registration_:\n",
    "        registration_[r] = reg\n",
    "\n",
    "import datetime\n",
    "from datetime import datetime\n",
    "\n",
    "times = selection['Time'].tolist()\n",
    "t2 = []\n",
    "for t in times:\n",
    "    if type(t)!=str:\n",
    "            t2.append(0)\n",
    "    else:\n",
    "        allowed_characters = ['0','1','2','3','4','5','6','7','8','9',':']\n",
    "        for i in t:\n",
    "            if i not in allowed_characters or (i == ':' in (t[0] or t[-1])):\n",
    "                t = t.replace(i,'')\n",
    "        if ':' not in t:\n",
    "            t = t[:len(t)//2]+':'+t[len(t)//2:]\n",
    "        p = t.partition(':')\n",
    "        if len(p[0]) > 2:\n",
    "            t = t[1:]\n",
    "        if len(p[2]) > 2:\n",
    "            t = t[:-1]\n",
    "        try:\n",
    "            time = datetime.strptime(t, '%H:%M').time()\n",
    "            t2.append(time)\n",
    "        except:\n",
    "            t2.append(0)\n",
    "            continue\n",
    "selection = selection.drop(labels='Time', axis=1)\n",
    "selection.insert(2, 'Time', t2)\n",
    "\n",
    "\n",
    "\n",
    "\n",
    "date = selection.loc[3196:, 'Date']\n",
    "date_ = list(date)\n",
    "datelist = [datetime.strptime(x,'%m/%d/%Y').strftime('%Y/%m/%d') for x in date_]\n",
    "#print(list)\n",
    "selection = selection.drop(labels='Date', axis=1)\n",
    "selection.insert(1, 'Date', datelist)\n",
    "\n"
   ],
   "metadata": {
    "collapsed": false
   }
  },
  {
   "cell_type": "code",
   "execution_count": null,
   "outputs": [],
   "source": [
    "datairplane = selection[['Serial#', 'Registration', 'Operator', 'Type']]"
   ],
   "metadata": {
    "collapsed": false
   }
  },
  {
   "cell_type": "code",
   "execution_count": null,
   "outputs": [],
   "source": [
    "selection.head(2000)"
   ],
   "metadata": {
    "collapsed": false
   }
  },
  {
   "cell_type": "code",
   "execution_count": null,
   "outputs": [],
   "source": [
    "for i,row in datairplane.iterrows():\n",
    "    sql = \"INSERT INTO airplane_crashes.Airplane VALUES (%s,%s,%s,%s)\"\n",
    "    mycursor.execute(sql, tuple([row['Serial#'], row['Registration'], row['Operator'], row['Type']]))\n",
    "    mydb.commit()"
   ],
   "metadata": {
    "collapsed": false
   }
  },
  {
   "cell_type": "code",
   "execution_count": null,
   "outputs": [],
   "source": [
    "#mycursor.execute(\"SELECT * FROM Airplane\")\n",
    "#result = mycursor.fetchall()\n",
    "#print(result)"
   ],
   "metadata": {
    "collapsed": false
   }
  },
  {
   "cell_type": "code",
   "execution_count": null,
   "outputs": [],
   "source": [
    "dataflight = selection[['Flight#', 'Aboard', 'Route', 'Serial#', 'Registration']]"
   ],
   "metadata": {
    "collapsed": false
   }
  },
  {
   "cell_type": "code",
   "execution_count": null,
   "outputs": [],
   "source": [
    "for i, row in dataflight.iterrows():\n",
    "    sql = \"INSERT INTO airplane_crashes.Flight VALUES (%s,%s,%s,%s,%s)\"\n",
    "    mycursor.execute(sql, tuple([row['Flight#'], row['Aboard'], row['Route'], row['Serial#'], row['Registration']]))\n",
    "\n",
    "    mydb.commit()"
   ],
   "metadata": {
    "collapsed": false
   }
  },
  {
   "cell_type": "code",
   "execution_count": null,
   "outputs": [],
   "source": [
    "datacrash = selection[['index', 'Date', 'Time', 'Location', 'Summary', 'Serial#', 'Registration']]"
   ],
   "metadata": {
    "collapsed": false
   }
  },
  {
   "cell_type": "code",
   "execution_count": null,
   "outputs": [],
   "source": [
    "for i, row in datacrash.iterrows():\n",
    "    sql = \"INSERT INTO airplane_crashes.Crash VALUES (%s,%s,%s,%s,%s,%s,%s)\"\n",
    "    mycursor.execute(sql, tuple([row['index'], row['Date'], row['Time'], row['Location'],  row['Summary'], row['Serial#'], row['Registration']]))\n",
    "\n",
    "    mydb.commit()"
   ],
   "metadata": {
    "collapsed": false
   }
  },
  {
   "cell_type": "code",
   "execution_count": null,
   "outputs": [],
   "source": [
    "datafatalities = selection[['index', 'Fatalities', 'Ground']]\n",
    "for i, row in datafatalities.iterrows():\n",
    "    sql = \"INSERT INTO airplane_crashes.Flight VALUES (%s,%s,%s)\"\n",
    "    mycursor.execute(sql, tuple([ row['index'], row['Fatalities'], row['Ground']]))\n",
    "\n",
    "    mydb.commit()"
   ],
   "metadata": {
    "collapsed": false
   }
  }
 ],
 "metadata": {
  "kernelspec": {
   "display_name": "Python 3",
   "language": "python",
   "name": "python3"
  },
  "language_info": {
   "codemirror_mode": {
    "name": "ipython",
    "version": 2
   },
   "file_extension": ".py",
   "mimetype": "text/x-python",
   "name": "python",
   "nbconvert_exporter": "python",
   "pygments_lexer": "ipython2",
   "version": "2.7.6"
  }
 },
 "nbformat": 4,
 "nbformat_minor": 0
}
