{
 "cells": [
  {
   "cell_type": "code",
   "execution_count": 1,
   "metadata": {
    "collapsed": true
   },
   "outputs": [],
   "source": [
    "import mysql.connector as mysql\n",
    "from mysql.connector import Error\n",
    "import pandas as pd\n",
    "import numpy as np"
   ]
  },
  {
   "cell_type": "code",
   "execution_count": 2,
   "outputs": [],
   "source": [
    "dataset = pd.read_csv(\"Airplane_Crashes_and_Fatalities_Since_1908.csv\")"
   ],
   "metadata": {
    "collapsed": false
   }
  },
  {
   "cell_type": "code",
   "execution_count": 3,
   "outputs": [
    {
     "name": "stdout",
     "output_type": "stream",
     "text": [
      "[('electronics',), ('example_database',), ('GoShare',), ('information_schema',), ('mid_practice',), ('movies',), ('mysql',), ('parents',), ('performance_schema',), ('sys',)]\n",
      "Database is created\n"
     ]
    }
   ],
   "source": [
    "db_name='airplane_crashes'\n",
    "try:\n",
    "    mydb = mysql.connect(host='localhost', user='root', password='franci22') # you can add the auth_plugin here too (ref line 26)\n",
    "    if mydb.is_connected():\n",
    "        mycursor = mydb.cursor()\n",
    "        mycursor.execute('SHOW DATABASES')\n",
    "        result = mycursor.fetchall()\n",
    "        print(result)\n",
    "        for x in result:\n",
    "            if db_name == x[0]:\n",
    "                mycursor.execute('DROP DATABASE ' + db_name) # delete old database\n",
    "                mydb.commit() # make the changes official\n",
    "                print(\"The database already exists! The old database has been deleted!)\")\n",
    "\n",
    "        mycursor.execute(\"CREATE DATABASE \"+ db_name)\n",
    "        print(\"Database is created\")\n",
    "except Error as e:\n",
    "    print(\"Error while connecting to MySQL\", e)"
   ],
   "metadata": {
    "collapsed": false
   }
  },
  {
   "cell_type": "code",
   "execution_count": 4,
   "outputs": [],
   "source": [
    "mycursor.execute('USE' + ' ' + db_name)"
   ],
   "metadata": {
    "collapsed": false
   }
  },
  {
   "cell_type": "code",
   "execution_count": 5,
   "outputs": [],
   "source": [
    "#create tables\n",
    "mycursor.execute(\n",
    "      '''\n",
    "        CREATE TABLE `Airplane` (\n",
    "          `serial_number` varchar(100),\n",
    "          `registration` varchar(100),\n",
    "          `operator` varchar(100),\n",
    "          `type` varchar(100),\n",
    "          PRIMARY KEY (serial_number, registration)\n",
    "        );\n",
    "      '''\n",
    "      )"
   ],
   "metadata": {
    "collapsed": false
   }
  },
  {
   "cell_type": "code",
   "execution_count": 6,
   "outputs": [],
   "source": [
    "mycursor.execute(\n",
    "      '''\n",
    "        CREATE TABLE Flight (\n",
    "           flight_number varchar(100),\n",
    "           aboard int,\n",
    "           route varchar(100),\n",
    "           serial_number varchar(100),\n",
    "           registration varchar(100),\n",
    "           PRIMARY KEY (flight_number),\n",
    "           FOREIGN KEY (`serial_number`, `registration`) REFERENCES `Airplane` (`serial_number`, `registration`)\n",
    "        );\n",
    "      '''\n",
    "      )"
   ],
   "metadata": {
    "collapsed": false
   }
  },
  {
   "cell_type": "code",
   "execution_count": 7,
   "outputs": [],
   "source": [
    "mycursor.execute(\n",
    "    '''\n",
    "        CREATE TABLE `Crash` (\n",
    "          `index` int,\n",
    "          `location` varchar(100),\n",
    "          `time` time NULL ,\n",
    "          `date` date,\n",
    "          `summary` varchar(1000),\n",
    "          `serial number` varchar(100),\n",
    "          `registration` varchar(100),\n",
    "          PRIMARY KEY (`index`),\n",
    "          FOREIGN KEY (`serial number`, `registration`) REFERENCES `Airplane`(`serial_number`, `registration`)\n",
    "        );\n",
    "    '''\n",
    ")"
   ],
   "metadata": {
    "collapsed": false
   }
  },
  {
   "cell_type": "code",
   "execution_count": 8,
   "outputs": [],
   "source": [
    "mycursor.execute(\n",
    "    '''\n",
    "    CREATE TABLE `Fatalities` (\n",
    "    `number_of_fatalities` int,\n",
    "    `ground` int,\n",
    "    `crash_index` int,\n",
    "    PRIMARY KEY (`crash_index`),\n",
    "    FOREIGN KEY (`crash_index`) REFERENCES `Crash`(`index`)\n",
    ");\n",
    "    '''\n",
    ")"
   ],
   "metadata": {
    "collapsed": false
   }
  },
  {
   "cell_type": "code",
   "execution_count": 9,
   "outputs": [],
   "source": [
    "selection = dataset.iloc[3196:] #take values from 1980-90 and take all columns except from the first\n",
    "null_val = selection.isnull().sum()\n",
    "selection = selection.drop(labels='Flight #', axis=1)"
   ],
   "metadata": {
    "collapsed": false
   }
  },
  {
   "cell_type": "code",
   "execution_count": 10,
   "outputs": [],
   "source": [
    "import random\n",
    "\n",
    "flight_number = []\n",
    "\n",
    "while len(flight_number) != 2072:\n",
    "    n = random.randint(1000, 10000)\n",
    "    if n not in flight_number:\n",
    "        flight_number.append(n)\n",
    "\n",
    "\n",
    "selection.insert(6, 'Flight#', flight_number)\n",
    "\n",
    "\n",
    "\n",
    "serial_num = selection.loc[3196:, 'cn/In']\n",
    "serial_num_ = list(serial_num)\n",
    "selection = selection.drop(labels='cn/In', axis=1)\n",
    "\n",
    "for x in range(len(serial_num_)):\n",
    "    n = random.randint(100, 8000)\n",
    "    if serial_num_[x] is np.nan:\n",
    "        while n in serial_num:\n",
    "            n = random.randint(100, 8000)\n",
    "        serial_num_[x] = str(n)\n",
    "\n",
    "selection.insert(9, 'Serial#', serial_num_)\n",
    "\n",
    "\n",
    "registration = selection.loc[3196:, 'Registration']\n",
    "registration_ = list(registration)\n",
    "selection = selection.drop(labels='Registration', axis=1)\n",
    "\n",
    "import string\n",
    "for r in range(len(registration_)):\n",
    "    reg1 = ''.join(random.choice(string.ascii_uppercase) for x in range(2))\n",
    "    reg2 = ''.join(random.choice(string.ascii_uppercase) for x in range(3))\n",
    "    reg = reg1+'-'+reg2\n",
    "    if reg not in registration_:\n",
    "        registration_[r] = reg\n",
    "\n",
    "selection.insert(8, 'Registration', registration_)\n",
    "\n",
    "import datetime\n",
    "date = selection.loc[3196:, 'Date']\n",
    "date_list = list(date)\n",
    "for i in date_list:\n",
    "    dates = datetime.datetime.strptime(i, '%m/%d/%Y')\n",
    "    new = dates.strftime('%Y/%m/%d')\n",
    "selection = selection.drop(labels='Date', axis=1)\n",
    "selection.insert(1, 'Date', new)"
   ],
   "metadata": {
    "collapsed": false
   }
  },
  {
   "cell_type": "code",
   "execution_count": 11,
   "outputs": [],
   "source": [
    "datairplane = selection[['Serial#', 'Registration', 'Operator', 'Type']]"
   ],
   "metadata": {
    "collapsed": false
   }
  },
  {
   "cell_type": "code",
   "execution_count": 12,
   "outputs": [
    {
     "data": {
      "text/plain": "      index        Date   Time                                    Location  \\\n3196   3196  2009/06/08    NaN                                       Haiti   \n3197   3197  2009/06/08  01:23                       Over the AtlantiOcean   \n3198   3198  2009/06/08  19:10  Elburz Mtns., near Laskarak, Markazi, Iran   \n3199   3199  2009/06/08    NaN                    Mt. Cemonyet,  Indonesia   \n3200   3200  2009/06/08  06:20                        Near Mandalay, Burma   \n...     ...         ...    ...                                         ...   \n5191   5191  2009/06/08  16:16         Off Macae , Rio de Janeiro , Brazil   \n5192   5192  2009/06/08  16:00                         Near Bethani, Nepal   \n5193   5193  2009/06/08  08:15                              Nbagu, Nigeria   \n5194   5194  2009/06/08  11:00                              Lawa, Suriname   \n5195   5195  2009/06/08  23:27                         Bundeena, Australia   \n\n                                         Operator  \\\n3196                              Haïti Air Inter   \n3197                              Private charter   \n3198                       Iran National Airlines   \n3199                           Pelita Air Service   \n3200          Military - Union of Burma Air Force   \n...                                           ...   \n5191  BHS - Brazilian Helicopter Service Air Taxi   \n5192                       United Nations Mission   \n5193                    Trade Wings Aviation Ltd.   \n5194                           Blue Wing Airlines   \n5195                           Avtex Air Services   \n\n                              Route  Flight#  \\\n3196  Port au Prince - Cape Haitien     1165   \n3197       Shreveport - Baton Rouge     1243   \n3198             Babol Sar - Tehran     9586   \n3199                            NaN     8926   \n3200             Mandalay - Rangoon     4017   \n...                             ...      ...   \n5191            Oil Rig P18 - Macae     5216   \n5192                            NaN     8453   \n5193         Lagos - Bebi Air Strip     1767   \n5194              Paramaribo - Lawa     8202   \n5195              Sydney - Brisbane     6612   \n\n                                   Type Registration    Serial#  Aboard  \\\n3196         Britten Norman BN Islander       CR-JYH        474     9.0   \n3197                Cessna 441 Conquest       UQ-MEL       5772     2.0   \n3198                    Boeing B-727-86       ZA-WWC  19817/537   128.0   \n3199               CASA 212 Aviocar 100       AI-GAE      45/3N    13.0   \n3200                  Fairchild FH-227H       TV-SZP        545    44.0   \n...                                 ...          ...        ...     ...   \n5191     Eurocopter  AS332L2 Super Puma       PT-QUO       2570    20.0   \n5192                              Mi-17       QN-NVT       6146    10.0   \n5193                   Beechcraft 1900D       YI-OLW     UE-322     3.0   \n5194                      Antonov An-28       ZM-BPQ  1AJ007-17    19.0   \n5195  Swearingen SA227AC Metroliner III       DB-RHL     AC-600     1.0   \n\n      Fatalities  Ground                                            Summary  \n3196         9.0     0.0  Struck high ground in poor visibility while en...  \n3197         2.0     0.0  The plane was on a 45 minute fight from Shreve...  \n3198       128.0     0.0  The aircraft crashed into a mountain during a ...  \n3199        13.0     0.0  Hit high ground at 2,700 ft. in poor weather w...  \n3200        43.0     0.0  Crashed into a building while attempting an em...  \n...          ...     ...                                                ...  \n5191         5.0     0.0  Less than half minute after the taking-off fro...  \n5192        10.0     0.0  The helicopter, carrying United Nations person...  \n5193         3.0     0.0  The plane crashed while en route. Wreckage was...  \n5194        19.0     0.0  While attempting to land the crew aborted the ...  \n5195         1.0     0.0  The pilot of the mail plane reported some mino...  \n\n[2000 rows x 14 columns]",
      "text/html": "<div>\n<style scoped>\n    .dataframe tbody tr th:only-of-type {\n        vertical-align: middle;\n    }\n\n    .dataframe tbody tr th {\n        vertical-align: top;\n    }\n\n    .dataframe thead th {\n        text-align: right;\n    }\n</style>\n<table border=\"1\" class=\"dataframe\">\n  <thead>\n    <tr style=\"text-align: right;\">\n      <th></th>\n      <th>index</th>\n      <th>Date</th>\n      <th>Time</th>\n      <th>Location</th>\n      <th>Operator</th>\n      <th>Route</th>\n      <th>Flight#</th>\n      <th>Type</th>\n      <th>Registration</th>\n      <th>Serial#</th>\n      <th>Aboard</th>\n      <th>Fatalities</th>\n      <th>Ground</th>\n      <th>Summary</th>\n    </tr>\n  </thead>\n  <tbody>\n    <tr>\n      <th>3196</th>\n      <td>3196</td>\n      <td>2009/06/08</td>\n      <td>NaN</td>\n      <td>Haiti</td>\n      <td>Haïti Air Inter</td>\n      <td>Port au Prince - Cape Haitien</td>\n      <td>1165</td>\n      <td>Britten Norman BN Islander</td>\n      <td>CR-JYH</td>\n      <td>474</td>\n      <td>9.0</td>\n      <td>9.0</td>\n      <td>0.0</td>\n      <td>Struck high ground in poor visibility while en...</td>\n    </tr>\n    <tr>\n      <th>3197</th>\n      <td>3197</td>\n      <td>2009/06/08</td>\n      <td>01:23</td>\n      <td>Over the AtlantiOcean</td>\n      <td>Private charter</td>\n      <td>Shreveport - Baton Rouge</td>\n      <td>1243</td>\n      <td>Cessna 441 Conquest</td>\n      <td>UQ-MEL</td>\n      <td>5772</td>\n      <td>2.0</td>\n      <td>2.0</td>\n      <td>0.0</td>\n      <td>The plane was on a 45 minute fight from Shreve...</td>\n    </tr>\n    <tr>\n      <th>3198</th>\n      <td>3198</td>\n      <td>2009/06/08</td>\n      <td>19:10</td>\n      <td>Elburz Mtns., near Laskarak, Markazi, Iran</td>\n      <td>Iran National Airlines</td>\n      <td>Babol Sar - Tehran</td>\n      <td>9586</td>\n      <td>Boeing B-727-86</td>\n      <td>ZA-WWC</td>\n      <td>19817/537</td>\n      <td>128.0</td>\n      <td>128.0</td>\n      <td>0.0</td>\n      <td>The aircraft crashed into a mountain during a ...</td>\n    </tr>\n    <tr>\n      <th>3199</th>\n      <td>3199</td>\n      <td>2009/06/08</td>\n      <td>NaN</td>\n      <td>Mt. Cemonyet,  Indonesia</td>\n      <td>Pelita Air Service</td>\n      <td>NaN</td>\n      <td>8926</td>\n      <td>CASA 212 Aviocar 100</td>\n      <td>AI-GAE</td>\n      <td>45/3N</td>\n      <td>13.0</td>\n      <td>13.0</td>\n      <td>0.0</td>\n      <td>Hit high ground at 2,700 ft. in poor weather w...</td>\n    </tr>\n    <tr>\n      <th>3200</th>\n      <td>3200</td>\n      <td>2009/06/08</td>\n      <td>06:20</td>\n      <td>Near Mandalay, Burma</td>\n      <td>Military - Union of Burma Air Force</td>\n      <td>Mandalay - Rangoon</td>\n      <td>4017</td>\n      <td>Fairchild FH-227H</td>\n      <td>TV-SZP</td>\n      <td>545</td>\n      <td>44.0</td>\n      <td>43.0</td>\n      <td>0.0</td>\n      <td>Crashed into a building while attempting an em...</td>\n    </tr>\n    <tr>\n      <th>...</th>\n      <td>...</td>\n      <td>...</td>\n      <td>...</td>\n      <td>...</td>\n      <td>...</td>\n      <td>...</td>\n      <td>...</td>\n      <td>...</td>\n      <td>...</td>\n      <td>...</td>\n      <td>...</td>\n      <td>...</td>\n      <td>...</td>\n      <td>...</td>\n    </tr>\n    <tr>\n      <th>5191</th>\n      <td>5191</td>\n      <td>2009/06/08</td>\n      <td>16:16</td>\n      <td>Off Macae , Rio de Janeiro , Brazil</td>\n      <td>BHS - Brazilian Helicopter Service Air Taxi</td>\n      <td>Oil Rig P18 - Macae</td>\n      <td>5216</td>\n      <td>Eurocopter  AS332L2 Super Puma</td>\n      <td>PT-QUO</td>\n      <td>2570</td>\n      <td>20.0</td>\n      <td>5.0</td>\n      <td>0.0</td>\n      <td>Less than half minute after the taking-off fro...</td>\n    </tr>\n    <tr>\n      <th>5192</th>\n      <td>5192</td>\n      <td>2009/06/08</td>\n      <td>16:00</td>\n      <td>Near Bethani, Nepal</td>\n      <td>United Nations Mission</td>\n      <td>NaN</td>\n      <td>8453</td>\n      <td>Mi-17</td>\n      <td>QN-NVT</td>\n      <td>6146</td>\n      <td>10.0</td>\n      <td>10.0</td>\n      <td>0.0</td>\n      <td>The helicopter, carrying United Nations person...</td>\n    </tr>\n    <tr>\n      <th>5193</th>\n      <td>5193</td>\n      <td>2009/06/08</td>\n      <td>08:15</td>\n      <td>Nbagu, Nigeria</td>\n      <td>Trade Wings Aviation Ltd.</td>\n      <td>Lagos - Bebi Air Strip</td>\n      <td>1767</td>\n      <td>Beechcraft 1900D</td>\n      <td>YI-OLW</td>\n      <td>UE-322</td>\n      <td>3.0</td>\n      <td>3.0</td>\n      <td>0.0</td>\n      <td>The plane crashed while en route. Wreckage was...</td>\n    </tr>\n    <tr>\n      <th>5194</th>\n      <td>5194</td>\n      <td>2009/06/08</td>\n      <td>11:00</td>\n      <td>Lawa, Suriname</td>\n      <td>Blue Wing Airlines</td>\n      <td>Paramaribo - Lawa</td>\n      <td>8202</td>\n      <td>Antonov An-28</td>\n      <td>ZM-BPQ</td>\n      <td>1AJ007-17</td>\n      <td>19.0</td>\n      <td>19.0</td>\n      <td>0.0</td>\n      <td>While attempting to land the crew aborted the ...</td>\n    </tr>\n    <tr>\n      <th>5195</th>\n      <td>5195</td>\n      <td>2009/06/08</td>\n      <td>23:27</td>\n      <td>Bundeena, Australia</td>\n      <td>Avtex Air Services</td>\n      <td>Sydney - Brisbane</td>\n      <td>6612</td>\n      <td>Swearingen SA227AC Metroliner III</td>\n      <td>DB-RHL</td>\n      <td>AC-600</td>\n      <td>1.0</td>\n      <td>1.0</td>\n      <td>0.0</td>\n      <td>The pilot of the mail plane reported some mino...</td>\n    </tr>\n  </tbody>\n</table>\n<p>2000 rows × 14 columns</p>\n</div>"
     },
     "execution_count": 12,
     "metadata": {},
     "output_type": "execute_result"
    }
   ],
   "source": [
    "selection.head(2000)"
   ],
   "metadata": {
    "collapsed": false
   }
  },
  {
   "cell_type": "code",
   "execution_count": 13,
   "outputs": [],
   "source": [
    "for i,row in datairplane.iterrows():\n",
    "    sql = \"INSERT INTO airplane_crashes.Airplane VALUES (%s,%s,%s,%s)\"\n",
    "    mycursor.execute(sql, tuple([row['Serial#'], row['Registration'], row['Operator'], row['Type']]))\n",
    "    mydb.commit()"
   ],
   "metadata": {
    "collapsed": false
   }
  },
  {
   "cell_type": "code",
   "execution_count": 14,
   "outputs": [],
   "source": [
    "#mycursor.execute(\"SELECT * FROM Airplane\")\n",
    "#result = mycursor.fetchall()\n",
    "#print(result)"
   ],
   "metadata": {
    "collapsed": false
   }
  },
  {
   "cell_type": "code",
   "execution_count": 15,
   "outputs": [],
   "source": [
    "dataflight = selection[['Flight#', 'Aboard', 'Route', 'Serial#', 'Registration']]"
   ],
   "metadata": {
    "collapsed": false
   }
  },
  {
   "cell_type": "code",
   "execution_count": 16,
   "outputs": [],
   "source": [
    "for i, row in dataflight.iterrows():\n",
    "    sql = \"INSERT INTO airplane_crashes.Flight VALUES (%s,%s,%s,%s,%s)\"\n",
    "    mycursor.execute(sql, tuple([row['Flight#'], row['Aboard'], row['Route'], row['Serial#'], row['Registration']]))\n",
    "\n",
    "    mydb.commit()"
   ],
   "metadata": {
    "collapsed": false
   }
  },
  {
   "cell_type": "code",
   "execution_count": 17,
   "outputs": [],
   "source": [
    "datacrash = selection[['index', 'Location', 'Time', 'Date', 'Summary', 'Serial#', 'Registration']]"
   ],
   "metadata": {
    "collapsed": false
   }
  },
  {
   "cell_type": "code",
   "execution_count": 18,
   "outputs": [
    {
     "ename": "DataError",
     "evalue": "1292 (22007): Incorrect time value: 'c14:30' for column 'time' at row 1",
     "output_type": "error",
     "traceback": [
      "\u001B[0;31m---------------------------------------------------------------------------\u001B[0m",
      "\u001B[0;31mDataError\u001B[0m                                 Traceback (most recent call last)",
      "\u001B[0;32m/var/folders/xr/fxzmlkxj7hj_7ywm0m_3sf8w0000gn/T/ipykernel_25434/1092418170.py\u001B[0m in \u001B[0;36m<module>\u001B[0;34m\u001B[0m\n\u001B[1;32m      1\u001B[0m \u001B[0;32mfor\u001B[0m \u001B[0mi\u001B[0m\u001B[0;34m,\u001B[0m \u001B[0mrow\u001B[0m \u001B[0;32min\u001B[0m \u001B[0mdatacrash\u001B[0m\u001B[0;34m.\u001B[0m\u001B[0miterrows\u001B[0m\u001B[0;34m(\u001B[0m\u001B[0;34m)\u001B[0m\u001B[0;34m:\u001B[0m\u001B[0;34m\u001B[0m\u001B[0;34m\u001B[0m\u001B[0m\n\u001B[1;32m      2\u001B[0m     \u001B[0msql\u001B[0m \u001B[0;34m=\u001B[0m \u001B[0;34m\"INSERT INTO airplane_crashes.Crash VALUES (%s,%s,%s,%s,%s,%s,%s)\"\u001B[0m\u001B[0;34m\u001B[0m\u001B[0;34m\u001B[0m\u001B[0m\n\u001B[0;32m----> 3\u001B[0;31m     \u001B[0mmycursor\u001B[0m\u001B[0;34m.\u001B[0m\u001B[0mexecute\u001B[0m\u001B[0;34m(\u001B[0m\u001B[0msql\u001B[0m\u001B[0;34m,\u001B[0m \u001B[0mtuple\u001B[0m\u001B[0;34m(\u001B[0m\u001B[0;34m[\u001B[0m\u001B[0mrow\u001B[0m\u001B[0;34m[\u001B[0m\u001B[0;34m'index'\u001B[0m\u001B[0;34m]\u001B[0m\u001B[0;34m,\u001B[0m \u001B[0mrow\u001B[0m\u001B[0;34m[\u001B[0m\u001B[0;34m'Location'\u001B[0m\u001B[0;34m]\u001B[0m\u001B[0;34m,\u001B[0m \u001B[0mrow\u001B[0m\u001B[0;34m[\u001B[0m\u001B[0;34m'Time'\u001B[0m\u001B[0;34m]\u001B[0m\u001B[0;34m,\u001B[0m \u001B[0mrow\u001B[0m\u001B[0;34m[\u001B[0m\u001B[0;34m'Date'\u001B[0m\u001B[0;34m]\u001B[0m\u001B[0;34m,\u001B[0m \u001B[0mrow\u001B[0m\u001B[0;34m[\u001B[0m\u001B[0;34m'Summary'\u001B[0m\u001B[0;34m]\u001B[0m\u001B[0;34m,\u001B[0m \u001B[0mrow\u001B[0m\u001B[0;34m[\u001B[0m\u001B[0;34m'Serial#'\u001B[0m\u001B[0;34m]\u001B[0m\u001B[0;34m,\u001B[0m \u001B[0mrow\u001B[0m\u001B[0;34m[\u001B[0m\u001B[0;34m'Registration'\u001B[0m\u001B[0;34m]\u001B[0m\u001B[0;34m]\u001B[0m\u001B[0;34m)\u001B[0m\u001B[0;34m)\u001B[0m\u001B[0;34m\u001B[0m\u001B[0;34m\u001B[0m\u001B[0m\n\u001B[0m\u001B[1;32m      4\u001B[0m \u001B[0;34m\u001B[0m\u001B[0m\n\u001B[1;32m      5\u001B[0m     \u001B[0mmydb\u001B[0m\u001B[0;34m.\u001B[0m\u001B[0mcommit\u001B[0m\u001B[0;34m(\u001B[0m\u001B[0;34m)\u001B[0m\u001B[0;34m\u001B[0m\u001B[0;34m\u001B[0m\u001B[0m\n",
      "\u001B[0;32m~/opt/anaconda3/lib/python3.9/site-packages/mysql/connector/cursor.py\u001B[0m in \u001B[0;36mexecute\u001B[0;34m(self, operation, params, multi)\u001B[0m\n\u001B[1;32m    559\u001B[0m \u001B[0;34m\u001B[0m\u001B[0m\n\u001B[1;32m    560\u001B[0m         \u001B[0;32mtry\u001B[0m\u001B[0;34m:\u001B[0m\u001B[0;34m\u001B[0m\u001B[0;34m\u001B[0m\u001B[0m\n\u001B[0;32m--> 561\u001B[0;31m             \u001B[0mself\u001B[0m\u001B[0;34m.\u001B[0m\u001B[0m_handle_result\u001B[0m\u001B[0;34m(\u001B[0m\u001B[0mself\u001B[0m\u001B[0;34m.\u001B[0m\u001B[0m_connection\u001B[0m\u001B[0;34m.\u001B[0m\u001B[0mcmd_query\u001B[0m\u001B[0;34m(\u001B[0m\u001B[0mstmt\u001B[0m\u001B[0;34m)\u001B[0m\u001B[0;34m)\u001B[0m\u001B[0;34m\u001B[0m\u001B[0;34m\u001B[0m\u001B[0m\n\u001B[0m\u001B[1;32m    562\u001B[0m         \u001B[0;32mexcept\u001B[0m \u001B[0mInterfaceError\u001B[0m \u001B[0;32mas\u001B[0m \u001B[0merr\u001B[0m\u001B[0;34m:\u001B[0m\u001B[0;34m\u001B[0m\u001B[0;34m\u001B[0m\u001B[0m\n\u001B[1;32m    563\u001B[0m             \u001B[0;32mif\u001B[0m \u001B[0mself\u001B[0m\u001B[0;34m.\u001B[0m\u001B[0m_connection\u001B[0m\u001B[0;34m.\u001B[0m\u001B[0mhave_next_result\u001B[0m\u001B[0;34m:\u001B[0m\u001B[0;34m\u001B[0m\u001B[0;34m\u001B[0m\u001B[0m\n",
      "\u001B[0;32m~/opt/anaconda3/lib/python3.9/site-packages/mysql/connector/connection.py\u001B[0m in \u001B[0;36mcmd_query\u001B[0;34m(self, query, raw, buffered, raw_as_string)\u001B[0m\n\u001B[1;32m    988\u001B[0m         \u001B[0mquery\u001B[0m \u001B[0;34m=\u001B[0m \u001B[0mbytes\u001B[0m\u001B[0;34m(\u001B[0m\u001B[0mpacket\u001B[0m\u001B[0;34m)\u001B[0m\u001B[0;34m\u001B[0m\u001B[0;34m\u001B[0m\u001B[0m\n\u001B[1;32m    989\u001B[0m         \u001B[0;32mtry\u001B[0m\u001B[0;34m:\u001B[0m\u001B[0;34m\u001B[0m\u001B[0;34m\u001B[0m\u001B[0m\n\u001B[0;32m--> 990\u001B[0;31m             \u001B[0mresult\u001B[0m \u001B[0;34m=\u001B[0m \u001B[0mself\u001B[0m\u001B[0;34m.\u001B[0m\u001B[0m_handle_result\u001B[0m\u001B[0;34m(\u001B[0m\u001B[0mself\u001B[0m\u001B[0;34m.\u001B[0m\u001B[0m_send_cmd\u001B[0m\u001B[0;34m(\u001B[0m\u001B[0mServerCmd\u001B[0m\u001B[0;34m.\u001B[0m\u001B[0mQUERY\u001B[0m\u001B[0;34m,\u001B[0m \u001B[0mquery\u001B[0m\u001B[0;34m)\u001B[0m\u001B[0;34m)\u001B[0m\u001B[0;34m\u001B[0m\u001B[0;34m\u001B[0m\u001B[0m\n\u001B[0m\u001B[1;32m    991\u001B[0m         \u001B[0;32mexcept\u001B[0m \u001B[0mProgrammingError\u001B[0m \u001B[0;32mas\u001B[0m \u001B[0merr\u001B[0m\u001B[0;34m:\u001B[0m\u001B[0;34m\u001B[0m\u001B[0;34m\u001B[0m\u001B[0m\n\u001B[1;32m    992\u001B[0m             \u001B[0;32mif\u001B[0m \u001B[0merr\u001B[0m\u001B[0;34m.\u001B[0m\u001B[0merrno\u001B[0m \u001B[0;34m==\u001B[0m \u001B[0;36m3948\u001B[0m \u001B[0;32mand\u001B[0m \u001B[0;34m\"Loading local data is disabled\"\u001B[0m \u001B[0;32min\u001B[0m \u001B[0merr\u001B[0m\u001B[0;34m.\u001B[0m\u001B[0mmsg\u001B[0m\u001B[0;34m:\u001B[0m\u001B[0;34m\u001B[0m\u001B[0;34m\u001B[0m\u001B[0m\n",
      "\u001B[0;32m~/opt/anaconda3/lib/python3.9/site-packages/mysql/connector/connection.py\u001B[0m in \u001B[0;36m_handle_result\u001B[0;34m(self, packet)\u001B[0m\n\u001B[1;32m    782\u001B[0m             \u001B[0;32mreturn\u001B[0m \u001B[0mself\u001B[0m\u001B[0;34m.\u001B[0m\u001B[0m_handle_eof\u001B[0m\u001B[0;34m(\u001B[0m\u001B[0mpacket\u001B[0m\u001B[0;34m)\u001B[0m\u001B[0;34m\u001B[0m\u001B[0;34m\u001B[0m\u001B[0m\n\u001B[1;32m    783\u001B[0m         \u001B[0;32mif\u001B[0m \u001B[0mpacket\u001B[0m\u001B[0;34m[\u001B[0m\u001B[0;36m4\u001B[0m\u001B[0;34m]\u001B[0m \u001B[0;34m==\u001B[0m \u001B[0;36m255\u001B[0m\u001B[0;34m:\u001B[0m\u001B[0;34m\u001B[0m\u001B[0;34m\u001B[0m\u001B[0m\n\u001B[0;32m--> 784\u001B[0;31m             \u001B[0;32mraise\u001B[0m \u001B[0mget_exception\u001B[0m\u001B[0;34m(\u001B[0m\u001B[0mpacket\u001B[0m\u001B[0;34m)\u001B[0m\u001B[0;34m\u001B[0m\u001B[0;34m\u001B[0m\u001B[0m\n\u001B[0m\u001B[1;32m    785\u001B[0m \u001B[0;34m\u001B[0m\u001B[0m\n\u001B[1;32m    786\u001B[0m         \u001B[0;31m# We have a text result set\u001B[0m\u001B[0;34m\u001B[0m\u001B[0;34m\u001B[0m\u001B[0m\n",
      "\u001B[0;31mDataError\u001B[0m: 1292 (22007): Incorrect time value: 'c14:30' for column 'time' at row 1"
     ]
    }
   ],
   "source": [
    "for i, row in datacrash.iterrows():\n",
    "    sql = \"INSERT INTO airplane_crashes.Crash VALUES (%s,%s,%s,%s,%s,%s,%s)\"\n",
    "    mycursor.execute(sql, tuple([row['index'], row['Location'], row['Time'], row['Date'], row['Summary'], row['Serial#'], row['Registration']]))\n",
    "\n",
    "    mydb.commit()"
   ],
   "metadata": {
    "collapsed": false
   }
  },
  {
   "cell_type": "code",
   "execution_count": null,
   "outputs": [],
   "source": [],
   "metadata": {
    "collapsed": false
   }
  }
 ],
 "metadata": {
  "kernelspec": {
   "display_name": "Python 3",
   "language": "python",
   "name": "python3"
  },
  "language_info": {
   "codemirror_mode": {
    "name": "ipython",
    "version": 2
   },
   "file_extension": ".py",
   "mimetype": "text/x-python",
   "name": "python",
   "nbconvert_exporter": "python",
   "pygments_lexer": "ipython2",
   "version": "2.7.6"
  }
 },
 "nbformat": 4,
 "nbformat_minor": 0
}
